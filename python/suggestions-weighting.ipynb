{
 "cells": [
  {
   "cell_type": "code",
   "execution_count": 1,
   "metadata": {},
   "outputs": [],
   "source": [
    "    import pandas as pd\n",
    "    import numpy as np\n",
    "    import json"
   ]
  },
  {
   "cell_type": "markdown",
   "metadata": {},
   "source": [
    "# read logs"
   ]
  },
  {
   "cell_type": "code",
   "execution_count": 2,
   "metadata": {},
   "outputs": [],
   "source": [
    "actions = pd.read_json(\"/Users/remim/tmp/all-2020.json\")"
   ]
  },
  {
   "cell_type": "code",
   "execution_count": 3,
   "metadata": {},
   "outputs": [
    {
     "data": {
      "text/plain": [
       "array(['unknown', 'themes', 'theme_candidates', 'home',\n",
       "       'select_suggestion', 'suggestion_candidates', 'result_candidates',\n",
       "       'search', 'select_result', 'visit_content', 'download', 'outlink',\n",
       "       'external_search', 'modeles_courriers', 'outils', 'feedback'],\n",
       "      dtype=object)"
      ]
     },
     "execution_count": 3,
     "metadata": {},
     "output_type": "execute_result"
    }
   ],
   "source": [
    "actions.type.unique()"
   ]
  },
  {
   "cell_type": "code",
   "execution_count": null,
   "metadata": {},
   "outputs": [],
   "source": []
  },
  {
   "cell_type": "markdown",
   "metadata": {},
   "source": [
    "# read current suggestion file"
   ]
  },
  {
   "cell_type": "code",
   "execution_count": 356,
   "metadata": {},
   "outputs": [],
   "source": [
    "with open('latest_entities_280120', 'r') as f :\n",
    "    lines = f.readlines()"
   ]
  },
  {
   "cell_type": "code",
   "execution_count": 357,
   "metadata": {},
   "outputs": [],
   "source": [
    "current_entities = pd.DataFrame([json.loads(e) for e in lines])"
   ]
  },
  {
   "cell_type": "code",
   "execution_count": 359,
   "metadata": {},
   "outputs": [
    {
     "data": {
      "text/html": [
       "<div>\n",
       "<style scoped>\n",
       "    .dataframe tbody tr th:only-of-type {\n",
       "        vertical-align: middle;\n",
       "    }\n",
       "\n",
       "    .dataframe tbody tr th {\n",
       "        vertical-align: top;\n",
       "    }\n",
       "\n",
       "    .dataframe thead th {\n",
       "        text-align: right;\n",
       "    }\n",
       "</style>\n",
       "<table border=\"1\" class=\"dataframe\">\n",
       "  <thead>\n",
       "    <tr style=\"text-align: right;\">\n",
       "      <th></th>\n",
       "      <th>entity</th>\n",
       "      <th>value</th>\n",
       "    </tr>\n",
       "  </thead>\n",
       "  <tbody>\n",
       "    <tr>\n",
       "      <th>0</th>\n",
       "      <td>congés familiaux</td>\n",
       "      <td>2</td>\n",
       "    </tr>\n",
       "    <tr>\n",
       "      <th>1</th>\n",
       "      <td>durée du préavis dans la boulangerie</td>\n",
       "      <td>2</td>\n",
       "    </tr>\n",
       "  </tbody>\n",
       "</table>\n",
       "</div>"
      ],
      "text/plain": [
       "                                 entity  value\n",
       "0                      congés familiaux      2\n",
       "1  durée du préavis dans la boulangerie      2"
      ]
     },
     "execution_count": 359,
     "metadata": {},
     "output_type": "execute_result"
    }
   ],
   "source": [
    "current_entities[:2]"
   ]
  },
  {
   "cell_type": "markdown",
   "metadata": {},
   "source": [
    "# find frequent unsuggested request"
   ]
  },
  {
   "cell_type": "code",
   "execution_count": 4,
   "metadata": {},
   "outputs": [],
   "source": [
    "search_actions = actions[actions.type == 'result_candidates']"
   ]
  },
  {
   "cell_type": "code",
   "execution_count": 403,
   "metadata": {},
   "outputs": [],
   "source": [
    "all_queries = search_actions['query']\n",
    "no_sugg_queries = all_queries[all_queries.apply(lambda x: str(x).lower() not in current_entities.entity.tolist())]\n"
   ]
  },
  {
   "cell_type": "code",
   "execution_count": 412,
   "metadata": {},
   "outputs": [],
   "source": [
    "def riser(n):\n",
    "    return np.around(15*np.log(n), 2)"
   ]
  },
  {
   "cell_type": "code",
   "execution_count": 440,
   "metadata": {},
   "outputs": [],
   "source": [
    "selected = [\n",
    "    'formation',\n",
    "    'rupture conventionnelle',\n",
    "    'astreinte',\n",
    "    'formation',\n",
    "    'cssct',\n",
    "    'maladie',\n",
    "    'repos compensateur',\n",
    "    'incendie',\n",
    "    'ancienneté',\n",
    "    'allaitement',\n",
    "    'préavis cdi',\n",
    "    'formation cse',\n",
    "    'clause de non concurrence',\n",
    "    'repos hebdomadaire',\n",
    "    'intéressement',\n",
    "    'maternité',\n",
    "    'repos',\n",
    "    'repas',\n",
    "    'stage',\n",
    "    'invalidité',\n",
    "    'syntec',\n",
    "    'prime macron',\n",
    "    'contrat',\n",
    "    'handicap',\n",
    "    'grossesse',\n",
    "    \"prise d'acte\",\n",
    "    'enfant malade',\n",
    "    'mutuelle',\n",
    "    'sécurité',\n",
    "    'vestiaire',\n",
    "    'document unique',\n",
    "    'assistante maternelle',\n",
    "    \"taxe d'apprentissage\",\n",
    "    'prévoyance',\n",
    "    'intérim',\n",
    "    'risque chimique',\n",
    "    'représentant syndical',\n",
    "    'rgpd',\n",
    "    'rupture',\n",
    "    'naissance',\n",
    "    'froid',\n",
    "    'métallurgie',\n",
    "    'mutation',\n",
    "    'contrat de professionnalisation'\n",
    "]"
   ]
  },
  {
   "cell_type": "code",
   "execution_count": 451,
   "metadata": {},
   "outputs": [
    {
     "data": {
      "text/plain": [
       "undefined                                6773\n",
       "rupture conventionnelle                   486\n",
       "preavis                                   242\n",
       "conges payes                              206\n",
       "astreinte                                 166\n",
       "formation                                 163\n",
       "demission                                 161\n",
       "conges                                    116\n",
       "cssct                                     109\n",
       "maladie                                   100\n",
       "congé payé                                 90\n",
       "congé                                      82\n",
       "repos compensateur                         76\n",
       "préavis cdi                                73\n",
       "incendie                                   72\n",
       "ancienneté                                 72\n",
       "allaitement                                72\n",
       "formation cse                              71\n",
       "cong%c3%a9s%20pay%c3%a9s                   70\n",
       "clause de non concurrence                  64\n",
       "repos hebdomadaire                         64\n",
       "congés payes                               63\n",
       "intéressement                              62\n",
       "periode d'essai                            62\n",
       "teletravail                                61\n",
       "maternité                                  59\n",
       "repos                                      59\n",
       "cet                                        59\n",
       "repas                                      58\n",
       "bdes                                       57\n",
       "stage                                      57\n",
       "syntec                                     54\n",
       "invalidité                                 52\n",
       "compte épargne temps                       50\n",
       "fonction publique                          48\n",
       "arret maladie                              48\n",
       "nao                                        47\n",
       "rupture%20conventionnelle                  47\n",
       "conges payés                               45\n",
       "prime macron                               44\n",
       "contrat                                    44\n",
       "handicap                                   44\n",
       "prise d'acte                               44\n",
       "l1224-1                                    43\n",
       "greve                                      42\n",
       "grossesse                                  42\n",
       "mutuelle                                   42\n",
       "enfant malade                              42\n",
       "disponibilité des droits des salariés      41\n",
       "forfait jours                              41\n",
       "Name: query, dtype: int64"
      ]
     },
     "execution_count": 451,
     "metadata": {},
     "output_type": "execute_result"
    }
   ],
   "source": [
    "counts[:50]"
   ]
  },
  {
   "cell_type": "code",
   "execution_count": 444,
   "metadata": {},
   "outputs": [],
   "source": [
    "counts = no_sugg_queries.apply(lambda x : str(x).lower()).value_counts()\n",
    "additions = [(s, 2+riser(counts.loc[s])) for s in selected]"
   ]
  },
  {
   "cell_type": "code",
   "execution_count": 448,
   "metadata": {},
   "outputs": [
    {
     "name": "stdout",
     "output_type": "stream",
     "text": [
      "{\"entity\": \"formation\", \"value\": 78.41}\n",
      "{\"entity\": \"rupture conventionnelle\", \"value\": 94.79}\n",
      "{\"entity\": \"astreinte\", \"value\": 78.68}\n",
      "{\"entity\": \"formation\", \"value\": 78.41}\n",
      "{\"entity\": \"cssct\", \"value\": 72.37}\n",
      "{\"entity\": \"maladie\", \"value\": 71.08}\n",
      "{\"entity\": \"repos compensateur\", \"value\": 66.96}\n",
      "{\"entity\": \"incendie\", \"value\": 66.15}\n",
      "{\"entity\": \"anciennet\\u00e9\", \"value\": 66.15}\n",
      "{\"entity\": \"allaitement\", \"value\": 66.15}\n",
      "{\"entity\": \"pr\\u00e9avis cdi\", \"value\": 66.36}\n",
      "{\"entity\": \"formation cse\", \"value\": 65.94}\n",
      "{\"entity\": \"clause de non concurrence\", \"value\": 64.38}\n",
      "{\"entity\": \"repos hebdomadaire\", \"value\": 64.38}\n",
      "{\"entity\": \"int\\u00e9ressement\", \"value\": 63.91}\n",
      "{\"entity\": \"maternit\\u00e9\", \"value\": 63.16}\n",
      "{\"entity\": \"repos\", \"value\": 63.16}\n",
      "{\"entity\": \"repas\", \"value\": 62.91}\n",
      "{\"entity\": \"stage\", \"value\": 62.65}\n",
      "{\"entity\": \"invalidit\\u00e9\", \"value\": 61.27}\n",
      "{\"entity\": \"syntec\", \"value\": 61.83}\n",
      "{\"entity\": \"prime macron\", \"value\": 58.76}\n",
      "{\"entity\": \"contrat\", \"value\": 58.76}\n",
      "{\"entity\": \"handicap\", \"value\": 58.76}\n",
      "{\"entity\": \"grossesse\", \"value\": 58.07}\n",
      "{\"entity\": \"prise d'acte\", \"value\": 58.76}\n",
      "{\"entity\": \"enfant malade\", \"value\": 58.07}\n",
      "{\"entity\": \"mutuelle\", \"value\": 58.07}\n",
      "{\"entity\": \"s\\u00e9curit\\u00e9\", \"value\": 57.33}\n",
      "{\"entity\": \"vestiaire\", \"value\": 56.95}\n",
      "{\"entity\": \"document unique\", \"value\": 56.95}\n",
      "{\"entity\": \"assistante maternelle\", \"value\": 56.56}\n",
      "{\"entity\": \"taxe d'apprentissage\", \"value\": 55.33}\n",
      "{\"entity\": \"pr\\u00e9voyance\", \"value\": 55.33}\n",
      "{\"entity\": \"int\\u00e9rim\", \"value\": 43.59}\n",
      "{\"entity\": \"risque chimique\", \"value\": 54.9}\n",
      "{\"entity\": \"repr\\u00e9sentant syndical\", \"value\": 53.99}\n",
      "{\"entity\": \"rgpd\", \"value\": 53.99}\n",
      "{\"entity\": \"rupture\", \"value\": 53.99}\n",
      "{\"entity\": \"naissance\", \"value\": 53.02}\n",
      "{\"entity\": \"froid\", \"value\": 53.02}\n",
      "{\"entity\": \"m\\u00e9tallurgie\", \"value\": 51.98}\n",
      "{\"entity\": \"mutation\", \"value\": 51.44}\n",
      "{\"entity\": \"contrat de professionnalisation\", \"value\": 51.44}\n"
     ]
    }
   ],
   "source": [
    "for i in [json.dumps({ 'entity': e, 'value': v }) for (e,v) in additions]:\n",
    "    print(i)"
   ]
  },
  {
   "cell_type": "code",
   "execution_count": 408,
   "metadata": {},
   "outputs": [
    {
     "data": {
      "text/plain": [
       "prime départ retraite                                                                                      1\n",
       "une entreprise peut elle supprimer les tickets restaurant                                                  1\n",
       "prime exceptionnelle                                                                                       1\n",
       "qui a droit à la prime de précarité ?                                                                      1\n",
       "calcul solde de tout compte et primes                                                                      1\n",
       "prime                                                                                                      1\n",
       "accident de travail et primes                                                                              1\n",
       "prime de précarité convention banque cdd                                                                   1\n",
       "versement immédiat de la prime de participation                                                            1\n",
       "prime précarité                                                                                            1\n",
       "qu'est-ce que la prime d'ancienneté ?                                                                      1\n",
       "prime de licenciement en cas de liquidation judiciaire                                                     1\n",
       "taux prime d'ancienneté                                                                                    1\n",
       "prime de départ à la retraite                                                                              1\n",
       "prime précarité cdd                                                                                        1\n",
       "prime de participation                                                                                     1\n",
       "ai-je droit à une prime d'ancienneté ?                                                                     1\n",
       "fin de cdd et prime de précarité                                                                           1\n",
       "prime de précarité                                                                                         1\n",
       "quand doit être payée la prime d'ancienneté ?                                                              1\n",
       "prime d'ancienneté cadre                                                                                   1\n",
       "prime d'activité                                                                                           1\n",
       "comment calculer la prime de précarité ?                                                                   1\n",
       "démission et prime d'intéressement                                                                         1\n",
       "blocage de la prime de participation                                                                       1\n",
       "prime travailleur isolé                                                                                    1\n",
       "comment se calcule la prime d'ancienneté ?                                                                 1\n",
       "quel est le montant de la prime de départ à la retraite ?                                                  1\n",
       "cdd prime de précarité                                                                                     1\n",
       "quel est le nombre d’exemplaires de rupture conventionnelle individuelle à imprimer depuis ce portail ?    1\n",
       "qui a droit à la prime d'ancienneté ?                                                                      1\n",
       "prime d'ancienneté                                                                                         1\n",
       "Name: entity, dtype: int64"
      ]
     },
     "execution_count": 408,
     "metadata": {},
     "output_type": "execute_result"
    }
   ],
   "source": [
    "current_entities[current_entities['entity'].apply(lambda x : 'prime' in x.lower())]['entity'].value_counts()"
   ]
  },
  {
   "cell_type": "code",
   "execution_count": 426,
   "metadata": {},
   "outputs": [
    {
     "data": {
      "text/plain": [
       "False"
      ]
     },
     "execution_count": 426,
     "metadata": {},
     "output_type": "execute_result"
    }
   ],
   "source": [
    "'enfant malade' in current_entities.entity.tolist()"
   ]
  },
  {
   "cell_type": "code",
   "execution_count": 423,
   "metadata": {},
   "outputs": [
    {
     "data": {
      "text/plain": [
       "True"
      ]
     },
     "execution_count": 423,
     "metadata": {},
     "output_type": "execute_result"
    }
   ],
   "source": [
    "'disponibilité des droits des salariés' == 'disponibilité des droits des salariés'"
   ]
  },
  {
   "cell_type": "code",
   "execution_count": null,
   "metadata": {},
   "outputs": [],
   "source": [
    "np.around(15*np.log(sugg_counts.values), 2)"
   ]
  },
  {
   "cell_type": "markdown",
   "metadata": {},
   "source": [
    "# read logs and count suggestions"
   ]
  },
  {
   "cell_type": "code",
   "execution_count": 251,
   "metadata": {},
   "outputs": [],
   "source": []
  },
  {
   "cell_type": "code",
   "execution_count": 5,
   "metadata": {},
   "outputs": [],
   "source": [
    "select_sugg_actions = actions[actions.type == 'select_suggestion']"
   ]
  },
  {
   "cell_type": "code",
   "execution_count": 6,
   "metadata": {},
   "outputs": [
    {
     "name": "stderr",
     "output_type": "stream",
     "text": [
      "/Users/remim/dev/cdtn/.python-env/lib/python3.7/site-packages/ipykernel_launcher.py:1: SettingWithCopyWarning: \n",
      "A value is trying to be set on a copy of a slice from a DataFrame.\n",
      "Try using .loc[row_indexer,col_indexer] = value instead\n",
      "\n",
      "See the caveats in the documentation: http://pandas.pydata.org/pandas-docs/stable/user_guide/indexing.html#returning-a-view-versus-a-copy\n",
      "  \"\"\"Entry point for launching an IPython kernel.\n"
     ]
    }
   ],
   "source": [
    "select_sugg_actions['prefix_size'] = select_sugg_actions.prefix.apply(lambda p: len(p))"
   ]
  },
  {
   "cell_type": "code",
   "execution_count": 7,
   "metadata": {
    "scrolled": true
   },
   "outputs": [],
   "source": [
    "min_occ = 40\n",
    "\n",
    "sugg_counts = select_sugg_actions['sugg_selection'].value_counts()\n",
    "\n",
    "sugg_occ = sugg_counts.index[sugg_counts.values > min_occ].values\n",
    "\n",
    "prefix_average = pd.Series(sugg_occ).apply(lambda s : round(select_sugg_actions[select_sugg_actions.sugg_selection == s].prefix_size.describe()['mean']))                                                "
   ]
  },
  {
   "cell_type": "code",
   "execution_count": null,
   "metadata": {},
   "outputs": [],
   "source": []
  },
  {
   "cell_type": "code",
   "execution_count": null,
   "metadata": {},
   "outputs": [],
   "source": []
  },
  {
   "cell_type": "code",
   "execution_count": 13,
   "metadata": {},
   "outputs": [
    {
     "name": "stdout",
     "output_type": "stream",
     "text": [
      "rupture conventionnelle cdi 894\n",
      "congés payés 512\n",
      "heures supplémentaires 334\n",
      "indemnités de licenciement 324\n",
      "convention collective 319\n",
      "licenciement économique 299\n",
      "heures de délégation 223\n",
      "entretien professionnel 170\n",
      "affichage obligatoire 150\n",
      "accident du travail 144\n",
      "heures supplémentaires non payées 137\n",
      "congé enfant malade 137\n",
      "licenciement pour faute grave 127\n",
      "congé maternité 120\n",
      "règlement intérieur 111\n",
      "délégué syndical 110\n",
      "sécurité incendie 95\n",
      "avenant au contrat de travail 94\n",
      "rupture conventionnelle individuelle indemnité de rupture 91\n",
      "jours de fractionnement 89\n",
      "document unique d'évaluation des risques 89\n",
      "durée du travail et temps de travail 89\n",
      "augmentation de salaire 88\n",
      "les congés pour événements familiaux 84\n",
      "durée du préavis de démission 82\n",
      "temps de trajet 78\n",
      "indemnités frais de repas 77\n",
      "prime de départ à la retraite 77\n",
      "frais de déplacement trajet domicile travail 76\n",
      "mutuelle santé obligatoire 75\n",
      "contrat de travail 75\n",
      "indemnité de départ à la retraite 73\n",
      "travailleur de nuit 73\n",
      "changement de planning 71\n",
      "le paiement des heures supplémentaires 69\n",
      "comité social et économique 68\n",
      "harcèlement moral au travail 67\n",
      "rupture de période d'essai 67\n",
      "contrat de professionnalisation cdd 66\n",
      "congés payés et préavis 66\n",
      "décompte heures supplémentaires 64\n",
      "rupture conventionnelle individuelle 62\n",
      "temps de trajet travail 62\n",
      "cdd et période d'essai 61\n",
      "durée de préavis pour démission 61\n",
      "mi-temps thérapeutique 61\n",
      "temps de travail et durée légale 60\n",
      "grille de salaire 58\n",
      "indemnité de licenciement 58\n",
      "arrêt maladie longue durée 58\n",
      "modification horaires de travail 55\n",
      "indemnités chômage 54\n",
      "congés d'ancienneté 54\n",
      "temps de travail et temps de travail effectif 54\n",
      "préavis et travailleurs handicapés 53\n",
      "durée de préavis 53\n",
      "délai de prévenance période d'essai 52\n",
      "sanctions disciplinaires 52\n",
      "fonction publique hospitalière et indemnités 51\n",
      "refus congés payés 51\n",
      "conseil de prud'hommes 51\n",
      "congé paternité 51\n",
      "période d'essai : rupture et délai de prévenance 50\n",
      "le cse pour les nuls 50\n",
      "abandon de poste cdi 49\n",
      "changement des horaires de travail 49\n",
      "rupture de contrat 49\n",
      "quelle est la durée maximale d'un contrat de travail intérimaire ? 48\n",
      "accords d'entreprise 48\n",
      "obligation de sécurité de résultat de l'employeur 47\n",
      "température légale pour travailler 47\n",
      "élections cse 47\n",
      "fiche de paie 46\n",
      "annualisation du temps de travail 46\n",
      "déménagement 46\n",
      "préavis démission 46\n",
      "durée du travail 45\n",
      "obligation de sécurité 45\n",
      "préavis et prise d'acte de rupture 45\n",
      "grille salaire convention collective 45\n",
      "modulation du temps de travail 44\n",
      "convocation entretien préalable de licenciement 44\n",
      "accord d'intéressement 44\n",
      "commission santé sécurité et conditions de travail 43\n",
      "prime d'ancienneté 43\n",
      "travail du dimanche 43\n",
      "travail de nuit 43\n",
      "jours fériés jours chômés 43\n",
      "panier repas obligatoire ou pas 42\n",
      "cumuler deux emplois 42\n",
      "transfert d'entreprise 41\n",
      "accident de trajet 41\n",
      "congés imposés par l' employeur 41\n",
      "travail en hauteur 41\n",
      "départ volontaire à la retraite 41\n"
     ]
    },
    {
     "data": {
      "text/plain": [
       "[None,\n",
       " None,\n",
       " None,\n",
       " None,\n",
       " None,\n",
       " None,\n",
       " None,\n",
       " None,\n",
       " None,\n",
       " None,\n",
       " None,\n",
       " None,\n",
       " None,\n",
       " None,\n",
       " None,\n",
       " None,\n",
       " None,\n",
       " None,\n",
       " None,\n",
       " None,\n",
       " None,\n",
       " None,\n",
       " None,\n",
       " None,\n",
       " None,\n",
       " None,\n",
       " None,\n",
       " None,\n",
       " None,\n",
       " None,\n",
       " None,\n",
       " None,\n",
       " None,\n",
       " None,\n",
       " None,\n",
       " None,\n",
       " None,\n",
       " None,\n",
       " None,\n",
       " None,\n",
       " None,\n",
       " None,\n",
       " None,\n",
       " None,\n",
       " None,\n",
       " None,\n",
       " None,\n",
       " None,\n",
       " None,\n",
       " None,\n",
       " None,\n",
       " None,\n",
       " None,\n",
       " None,\n",
       " None,\n",
       " None,\n",
       " None,\n",
       " None,\n",
       " None,\n",
       " None,\n",
       " None,\n",
       " None,\n",
       " None,\n",
       " None,\n",
       " None,\n",
       " None,\n",
       " None,\n",
       " None,\n",
       " None,\n",
       " None,\n",
       " None,\n",
       " None,\n",
       " None,\n",
       " None,\n",
       " None,\n",
       " None,\n",
       " None,\n",
       " None,\n",
       " None,\n",
       " None,\n",
       " None,\n",
       " None,\n",
       " None,\n",
       " None,\n",
       " None,\n",
       " None,\n",
       " None,\n",
       " None,\n",
       " None,\n",
       " None,\n",
       " None,\n",
       " None,\n",
       " None,\n",
       " None,\n",
       " None]"
      ]
     },
     "execution_count": 13,
     "metadata": {},
     "output_type": "execute_result"
    }
   ],
   "source": [
    "[print(f\"{i} {sugg_counts[i]}\") for i in sugg_occ[prefix_average[prefix_average > 10].index]]"
   ]
  },
  {
   "cell_type": "code",
   "execution_count": 21,
   "metadata": {},
   "outputs": [
    {
     "name": "stdout",
     "output_type": "stream",
     "text": [
      "count : 334\n",
      "average prefix size : 14.0\n"
     ]
    },
    {
     "data": {
      "text/plain": [
       "8278                heures suppléé\n",
       "9836                     Heure sup\n",
       "14327                    heures su\n",
       "15659                   Heures sup\n",
       "21231       heures supplémentaires\n",
       "27423       heures supplémentaires\n",
       "32421                  heures supp\n",
       "33391                  heures supp\n",
       "34580    rémunération heures suppl\n",
       "45558                  Heures supp\n",
       "47525                  heures supp\n",
       "54643                   heures sup\n",
       "71312       heures supplémentaires\n",
       "71316                    heures su\n",
       "72234       Heures supplémentaires\n",
       "75169                    Heures su\n",
       "77009                     heure su\n",
       "86255       heures supplémentaires\n",
       "89763                    heures su\n",
       "89767                   heure supp\n",
       "89788       heures supplémentaires\n",
       "90961       heures supplémentaires\n",
       "91247                heures supple\n",
       "91901       heures supplementaires\n",
       "91906       heures supplementaires\n",
       "92350                    heures su\n",
       "92470       heures supplémentaires\n",
       "92477       heures supplémentaires\n",
       "92644                   heure supp\n",
       "97995                   Heures sup\n",
       "Name: prefix, dtype: object"
      ]
     },
     "execution_count": 21,
     "metadata": {},
     "output_type": "execute_result"
    }
   ],
   "source": [
    "#exemple = \"congés payés\"\n",
    "#exemple = \"rupture conventionnelle cdi\"\n",
    "exemple = \"heures supplémentaires\"\n",
    "print(\"count : \" + str(sugg_counts[exemple]))\n",
    "print(\"average prefix size : \" + str(round(select_sugg_actions[select_sugg_actions.sugg_selection == exemple].prefix_size.describe()['mean'])))\n",
    "select_sugg_actions[select_sugg_actions.sugg_selection == exemple]['prefix'][:30]"
   ]
  },
  {
   "cell_type": "code",
   "execution_count": 172,
   "metadata": {},
   "outputs": [],
   "source": []
  },
  {
   "cell_type": "markdown",
   "metadata": {},
   "source": [
    "# update weights accordingly (with log to respect scale)"
   ]
  },
  {
   "cell_type": "code",
   "execution_count": 291,
   "metadata": {},
   "outputs": [],
   "source": [
    "sugg_log = pd.DataFrame(index = sugg_counts.index.values, data = {'entity' : sugg_counts.index.values, 'log' : np.around(15*np.log(sugg_counts.values), 2), 'count' : sugg_counts.values})"
   ]
  },
  {
   "cell_type": "code",
   "execution_count": 292,
   "metadata": {},
   "outputs": [
    {
     "data": {
      "text/plain": [
       "entity    heures dif\n",
       "log             42.5\n",
       "count             17\n",
       "Name: heures dif, dtype: object"
      ]
     },
     "execution_count": 292,
     "metadata": {},
     "output_type": "execute_result"
    }
   ],
   "source": [
    "sugg_log.loc['heures dif']"
   ]
  },
  {
   "cell_type": "code",
   "execution_count": 293,
   "metadata": {},
   "outputs": [
    {
     "data": {
      "text/plain": [
       "entity    heures supplémentaires\n",
       "log                        83.75\n",
       "count                        266\n",
       "Name: heures supplémentaires, dtype: object"
      ]
     },
     "execution_count": 293,
     "metadata": {},
     "output_type": "execute_result"
    }
   ],
   "source": [
    "sugg_log.loc['heures supplémentaires']"
   ]
  },
  {
   "cell_type": "code",
   "execution_count": 294,
   "metadata": {},
   "outputs": [],
   "source": [
    "augmentation = current_entities['entity'].apply(lambda x : sugg_log.loc[x]['log'] if x in sugg_log.index else 0)\n"
   ]
  },
  {
   "cell_type": "code",
   "execution_count": 295,
   "metadata": {},
   "outputs": [],
   "source": [
    "current_entities['new_value'] = current_entities['value'] + augmentation\n",
    "current_entities['count'] = current_entities['entity'].apply(lambda x : sugg_log.loc[x]['count'] if x in sugg_log.index else 0)\n",
    "\n"
   ]
  },
  {
   "cell_type": "code",
   "execution_count": 296,
   "metadata": {},
   "outputs": [],
   "source": [
    "new_entities = current_entities[['entity', 'new_value']]"
   ]
  },
  {
   "cell_type": "code",
   "execution_count": 297,
   "metadata": {},
   "outputs": [
    {
     "data": {
      "text/plain": [
       "['{\"entity\": \"cong\\\\u00e9s familiaux\", \"value\": 2}\\n',\n",
       " '{\"entity\": \"dur\\\\u00e9e du pr\\\\u00e9avis dans la boulangerie\", \"value\": 2}\\n']"
      ]
     },
     "execution_count": 297,
     "metadata": {},
     "output_type": "execute_result"
    }
   ],
   "source": [
    "lines[:2]"
   ]
  },
  {
   "cell_type": "code",
   "execution_count": 318,
   "metadata": {},
   "outputs": [
    {
     "data": {
      "text/plain": [
       "count    2781.000000\n",
       "mean       28.168382\n",
       "std        19.513451\n",
       "min         2.000000\n",
       "25%        10.000000\n",
       "50%        26.480000\n",
       "75%        41.190000\n",
       "max       110.920000\n",
       "Name: new_value, dtype: float64"
      ]
     },
     "execution_count": 318,
     "metadata": {},
     "output_type": "execute_result"
    }
   ],
   "source": [
    "new_entities['new_value'].describe()"
   ]
  },
  {
   "cell_type": "code",
   "execution_count": 338,
   "metadata": {},
   "outputs": [],
   "source": [
    "# add some non existing suggestion\n",
    "new_entities = new_entities.append(pd.DataFrame([\n",
    "    ['informer maternité', '10'],\n",
    "    ['révéler maternité', '10']],\n",
    "    columns=['entity', 'new_value']\n",
    "))"
   ]
  },
  {
   "cell_type": "code",
   "execution_count": 340,
   "metadata": {},
   "outputs": [
    {
     "ename": "IndexError",
     "evalue": "index 0 is out of bounds for axis 0 with size 0",
     "output_type": "error",
     "traceback": [
      "\u001b[0;31m---------------------------------------------------------------------------\u001b[0m",
      "\u001b[0;31mIndexError\u001b[0m                                Traceback (most recent call last)",
      "\u001b[0;32m<ipython-input-340-8fe07451eb75>\u001b[0m in \u001b[0;36m<module>\u001b[0;34m\u001b[0m\n\u001b[1;32m      1\u001b[0m \u001b[0;31m# manual tweaks : patron drogue - ajouts - CDD\u001b[0m\u001b[0;34m\u001b[0m\u001b[0;34m\u001b[0m\u001b[0;34m\u001b[0m\u001b[0m\n\u001b[1;32m      2\u001b[0m \u001b[0;34m\u001b[0m\u001b[0m\n\u001b[0;32m----> 3\u001b[0;31m \u001b[0mto_drop\u001b[0m \u001b[0;34m=\u001b[0m \u001b[0mnew_entities\u001b[0m\u001b[0;34m[\u001b[0m\u001b[0mnew_entities\u001b[0m\u001b[0;34m.\u001b[0m\u001b[0mentity\u001b[0m \u001b[0;34m==\u001b[0m \u001b[0;34m'mon patron se drogue'\u001b[0m\u001b[0;34m]\u001b[0m\u001b[0;34m.\u001b[0m\u001b[0mindex\u001b[0m\u001b[0;34m[\u001b[0m\u001b[0;36m0\u001b[0m\u001b[0;34m]\u001b[0m\u001b[0;34m\u001b[0m\u001b[0;34m\u001b[0m\u001b[0m\n\u001b[0m\u001b[1;32m      4\u001b[0m \u001b[0mnew_entities\u001b[0m\u001b[0;34m.\u001b[0m\u001b[0mdrop\u001b[0m\u001b[0;34m(\u001b[0m\u001b[0mto_drop\u001b[0m\u001b[0;34m,\u001b[0m \u001b[0minplace\u001b[0m\u001b[0;34m=\u001b[0m\u001b[0;32mTrue\u001b[0m\u001b[0;34m)\u001b[0m\u001b[0;34m\u001b[0m\u001b[0;34m\u001b[0m\u001b[0m\n\u001b[1;32m      5\u001b[0m \u001b[0;34m\u001b[0m\u001b[0m\n",
      "\u001b[0;32m~/dev/cdtn/.python-env/lib/python3.7/site-packages/pandas/core/indexes/base.py\u001b[0m in \u001b[0;36m__getitem__\u001b[0;34m(self, key)\u001b[0m\n\u001b[1;32m   4278\u001b[0m         \u001b[0;32mif\u001b[0m \u001b[0mis_scalar\u001b[0m\u001b[0;34m(\u001b[0m\u001b[0mkey\u001b[0m\u001b[0;34m)\u001b[0m\u001b[0;34m:\u001b[0m\u001b[0;34m\u001b[0m\u001b[0;34m\u001b[0m\u001b[0m\n\u001b[1;32m   4279\u001b[0m             \u001b[0mkey\u001b[0m \u001b[0;34m=\u001b[0m \u001b[0mcom\u001b[0m\u001b[0;34m.\u001b[0m\u001b[0mcast_scalar_indexer\u001b[0m\u001b[0;34m(\u001b[0m\u001b[0mkey\u001b[0m\u001b[0;34m)\u001b[0m\u001b[0;34m\u001b[0m\u001b[0;34m\u001b[0m\u001b[0m\n\u001b[0;32m-> 4280\u001b[0;31m             \u001b[0;32mreturn\u001b[0m \u001b[0mgetitem\u001b[0m\u001b[0;34m(\u001b[0m\u001b[0mkey\u001b[0m\u001b[0;34m)\u001b[0m\u001b[0;34m\u001b[0m\u001b[0;34m\u001b[0m\u001b[0m\n\u001b[0m\u001b[1;32m   4281\u001b[0m \u001b[0;34m\u001b[0m\u001b[0m\n\u001b[1;32m   4282\u001b[0m         \u001b[0;32mif\u001b[0m \u001b[0misinstance\u001b[0m\u001b[0;34m(\u001b[0m\u001b[0mkey\u001b[0m\u001b[0;34m,\u001b[0m \u001b[0mslice\u001b[0m\u001b[0;34m)\u001b[0m\u001b[0;34m:\u001b[0m\u001b[0;34m\u001b[0m\u001b[0;34m\u001b[0m\u001b[0m\n",
      "\u001b[0;31mIndexError\u001b[0m: index 0 is out of bounds for axis 0 with size 0"
     ]
    }
   ],
   "source": [
    "# manual tweaks : patron drogue - ajouts - CDD\n",
    "\n",
    "to_drop = new_entities[new_entities.entity == 'mon patron se drogue'].index[0]\n",
    "new_entities.drop(to_drop, inplace=True)\n",
    "\n",
    "entity = new_entities[new_entities.entity == 'cdd']\n",
    "new_entities.set_value(entity.index[0], 'new_value', 50)\n",
    "#new_entities[new_entities.entity == 'cdd']\n"
   ]
  },
  {
   "cell_type": "code",
   "execution_count": 331,
   "metadata": {},
   "outputs": [],
   "source": [
    "# write back entities"
   ]
  },
  {
   "cell_type": "code",
   "execution_count": 341,
   "metadata": {},
   "outputs": [],
   "source": [
    "new_lines = []\n",
    "for _,row in new_entities.iterrows():\n",
    "    obj = { \n",
    "        'entity': row['entity'],\n",
    "        'value': row['new_value']\n",
    "          }\n",
    "    new_lines.append(json.dumps(obj))"
   ]
  },
  {
   "cell_type": "code",
   "execution_count": 342,
   "metadata": {},
   "outputs": [],
   "source": [
    "raw = '\\n'.join(new_lines)"
   ]
  },
  {
   "cell_type": "code",
   "execution_count": 343,
   "metadata": {},
   "outputs": [],
   "source": [
    "with open('new_sugg', 'w+') as f:\n",
    "    f.write(raw)"
   ]
  },
  {
   "cell_type": "code",
   "execution_count": null,
   "metadata": {},
   "outputs": [],
   "source": []
  },
  {
   "cell_type": "code",
   "execution_count": null,
   "metadata": {},
   "outputs": [],
   "source": []
  }
 ],
 "metadata": {
  "kernelspec": {
   "display_name": "Python 3",
   "language": "python",
   "name": "python3"
  },
  "language_info": {
   "codemirror_mode": {
    "name": "ipython",
    "version": 3
   },
   "file_extension": ".py",
   "mimetype": "text/x-python",
   "name": "python",
   "nbconvert_exporter": "python",
   "pygments_lexer": "ipython3",
   "version": "3.7.3"
  }
 },
 "nbformat": 4,
 "nbformat_minor": 2
}
