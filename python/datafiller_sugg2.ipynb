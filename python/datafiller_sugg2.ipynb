{
 "cells": [
  {
   "cell_type": "code",
   "execution_count": 1,
   "metadata": {},
   "outputs": [],
   "source": [
    "import pandas as pd\n",
    "import numpy as np\n",
    "import json\n",
    "from datasketch import MinHash, MinHashLSH\n",
    "from nltk import ngrams"
   ]
  },
  {
   "cell_type": "code",
   "execution_count": 2,
   "metadata": {},
   "outputs": [],
   "source": [
    "# read latest datafiller content\n",
    "df_content = pd.read_csv(\"../log-analysis/df_suggestion_qualification-1712.csv\")\n",
    "df_content.rename( columns={'Unnamed: 0':'idx'}, inplace=True)\n",
    "df_content[\"Candidat\"] = df_content[\"Candidat\"].apply(lambda c : str(c).strip().lower())\n",
    "df_content[\"Entrée\"] = df_content[\"Entrée\"].apply(lambda c : str(c).strip().lower())"
   ]
  },
  {
   "cell_type": "code",
   "execution_count": 3,
   "metadata": {},
   "outputs": [],
   "source": [
    "# read candidate files\n",
    "candidates_content = pd.read_csv(\"jrv.csv\")\n",
    "candidates_content.rename( columns={'Unnamed: 0':'idx'}, inplace=True)\n",
    "candidates_content.dropna(subset=['idx'], inplace=True)\n",
    "candidates_content['idx'] = candidates_content.idx.astype(int)\n",
    "candidates_content[\"Candidat\"] = candidates_content[\"Candidat\"].apply(lambda c : str(c).strip().lower())\n",
    "candidates_content[\"Entrée\"] = candidates_content[\"Entrée\"].apply(lambda c : str(c).strip().lower())"
   ]
  },
  {
   "cell_type": "code",
   "execution_count": 4,
   "metadata": {},
   "outputs": [],
   "source": [
    "candidates_to_keep = candidates_content[candidates_content[\"Conserver\"] > 0]"
   ]
  },
  {
   "cell_type": "code",
   "execution_count": 5,
   "metadata": {},
   "outputs": [],
   "source": [
    "def exists_in_latest(entry):\n",
    "    entree = entry['Entrée']\n",
    "    candidat = entry['Candidat']\n",
    "    idx = entry.idx\n",
    "    \n",
    "    return df_content[df_content['Candidat'] == candidat].shape[0] > 0    "
   ]
  },
  {
   "cell_type": "code",
   "execution_count": 6,
   "metadata": {},
   "outputs": [],
   "source": [
    "# for each candidate to keep, we ensure it didn't change in the latest Datafiller content (spelling, typo...)\n",
    "candidates_found = candidates_to_keep.apply(lambda x : exists_in_latest(x), axis=1)"
   ]
  },
  {
   "cell_type": "code",
   "execution_count": 7,
   "metadata": {},
   "outputs": [],
   "source": [
    "no_problem = candidates_to_keep[candidates_found]\n",
    "to_correct = candidates_to_keep[~candidates_found]"
   ]
  },
  {
   "cell_type": "code",
   "execution_count": 8,
   "metadata": {},
   "outputs": [],
   "source": [
    "lsh = MinHashLSH(threshold=0.8, num_perm=128)\n",
    "\n",
    "minhashes = {}\n",
    "for c, i in enumerate(df_content['Candidat']):\n",
    "    minhash = MinHash(num_perm=128)\n",
    "    for d in ngrams(i, 3):\n",
    "        minhash.update(\"\".join(d).encode('utf-8'))\n",
    "    lsh.insert(c, minhash)\n",
    "    minhashes[c] = minhash"
   ]
  },
  {
   "cell_type": "code",
   "execution_count": 9,
   "metadata": {},
   "outputs": [],
   "source": [
    "def search_candidate(doc):\n",
    "    minhash = MinHash(num_perm=128)\n",
    "    for d in ngrams(doc, 3):\n",
    "        minhash.update(\"\".join(d).encode('utf-8'))\n",
    "\n",
    "    search = lsh.query(minhash)\n",
    "\n",
    "    if (len(search) == 1):\n",
    "        return df_content.iloc[search[0]]['Candidat']\n",
    "    elif (len(search) > 1):\n",
    "        print('Too many results : ' + doc)\n",
    "        return np.NaN\n",
    "    else :\n",
    "        print('Not found : ' + doc)\n",
    "        return np.NaN"
   ]
  },
  {
   "cell_type": "code",
   "execution_count": 10,
   "metadata": {
    "scrolled": true
   },
   "outputs": [
    {
     "name": "stdout",
     "output_type": "stream",
     "text": [
      "Too many results : à combien de congés ai-je droit\n",
      "Too many results : à combien de congés payés ai-je droit\n",
      "Too many results : accord rupture conventionnelle collective\n",
      "Not found : acquisition congés payés pendant arrêt longue maladie\n",
      "Not found : acquisition congés payés pendant arrêt maladie\n",
      "Too many results : aménagement temps de travail\n",
      "Not found : arret maladie puis congés payés\n",
      "Not found : assistance entretien sanction disciplinaire\n",
      "Not found : attestation pole emploi délai\n",
      "Not found : calcul ancienneté et période de suspension\n",
      "Not found : calcul ancienneté indemnité de licenciement\n",
      "Not found : calcul ancienneté mois incomplet\n",
      "Not found : calcul ancienneté passage cdd à cdi\n",
      "Not found : calcul ancienneté professionnelle\n",
      "Not found : calcul ancienneté rupture conventionnelle\n",
      "Not found : calcul ancienneté succession cdd\n",
      "Not found : calcul congé payé année incomplète\n",
      "Not found : calcul congé payé et accident du travail\n",
      "Not found : calcul congé payé et activité partielle\n",
      "Not found : calcul congé payé et congé d'adoption\n",
      "Not found : calcul congé payé et congé paternité\n",
      "Too many results : calcul congés payés pour cdd\n",
      "Not found : calcul de l' ancienneté\n",
      "Not found : calendrier élection cse\n",
      "Not found : chomage après licenciement pour faute grave\n",
      "Too many results : comment calculer l'indemnité rupture conventionnelle\n",
      "Too many results : comment calculer le montant de l'indemnité de licenciement\n",
      "Too many results : comment demander un congé sabbatique\n",
      "Too many results : comment demander un congé sans solde\n",
      "Too many results : comment écrire une lettre de licenciement\n",
      "Not found : composition cse central\n",
      "Not found : congé pour décès grand parent\n",
      "Not found : coordonnées inspection du travail\n",
      "Not found : cumul d' emplois\n",
      "Too many results : cumul emploi - retraite total\n",
      "Not found : date paiement salaire\n",
      "Not found : démission légitime chomage\n",
      "Not found : différence faute grave faute lourde\n",
      "Not found : différence jour ouvré jour ouvrable\n",
      "Not found : différence jour ouvré jour ouvrable\n",
      "Too many results : documents obligatoires fin de contrat de travail délai\n",
      "Not found : droit de retrait harcelement\n",
      "Not found : élections cse\n",
      "Not found : entretien préalable licenciement économique\n",
      "Not found : fermeture chomage partiel\n",
      "Not found : fin de cdd et chomage\n",
      "Not found : formalisme contrat de travail\n",
      "Not found : formalités démission\n",
      "Too many results : inaptitude à tout poste dans l'entreprise.\n",
      "Not found : inaptitude au travail et chomage\n",
      "Not found : indemnisation accident du travail\n",
      "Not found : indemnisation chomage partiel\n",
      "Not found : qui verse les indemnités journalières ?\n",
      "Too many results : salariée enceinte médical\n"
     ]
    }
   ],
   "source": [
    "found = to_correct['Candidat'].apply(lambda x : search_candidate(x))"
   ]
  },
  {
   "cell_type": "code",
   "execution_count": 11,
   "metadata": {},
   "outputs": [],
   "source": [
    "corrected_auto = found.dropna()"
   ]
  },
  {
   "cell_type": "code",
   "execution_count": 12,
   "metadata": {},
   "outputs": [],
   "source": [
    "not_corrected = to_correct[found.isna()]"
   ]
  },
  {
   "cell_type": "code",
   "execution_count": 13,
   "metadata": {},
   "outputs": [],
   "source": [
    "# for now we ignore correction of 54\n",
    "df_corrected_entities = pd.concat([no_problem.Candidat, corrected_auto, not_corrected.Candidat])"
   ]
  },
  {
   "cell_type": "code",
   "execution_count": 14,
   "metadata": {},
   "outputs": [
    {
     "name": "stderr",
     "output_type": "stream",
     "text": [
      "/cdtn/ubuntu-env/lib/python3.6/site-packages/ipykernel_launcher.py:1: FutureWarning: The signature of `Series.to_csv` was aligned to that of `DataFrame.to_csv`, and argument 'header' will change its default value from False to True: please pass an explicit value to suppress this warning.\n",
      "  \"\"\"Entry point for launching an IPython kernel.\n"
     ]
    }
   ],
   "source": [
    "df_corrected_entities.to_csv(\"datafiller_suggestions.csv\")"
   ]
  },
  {
   "cell_type": "code",
   "execution_count": null,
   "metadata": {},
   "outputs": [],
   "source": []
  }
 ],
 "metadata": {
  "kernelspec": {
   "display_name": "Python 3",
   "language": "python",
   "name": "python3"
  },
  "language_info": {
   "codemirror_mode": {
    "name": "ipython",
    "version": 3
   },
   "file_extension": ".py",
   "mimetype": "text/x-python",
   "name": "python",
   "nbconvert_exporter": "python",
   "pygments_lexer": "ipython3",
   "version": "3.6.9"
  }
 },
 "nbformat": 4,
 "nbformat_minor": 2
}
