{
 "cells": [
  {
   "cell_type": "code",
   "execution_count": 237,
   "metadata": {},
   "outputs": [],
   "source": [
    "import pandas as pd\n",
    "import numpy as np\n",
    "import requests\n",
    "\n",
    "import json\n",
    "\n",
    "pd.options.display.max_rows = 400\n",
    "pd.options.display.max_colwidth = 4000"
   ]
  },
  {
   "cell_type": "code",
   "execution_count": 2,
   "metadata": {
    "scrolled": true
   },
   "outputs": [],
   "source": [
    "df_searches = pd.read_excel(\"searches_candidates_selection_rank.xlsx\")\n",
    "df_searches = df_searches[df_searches['query'] != 'undefined']"
   ]
  },
  {
   "cell_type": "code",
   "execution_count": 3,
   "metadata": {},
   "outputs": [
    {
     "name": "stdout",
     "output_type": "stream",
     "text": [
      "ERROR:\n",
      "['fiches_ministere_travail/le-registre-unique-du-personnel#Quelle-forme-doit-revetir-le-registre-unique-du-personnel', 'fiches_service_public/registres-du-personnel-obligatoires', 'fiches_ministere_travail/le-registre-unique-du-personnel#Les-stagiaires-sont-ils-concernes', 'fiches_ministere_travail/le-registre-unique-du-personnel#Quelles-sont-les-sanctions-en-cas-d-infraction', 'fiches_ministere_travail/le-registre-unique-du-personnel#Quels-sont-les-employeurs-concernes', 'fiches_service_public/lanceur-dalerte-dans-lentreprise-quelles-sont-les-regles', 'fiches_ministere_travail/le-registre-unique-du-personnel#Pour-quels-salaries']\n"
     ]
    }
   ],
   "source": [
    "def slug_only(dr):\n",
    "    candidates = json.loads(dr.replace(\"'\", '\"'))    \n",
    "    try :\n",
    "        return json.dumps([c['slug'] for c in candidates])\n",
    "    except TypeError:\n",
    "        print('ERROR:\\n' + dr)\n",
    "        return None\n",
    "\n",
    "df_searches['docs_slug'] = df_searches.docs_res.apply(lambda dr : slug_only(dr))"
   ]
  },
  {
   "cell_type": "code",
   "execution_count": 4,
   "metadata": {},
   "outputs": [
    {
     "name": "stderr",
     "output_type": "stream",
     "text": [
      "/Users/remim/dev/cdtn/.python-env/lib/python3.7/site-packages/ipykernel_launcher.py:2: SettingWithCopyWarning: \n",
      "A value is trying to be set on a copy of a slice from a DataFrame\n",
      "\n",
      "See the caveats in the documentation: http://pandas.pydata.org/pandas-docs/stable/user_guide/indexing.html#returning-a-view-versus-a-copy\n",
      "  \n"
     ]
    }
   ],
   "source": [
    "df_searches_unique = df_searches[[\"rank\", \"docs_slug\", \"query\", \"docs_res\", \"idVisit\"]]\n",
    "df_searches_unique.drop_duplicates([\"docs_slug\", \"query\", \"idVisit\"], inplace=True)"
   ]
  },
  {
   "cell_type": "code",
   "execution_count": null,
   "metadata": {
    "scrolled": true
   },
   "outputs": [],
   "source": []
  },
  {
   "cell_type": "code",
   "execution_count": 5,
   "metadata": {},
   "outputs": [
    {
     "data": {
      "text/plain": [
       "(117817, 9)"
      ]
     },
     "execution_count": 5,
     "metadata": {},
     "output_type": "execute_result"
    }
   ],
   "source": [
    "df_searches.shape"
   ]
  },
  {
   "cell_type": "code",
   "execution_count": null,
   "metadata": {},
   "outputs": [],
   "source": []
  },
  {
   "cell_type": "markdown",
   "metadata": {},
   "source": [
    "# Evaluation : group queries and get rank for each candidates \n",
    "Objective : compute NDCG / MAP / MRR"
   ]
  },
  {
   "cell_type": "code",
   "execution_count": 6,
   "metadata": {
    "scrolled": true
   },
   "outputs": [
    {
     "name": "stderr",
     "output_type": "stream",
     "text": [
      "/Users/remim/dev/cdtn/.python-env/lib/python3.7/site-packages/ipykernel_launcher.py:5: UserWarning: Boolean Series key will be reindexed to match DataFrame index.\n",
      "  \"\"\"\n"
     ]
    },
    {
     "name": "stdout",
     "output_type": "stream",
     "text": [
      "{'indemnité de départ en retraite', 'comment calculer les indemnités de départ à la retraite ?', 'PRIME DE DEPART A LA RETRAITE', 'Indemnités de départ à la retraite', 'indemnité de depart à la retraite', 'indemnité de départ à la retraite', 'quel est le montant de la prime de départ à la retraite ?', 'indemnité départ retraite', 'prime de depart retraite', 'Indemnité départ à la retraite', 'montant des indemnites de depart a la retraite', 'indemnité départ à la retraite', 'prime depart a la retraite', 'prime de départ à la retraite'} -> 153\n",
      "{'indemnités'} -> 19\n",
      "{\"maladie pendant période d'essai\", \"arrêt maladie pendant période d'essai\", \"prolongation période d'essai accident du travail\"} -> 11\n",
      "{'arrêt maladie préavis', \"l'arrêt maladie prolonge t il un préavis\"} -> 11\n",
      "{'RENOUVELLEMENT CDD', 'Renouvèlement cdd', 'renouvellements cdd', 'Renouvellement cdd', 'renouvellement cdd', 'prolongation cdd', 'renouveler cdd', 'renouveler CDD'} -> 57\n",
      "{\"ancienneté et congé parental d'éducation\", 'Ancienneté entreprise', 'ancienneté cdi', 'Ancienneté cdi', \"calcul de l' ancienneté\", 'ancienneté et reprise par un nouvel employeur', 'calcul ancienneté et période de suspension', 'ancienneté calcul', 'ancienneté et congé sabbatique', 'ancienneté cdd', \"ancienneté et cession d'entreprise\", 'calcul ancienneté indemnité de licenciement', \"ancienneté et vente de l'entreprise\", 'modalités calcul ancienneté', 'calcul ancienneté professionnelle', 'ancienneté et congé de présence parentale'} -> 115\n",
      "{'règle du maintien de salaire', 'quel salaire pendant arrêt maladie ?', 'maintien de salaire maladie', 'quelle différence entre maintien de salaire et subrogation ?', 'qui paye le complément de salaire en arrêt maladie ?', 'comment calculer le maintien de salaire en cas de maladie ?', 'puis je avoir un salaire négatif?', 'maintien de salaire et maladie'} -> 69\n",
      "{'quel perte de salaire en arrêt maladie ?', 'exemple de calcul indemnité journalière maladie', 'maintien de salaire arrêt maladie', 'arrêt de travail indemnisation', \"comment calculer les indemnités journalières d'arrêt maladie ?\", 'quelles sont les indemnités journalières non imposables ?'} -> 67\n",
      "{'travail dissimulé preuve', \"preuve de l'existence du contrat de travail\", \"je n'ai pas signé de contrat de travail travail illégal\", \"obligation d'un contrat de travail écrit\"} -> 9\n",
      "{'Delai de carence', 'Délai de carence'} -> 6\n",
      "{'pourquoi un délai de carence ?', 'quel délai entre deux cdd ?', 'quel est le délai de carence entre deux cdd ?', 'délai carrence intérim', 'délai de carence cdd', 'délai de carence cdi'} -> 34\n",
      "{'jours fériés travaillés restauration', 'jours fériés travaillés majoration', 'travail jour férié apprenti majeur', 'jour ferie', 'jours fériés travaillés restauration rapide', 'jours férié', '25 décembre', 'jours feries', 'quels sont les jours fériés payés double ?', 'quand un jour férié tombe sur un jour de repos ?', 'jours fériés travaillés', 'comment calculer un jour férié travaillé ?', 'comment est payé un jour férié ?', 'quelle sont les jours fériés ?', 'jours fériés', 'jour férié', 'JOUR Férié', 'jours fériés travaillés récupération', '15 août', 'Jour férié', 'jours fériés travaillés heures supplémentaire', 'jour fériés', 'le 1er mai', 'Jour ferie', 'jour férié compte 7h', 'jours ferie', 'Jours fériés', '1er mai', 'jours fériés jours chômés', '26 décembre', 'Jours fériés travaillées', 'fête du travail', '1er Mai', 'pentecote'} -> 202\n",
      "{'ancienneté'} -> 16\n",
      "{\"refuser le renouvellement de la période d'essai\", \"renouvellement période d'essai la veille\", 'renouvellement période essi', 'prolongation période essai', \"renouvellement période d'essai lettre\", \"renouvellement période d'essai cdd\", \"délai de prévenance et renouvellement période d'essai\", 'renouvellement période essai', \"comment renouveler une période d'essai ?\", \"renouvellement période d'essai syntec\", \"renouvellement période d'essai\", \"renouvellement de période d'esssai\", \"renouvellement période d'essai accord salarié\", \"oubli renouvellement période d'essai\"} -> 39\n",
      "{'dispense de préavis et nouvel emploi', 'demande de dispense de préavis suite licenciement', \"qu'est-ce qu'une dispense de préavis ?\", 'dispense de préavis en cas de démission', 'dispense de préavis et solde de tout compte', 'dispense de préavis', 'dispense de preavis', 'dispense préavis', 'clause dispense de préavis', \"dispense de préavis et accès à l'entreprise\"} -> 24\n",
      "{'Absence pendant préavis', 'Absence préavis', 'absences pendant le préavis'} -> 21\n",
      "{'heure recherche emploi', \"heures de recherche d'mploi\", 'absence pour rechercher un emploi', \"heures pour recherche d'emploi\", 'HEURES RECHERCHE EMPLOI', \"heures de recherche d'emploi\", 'rechercher un emploi pendant le préavis', \"absence pour recherche d'emploi\"} -> 25\n",
      "{\"qu'est-ce qu'un cdi de chantier ?\", 'contrat de chantier', \"contrat à durée indéterminée de chantier ou d'opération\", 'cdi de chantier', 'CDi de chantier'} -> 35\n",
      "{'congé événement familial', 'congés événements familiaux', 'congés evenement familial', 'congés événement familial', 'les congés pour événements familiaux quinzaine'} -> 31\n",
      "{'les congés pour événements familiaux', 'congés pour évenements familiaux', 'Congés pour evenement familiaux', 'congés pour évènements familiaux'} -> 84\n",
      "{'CONGES D2CES', 'conges deces', 'mon salarié est confronté à un décès', 'congés décès', 'congé pour décès grand parent', 'CONGES DECES', 'Congé décès', \"combien de jours de congés en cas de décès d'un proche ?\", 'congé décès', 'congés décés'} -> 152\n",
      "{'durée du congé pour pacs', 'combien de jours de congés pour un mariage ?', 'congé pacs', 'congé pour mariage ou pacs', 'conges pacs', 'conges pour pacs', 'CONGES PACS', 'congés mariage', 'Congé mariage', 'congé pour pacs', 'congés pour pacs', 'Conge mariage', 'congé pour mariage', 'congé mariage', 'durée du congé pour mariage', 'Congés mariage', 'conge mariage'} -> 131\n",
      "{\"prime d'ancienneté\", \"prime d'ancienneté cadre\", \"Prime d'ancienneté\", \"comment se calcule la prime d'ancienneté ?\", 'prime ancienneté', 'prime anciennete', \"qui a droit à la prime d'ancienneté ?\", 'prime ancienenté', \"ai-je droit à une prime d'ancienneté ?\", \"qu'est-ce que la prime d'ancienneté ?\", 'prime d ancienneté', 'prime d anciennete', 'Prime anciennete en arret maladie', \"prime d'anciennete\", 'Prime d ancienneté', 'simulateur calcul ancienneté', \"taux prime d'ancienneté\"} -> 87\n",
      "{'durée de préavis de départ à la retraite', 'Durée préavis départ à la retraite', 'durée du préavis de départ à la retraite'} -> 8\n",
      "{'Congé de paternité', 'congé maternité et accouchement tardif', 'Conges maternité', 'congé maternité', 'congé ùmaternité', 'retour du congé maternité', 'congé maternité protection', 'congés maternite', 'fin du congé maternité', 'congé maternité et congé pathologique', 'congés de maternité', 'congé maternité et congé postnatal', 'congés maternité', 'CONGE MATERNITE', 'conges maternité', 'conges de paternite', 'congès maternité', 'conge%20maternite', 'conge maternite', 'congé maternité et congé prénatal', 'grossesse et congé maternité', 'congé de maternité', 'le congé maternité est-il obligatoire', 'Congés maternite', 'Congés maternités', 'Congé maternité'} -> 161\n",
      "{'congé maternité durée', 'durée congé maternité', 'congé maternité calcul', 'quelle est la durée du congé maternité ?'} -> 23\n",
      "{\"durée période d'essai cdd\", \"durée maximale période d'essai\", \"Période d'essai durée\", \"durée période d'essai\", \"durée période d'essia\", \"durée maximale de la période d'essai\", \"quelle est la durée de la période d'essai pour un cdi ?\", \"durée maximale periode d'essai\", \"durée période d'essai CDI\", 'durée période essai', \"Quelle est la durée maximale de la période d'essai, sans et avec renouvellement ?\", \"durée maximal péirode d'essaai\", \"quelle est la durée maximale de la période d'essai, sans et avec renouvellement ?\", \"durée de ma période d'essai\", \"quel est la durée de la période d'essai pour un cdi\", 'durée max periode essai', \"quelle est la durée de ma période d'essaie\"} -> 41\n",
      "{\"période d'essai si cdd 6 mois\", \"durée de la période d'essai et cdd\", \"CDI et période d'essai\", \"calcul période d'essai cdd\", \"cdd et période d'essai\", \"cdi et période d'essai\", \"calcul période d'essai\", \"rupture de la période d'essai et cdd\"} -> 63\n",
      "{'cdd usage', \"cdd d'usage\"} -> 50\n",
      "{'duree cdd', 'durée cdd'} -> 11\n",
      "{\"quelle est la durée maximale d'un cdd ?\", \"durée maximale d'un cdd\", \"quelle peut être la durée maximale d'un cdd ?\", 'cdd durée maximale', \"quelle est la durée maximale d'un contrat de travail intérimaire ?\"} -> 52\n",
      "{\"durée maximale d'un cdd\", \"quelle est la durée maximale d'un contrat de travail intérimaire ?\"} -> 7\n",
      "{'mentions du contrat de travail', 'mentions obligatoires contrat de travail', 'mentions contrat de travail à temps partiel', \"quels sont les éléments constitutifs d'un contrat de travail ?\", 'informations contrat de travail', 'mentions contrat de travail cdd', 'comment rédiger un contrat de travail à durée déterminée ?', 'comment rédiger un contrat de travail ?'} -> 26\n",
      "{\"le cumul d'emplois à temps partiel est-il autorisé ?\", 'cumuler deux emplois à temps partiel', 'peut on cumuler deux cdi chez un même employeur'} -> 7\n",
      "{\"cumul d' emplois\", 'cumul emplois', 'plusieurs cdi en même temps', '2 cdd en même temps', 'cumuler deux emplois', \"cumul emplois et clause d'exclusivité\", 'CUMUL EMPLOI', 'cumul deux emploi', \"cumul emplois obligation d'informer l'employeur\", 'travailler pour plusieurs employeurs', 'cumuler deux emplois congés payés', 'avoir plusieurs contrats de travail avec des employeurs différents', 'cumuler deux emplois salaries et indépendant', 'cumuler plusieurs emplois', '2 cdi temps partiel en même temps', 'puis-je cumuler une activité salariée et un emploi public ?', 'cumul emploi', \"travail à temps partagé : peut-on m'interdire de cumuler plusieurs emplois ?\", '2 cdi en même temps', 'autorisation employeur cumul emploi', 'avoir 2 emplois', 'puis-je exercer plusieurs activités professionnelles ?', \"cumul d'emplois\", 'puis-je cumuler plusieurs emploi ?', 'cumul emploi et durée maximale de travail', 'cumul emplois et repos obligatoire'} -> 102\n",
      "{'levée clause de non concurrente', 'clause non concurrence', 'indemnité clause non currence', 'CLAUSE DE NON CONCURRENCE', 'clause de non conccurence', 'clause de non concurrence', 'clause de non-concurrence', 'CLAUSE DE NON CONCURENCE', 'clause de non concurrence zone géographique', \"quelles sont les conditions de validité d'une clause de non concurrence ?\", 'clause de concurrence', 'clause de non concurrence cdd', 'démission et clause de non concurrence', 'La clause de non concurrence', 'clause de non concurrence indemnisation', 'dispense de préavis et clause de non concurrence', 'indemnité clause de non concurrence', 'clause de non concurrence abusive', 'Clause de non concurrence', \"c'est quoi une clause de non concurrence ?\", 'CLAUSE DE NON-CONCURRENCE', 'close de non concurence', 'clause de non concurrence non valide'} -> 129\n",
      "{'Ijss maternité', 'indeminté congé maternité', 'ijss maternité', 'où déclarer les indemnités journalières maternité ?', 'maintien de salaire congé maternité', 'subrogation congé maternité', 'ijssmaternité', 'indemnité congé de maternité', 'Indemnite conge maternité'} -> 14\n",
      "{'décès employeur'} -> 7\n",
      "{'je ne veux pas faire mon préavis de licenciement', \"ne pas faire son préavis lors d'une démission\", 'risques ne pas faire son préavis', 'non respect du préavis'} -> 6\n",
      "{'primes', 'Primes', 'PRIMES', 'prime de vacances syntec', 'Prime', 'prime'} -> 19\n",
      "{'prime macron'} -> 13\n",
      "{'prime d', 'prime'} -> 36\n",
      "{'report congés payés et maladie', 'maladie pendant congés', 'arrêt maladie et congés payés', 'Arret maladie et conges payes', 'arrêt maladie pendant les congés payés', 'En maladie pendant ses conges', 'Arrêt maladie pendant les congés payés', 'maladie et report des congés payés', 'maladie pendant les congés', 'malade pendant les congés', 'Arrêt maladie avant les congés payés'} -> 62\n",
      "{'le recrutement en interne est-il obligatoire?', 'priorité recrutement interne code du travail', 'si un poste se libère dans mon entreprise', 'obligation de promotion interne', 'un poste se libère dans mon entreprise'} -> 23\n",
      "{'qui paye double le dimanche ?', 'jeunes travailleurs et travail le dimanche?', 'travail dimanche automobile', 'Travail dimanche', 'travail di manche', 'TRAVAIL%20DIMANCHE', 'travailler le dimanche', 'travail du dimanche', 'dérogations de droit au travail le dimanche?', 'travail dimanche cadre', 'travail le dimanche', 'dans quel cas peut on travailler le dimanche?', 'travail du diamnche', 'travail dimanche et jours fériés', 'travail dimanche salon foire', 'quelles contreparties au travail le dimanche?', 'repos dominical et travail du dimanche', 'comment sont payés les dimanches ?', 'Travail du dimanche', 'comment est payé un dimanche travaille ?', 'Travail le dimanche', 'TRAVAIL DU DIMANCHE', 'dimanches du maire', 'travail dimanche', 'rémunération travail dimanche grande distribution'} -> 144\n",
      "{'visite médicale'} -> 16\n"
     ]
    },
    {
     "name": "stdout",
     "output_type": "stream",
     "text": [
      "{'invalidite', 'invalidité'} -> 8\n",
      "{'handicap'} -> 7\n",
      "{'travailleur handicape', 'travailleur handicapé'} -> 6\n",
      "{'Temps partiel'} -> 11\n",
      "{'temps partiel', 'TEMPS PARTIEL'} -> 122\n",
      "{'horaire', 'horaires'} -> 14\n",
      "{'demande de temps partiel', 'Demande temps partiel', 'demander à travailler à temps partiel', 'passage temps partiel', 'passage à temps partiel'} -> 8\n",
      "{'saisie sur salaire'} -> 7\n",
      "{\"prime d'activité\"} -> 7\n",
      "{'indemnités chômage', 'droit au chômage', 'chômage', 'quel type de licenciement pour toucher le chômage ?', 'indemnisation chômage', 'Indemnite chômage', 'Chomage', 'ai je droit au chômage', 'allocation chomage', 'Droit au chomage', 'chomage', 'indemnités pôle emploi', 'Droit chômage', 'conditions pour avoir le droit au chômage', 'indemnité chomage', 'Chômage', 'allocation chômage et rupture du contrat de travail cdd', 'allocation chômage', 'allocation de chomage', 'DOIT AU CHOMAGE', 'droits au chomage', 'allocation chômage et rupture du contrat de travail', 'allocations de chômage', \"aide au retour à l'emploi\", 'Droit au chômage', 'indemnisation pôle emploi'} -> 173\n",
      "{'horaire variable'} -> 11\n",
      "{'temps de travail et travail du dimanche', 'temps de travail et temps de soirée', 'temps de travail et travail à temps plein', 'temps de travail et heures supplémentaires', 'calcul temps de travail annuel', 'temps de travail', 'temps de travail et aménagement du temps de travail', 'Temps de travail', 'Temps de travail durée légale', 'temps de travail et durée légale', 'temps de travail et travail de nuit', 'durée du travail et temps de travail', 'temps de travail maximum par jour', 'temps de travail minimum par jour', 'TEMPS DE TRAVAIL', 'temps de travail et travail à temps partiel'} -> 259\n",
      "{'décompte heures supplémentaires', 'Réclamation Heures supplémentaires', 'je travaille dans le bâtiment, et mon chef ne relève pas mes heures de travail', \"relevé d'heures de travail\", 'réclamation heures supplémentaires'} -> 39\n",
      "{\"victime de l'amiante\", 'désamiantage', 'plan de retrait amiante', 'repérage amiante', 'Amiante', \"retrait d'amiante\", 'amiante et lieu de travail', 'amiante'} -> 66\n",
      "{'Repos compensateur'} -> 14\n",
      "{\"taxe d'apprentissage\"} -> 16\n",
      "{'recrutement'} -> 8\n",
      "{'autorisation de conduite'} -> 13\n",
      "{'plomb'} -> 7\n",
      "{'Penibilite', 'Pénibilité'} -> 7\n",
      "{'bruit'} -> 26\n",
      "{'bonus malus'} -> 6\n",
      "{'droit de retrait chaleur', 'plan national canicule', 'températures extrêmes code du travail', 'quelle température minimum pour travailler dans un bureau ?', 'quelle est la température maximale pour travailler ?', 'température légale pour travailler', 'quelle température pour travailler dans un bureau ?', 'canicule', 'chaleur et canicule au travail'} -> 48\n",
      "{'risque de chute de hauteur', 'protection individuelle contre les risques de chute de hauteur', 'plan général de coordination et risques de chute de hauteur', 'TRAVAIL EN HAUTEUR', 'travail e hauteur', 'comment prévenir les risques de chutes de hauteur ?', 'Travail en hauteur', 'risque de chute de hauteur sur chantier', 'travaux sur escabeaux', 'travail sur corde', 'plan de prévention et risques de chute de hauteur', 'travail sur échafaudage', 'Harnais', 'garde corps', 'travail en hauteur', 'harnais', 'Gardes corp', 'garde-corps', 'coordonnateur en sécurité et protection de la santé et risque de chute de hauteur', 'protection collective contre les chute de hauteur', 'travai en hauteur', 'travail hauteur', 'échafaudage', 'prévention des risques de chute de hauteur', 'risques liés aux chutes de hauteur'} -> 85\n",
      "{'Interim', 'Intérim'} -> 7\n",
      "{'REGLEMENT INTÉRIEUR', 'REGLEMENT INTERIEUR'} -> 8\n",
      "{'CPF'} -> 13\n",
      "{'formation cse', 'formation et cse'} -> 10\n",
      "{\"rupture unilatérale du contrat d'apprentissage\", 'rupture de contrat apprentissage', \"rupture d'un contrat d'apprentissage\", \"prise d'acte et contrat apprentissage\", 'rupture contrat appretnissage', 'rupture contrat d apprentissage', 'je suis apprenti puis-je démissionner ?', \"arrêter un contrat d'apprentissage avant la fin\", 'rupture contrat apprenti', \"médiateur contrat d'apprentissage\", \"rupture contrat d'apprentissage\", 'rupture contrat apprentissage', \"rupture de contrat d'apprentissage\", \"démissionner d'un contrat d'apprentissage\", \"comment rompre mon contrat d'apprentissage\"} -> 53\n",
      "{'Rupture contrat de professionnalisation', 'rupture contrat professionalisation', 'rupture de contrat de professionnalisation', 'rupture anticipée du contrat de professionnalisation', 'Rupture contrat professionnalisation', 'démission et contrat de professionnalisation', 'rupture contrat professionnalisation'} -> 38\n",
      "{'CSP'} -> 7\n",
      "{'Cssct'} -> 17\n",
      "{'CSE'} -> 95\n",
      "{'Cse'} -> 49\n",
      "{'cse'} -> 82\n",
      "{'cse'} -> 99\n",
      "{'cse'} -> 10\n",
      "{'chsct'} -> 8\n",
      "{'chsct'} -> 7\n",
      "{'commission santé sécurité et conditions de travail'} -> 8\n",
      "{'commission santé sécurité et conditions de travail'} -> 18\n",
      "{'CHSCT'} -> 6\n",
      "{'cssct'} -> 9\n",
      "{'CSSCT'} -> 17\n",
      "{'cssct'} -> 16\n",
      "{'csp'} -> 13\n",
      "{'csp'} -> 25\n",
      "{'heures de délégation', 'le s heures de delegation'} -> 49\n",
      "{'heures de délégation'} -> 48\n",
      "{'consultation cse'} -> 27\n",
      "{'consultation CSE'} -> 7\n",
      "{'quelle est la différence entre invalidité et inaptitude ?', 'différence entre invalidité et inaptitude'} -> 13\n",
      "{'rqth'} -> 12\n",
      "{'RQTH', 'Rqth'} -> 8\n",
      "{'alcool'} -> 9\n",
      "{'echelle', 'échelle'} -> 9\n",
      "{'apprentissage'} -> 6\n",
      "{'apprentis', 'apprenti'} -> 8\n",
      "{'apprentissage'} -> 74\n",
      "{'astreinte'} -> 64\n",
      "{'Astreinte'} -> 17\n",
      "{'emploi franc', 'emploi francs'} -> 6\n",
      "{'bdes'} -> 22\n",
      "{'froid'} -> 8\n",
      "{'GPEC'} -> 7\n",
      "{'gpec'} -> 6\n",
      "Key error : [\"/fiche-ministere-travail/index-de-legalite-professionnelle-calcul-et-questions-reponses#Qu-est-ce-que-l-Index-de-l-egalite-professionnelle-entre-les-hommes-et-les-nbsp\", \"/fiche-ministere-travail/index-de-legalite-professionnelle-calcul-et-questions-reponses#Acceder-au-simulateur-calculateur-en-ligne-pour-calculer-votre-Index-de-nbsp\", \"/fiche-ministere-travail/index-de-legalite-professionnelle-calcul-et-questions-reponses#Acceder-au-formulaire-de-transmission-de-l-Index-a-l-inspection-du-nbsp\", \"/fiche-ministere-travail/index-de-legalite-professionnelle-calcul-et-questions-reponses#Questions-reponses-sur-le-calcul-de-l-Index\", \"/fiche-ministere-travail/index-de-legalite-professionnelle-calcul-et-questions-reponses#ACCOMPAGNEMENT-DES-ENTREPRISES\", \"/fiche-ministere-travail/la-negociation-collective-en-entreprise-en-faveur-de-legalite-professionnelle\", \"/fiche-ministere-travail/la-negociation-collective-en-entreprise-en-faveur-de-legalite-professionnelle#Sur-quels-themes-et-selon-quelle-periodicite-doit-avoir-lieu-la-negociation-nbsp\", \"/fiche-ministere-travail/la-negociation-collective-en-entreprise-en-faveur-de-legalite-professionnelle#Sur-quels-elements-doit-s-appuyer-la-negociation\", \"/fiche-ministere-travail/la-negociation-collective-en-entreprise-en-faveur-de-legalite-professionnelle#Des-exemples-de-bonnes-pratiques\", \"/fiche-ministere-travail/legalite-professionnelle-femme-homme\", \"/fiche-ministere-travail/legalite-professionnelle-femme-homme#Quelles-sont-les-regles-en-matiere-d-embauche\", \"/fiche-ministere-travail/legalite-professionnelle-femme-homme#Quelles-sont-les-regles-en-matiere-d-egalite-de-remuneration-et-de-nbsp\", \"/fiche-ministere-travail/legalite-professionnelle-femme-homme#Quel-est-le-role-des-representants-du-personnel\", \"/fiche-ministere-travail/legalite-professionnelle-femme-homme#Comment-sont-informes-les-salaries-et-candidats-a-l-embauche-nbsp\", \"/fiche-ministere-travail/legalite-professionnelle-femme-homme#Quels-sont-les-recours-et-sanctions\", \"/fiche-ministere-travail/legalite-professionnelle-femme-homme#L-interdiction-de-soumissionner-aux-marches-publics\", \"/fiche-ministere-travail/legalite-de-remuneration-entre-les-femmes-et-les-hommes-et-les-obligations-des-employeurs\", \"/fiche-ministere-travail/legalite-de-remuneration-entre-les-femmes-et-les-hommes-et-les-obligations-des-employeurs#Qui-est-concerne-par-le-principe-d-egalite-de-remuneration-entre-les-femmes-nbsp\", \"/fiche-ministere-travail/legalite-de-remuneration-entre-les-femmes-et-les-hommes-et-les-obligations-des-employeurs#Qu-entend-on-par-remuneration\", \"/fiche-ministere-travail/legalite-de-remuneration-entre-les-femmes-et-les-hommes-et-les-obligations-des-employeurs#Qu-est-ce-qu-un-travail-de-valeur-egale\", \"/fiche-ministere-travail/legalite-de-remuneration-entre-les-femmes-et-les-hommes-et-les-obligations-des-employeurs#Comment-controler-l-egalite-de-remuneration\", \"/fiche-ministere-travail/legalite-de-remuneration-entre-les-femmes-et-les-hommes-et-les-obligations-des-employeurs#Comment-sont-mesures-les-ecarts-de-remuneration-entre-les-femmes-et-les-nbsp\", \"/fiche-ministere-travail/legalite-de-remuneration-entre-les-femmes-et-les-hommes-et-les-obligations-des-employeurs#Quelles-sont-les-sources-d-information-sur-les-remunerations-des-femmes-et-nbsp\"]\n",
      "{'Cdd'} -> 36\n",
      "{'CDD'} -> 32\n",
      "{'cdd'} -> 90\n"
     ]
    },
    {
     "name": "stdout",
     "output_type": "stream",
     "text": [
      "{\"calcul d'indemnité pour motif économique\"} -> 7\n",
      "{'dpae'} -> 10\n",
      "{'démission légitime', 'Démission légitime', 'demission légitime', 'Démission legitime', 'demission legitime'} -> 9\n",
      "{'demission cdd', 'démission CDD', 'démission cdd', 'DEMISSION CDD', 'Démission CDI', \"rompre le cdd à l'initiative du salarié\", 'Démission CDD', 'rupture cdd a l initiative du salarié', 'Démission cdi', 'un salarié peut-il démissionner dans le cadre d’un cdd ?', 'démission cdi'} -> 81\n",
      "{'temps de repos légal'} -> 8\n",
      "{'duree du travail', 'durée du travail', 'durée de travail', 'duréé de travail', 'duréé du travail'} -> 49\n",
      "{'durées maximales du travail', 'durée maximale de travail', 'durée maximale du travail'} -> 28\n",
      "{'temps de travail effectif par mois', 'TEMPS DE TRAVAIL EFFECTIF', \"régime d'équivalence et temps de travail effectif\", 'Temps de travail effectif', 'calcul temps de travail effectif', 'astreinte et temps de travail effectif', 'formation et temps de travail effectif', 'temps travail effectif', 'temps de travail effectif trajet', 'temps de travail effectif', 'temps de travail effectif annuel', 'temps de pause et travail effectif', 'temps de travail et temps de travail effectif', 'absences légalement assimilées à du temps de travail effectif'} -> 113\n",
      "{'greve', 'grève'} -> 52\n",
      "{'journee de solidarite', 'journée de solidarité', 'lundi de pentecôte', 'jour de solidarite', 'comment est payée la journée de solidarité ?', 'Journée solidarité', 'Journée de solidarité', 'journée de solidarite', 'journée solidarité'} -> 30\n",
      "{'danger grave et imminent'} -> 7\n",
      "{'médaille du travail', 'medaille de travail', 'médaille travail', 'medaille travail', 'medaille du travail'} -> 12\n",
      "{'usage'} -> 16\n",
      "{'mensualisation'} -> 6\n",
      "{'annualisation'} -> 13\n",
      "{'13ème mois'} -> 25\n",
      "{\"rupture periode d'essai\", 'rupture periode essai', \"rupture de période d'essai\", 'rupture période essai', \"rupture période d'essai\", \"c'est quoi un délai de prévenance ?\"} -> 15\n",
      "{'préavis cdi', 'preavis cdi', 'délai de prévenance définition', 'Préavis cdi', \"préavis période d'essai\", \"délai de prévenance période d'essai\", \"Préavis période d'essai\", \"quel délai pour mettre fin à une période d'essai ?\", 'délai de prévenance définirions', 'préavis cdd', \"préavis période d'essais\", \"point de départ délai de prévenance rupture période d'essai\", 'PREAVIS cdi', \"preavis periode d'essai\", 'délai de prévenance cadre', \"préavis periode d'essai\", \"période d'essai : rupture et délai de prévenance\", 'préavis CDD', 'préavis préiode essai', 'préavis période d essai'} -> 178\n",
      "{\"rupture contrat pendant période d'essai\", 'quels sont mes droits en cas de rupture de ma période d’essai ?', \"point de départ délai de prévenance rupture période d'essai\", 'préavis cdi', \"rompre sa période d'essai\", \"démissionner pendant sa période d'essai\", 'délai de prévenance définition', 'préavis cdd', \"période d'essai : rupture et délai de prévenance\", \"fin de période d'essai à l'initiative du salarié\", \"quitter l'entreprise pendant la période d'essai\", 'Préavis cdi', \"préavis période d'essai\", \"délai de prévenance période d'essai\"} -> 40\n",
      "{'période essai maximale'} -> 8\n",
      "{'prime exceptionnelle'} -> 13\n",
      "{'licenciement motif personnel'} -> 6\n",
      "{'lettre de licenciement faute grave', 'lettre de licenciement', 'LETTRE DE LICENCIEMENT', 'modèle type lettre de licenciement', 'modèle de lettre de licenciement pour faute grave', 'modèle de lettre de licenciement pour motif personnel', 'rédiger une lettre de licenciement pour faute grave', 'lettre licenciement', 'rédiger une lettre de licenciement', 'Modèle type lettre de licenciement faute grave', 'modèle de lettre de licenciement', 'modéle lettre de licenciement'} -> 32\n",
      "{'discriminations', 'Discrimination', 'discrimination'} -> 60\n",
      "{'Discrimination', 'discrimination'} -> 10\n",
      "{'prévention sécurité privées'} -> 6\n",
      "{'grossesse', 'Grossesse'} -> 15\n",
      "{'licenciement salarie protege', 'licenciement salarié protégé'} -> 6\n",
      "{'reclassement inaptitude', 'refus de reclassement inaptitude'} -> 15\n",
      "{'remuneration', 'rémunération'} -> 6\n",
      "{'rémunération interimaire', 'rémunération intérimaire', 'salaire travail temporaire', 'rémunération mensuelle intérimaire?', 'rémunération des intérimaires'} -> 27\n",
      "{'refus formation'} -> 6\n",
      "{'dédit formation', 'dedit formation'} -> 12\n",
      "{'salaire apprenti'} -> 14\n",
      "{'ruptures conventionnelles collectives', 'cse et procédure de rupture conventionnelle collective', 'rupture conventionnelle collective et licenciement', 'rupture conventionnelle collective', \"rupture d'un commun accord prévu par accord collectif\", 'procédure rupture conventionnelle collective', 'la rupture conventionnelle collective diffère-t-elle des plans de départs volontaires autonomes', 'accord rupture conventionnelle collective'} -> 24\n",
      "{'arrêt maladie et rupture conventionnelle', 'arrêt maladie pendant rupture conventionnelle'} -> 7\n",
      "{'rupture conventionnelle et maladie', 'rupture conventionnelle maladie'} -> 16\n",
      "{'sanction disciplinaire envisagée'} -> 11\n",
      "{'sanctions disciplinaires', 'sanctions disciplinaires fonction'} -> 49\n",
      "{'mise à disposition'} -> 8\n",
      "{'faute'} -> 8\n",
      "{'Sanction'} -> 9\n",
      "{'penibilité', 'penibilite', 'pénibilité', 'pénibilite'} -> 33\n",
      "{'avertissement sanction'} -> 6\n",
      "{'délai pour contester une sanction disciplinaire', \"contestation d'une sanction disciplinaire\", \"contestation d'une sanction disciplinaire reponse\", 'délai pour contester un avertissement', 'comment contester une sanction disciplinaire ?', 'délai pour contester une mise à pied disciplinaire'} -> 10\n",
      "{'mise à pied injustifiée', 'mise à pied et licenciement', 'mise a pieds', 'mise à pied', 'Mise à pieds', 'mise a pied', 'Mise à pied', 'durée de la mise à pied', 'fin de la mise à pied', 'Mis a pied', 'mise à pied contester'} -> 68\n",
      "{'vae'} -> 7\n",
      "{'comment se déroule la vae ?', \"comment faire une validation des acquis de l'expérience ?\", \"qu'est ce que la vae ?\", \"quelle est la durée d'une vae ?\", \"validation des acquis de l'expérience\", 'comment faire pour valider les acquis ?', 'quel diplôme avec la vae ?', 'combien coûte une vae?'} -> 12\n",
      "{'Le document unique', 'document unique'} -> 9\n",
      "{'Salaire'} -> 32\n",
      "{'droit local'} -> 8\n",
      "{\"perte de marché et transfert d'entreprise\", 'liquidation judiciaire entreprise', 'perte de marche et reclassement', 'reprise de marché', \"transfert d'un salarié dans une autre entreprise du groupe\", \"transfert d'entreprise\", 'liquidation judiciaire', 'Liquidation judiciaire', \"transfert d'entreprise et mutuelle\", '1224-1', 'liquidation judiciaire salarié préavis', 'TRANSFERT D ENTREPRISE', \"congés payés en cas de rachat d'entreprise\", \"paiement des salaires lors d'un redressement judiciaire\", 'fusion absorption licenciement économique', 'congés payes non pris', 'liquidation judiciaire salarié non payé', \"rachat d'entreprise\", \"rachat d'une entreprise\", 'Rachat entreprise', 'quitter une entreprise en redressement judiciaire', \"fusion d'entreprises\", \"transfert d'entreprise définition\", 'prime de licenciement en cas de liquidation judiciaire', \"cession d'entreprise\", \"mise en vente d'une entreprise\", 'liquidation judiciaire licenciement salarié protégé', \"redressement judiciaire et procédure prud'homale\", 'L1224-1', \"accord d'entreprise après fusion\", 'l1224-1', 'rupture conventionnelle pendant redressement judiciaire', \"transfert d'entreprise et accord de participation\", 'L 1224-1'} -> 170\n",
      "{'cesu'} -> 6\n",
      "{'compte épargne temps', 'compte epargne temps', 'compte épargne-temps'} -> 21\n",
      "{\"prise d'acte\"} -> 17\n",
      "{'maternité', 'maternite'} -> 20\n",
      "{'le congé de proche aidant'} -> 29\n",
      "{'congé proche aidant'} -> 7\n",
      "{'Jour de repos'} -> 6\n",
      "{'repos'} -> 12\n",
      "{'congé', 'conge'} -> 16\n",
      "{'Congé', 'Conge'} -> 8\n",
      "{'congé exceptionnel'} -> 10\n",
      "{'COMPTE EPARGNE TEMPS'} -> 6\n",
      "{'congés familiaux', 'conges familiaux'} -> 8\n",
      "{'congé sabbatique refusé', \"est-ce qu'un employeur peut refuser un congé sabbatique ?\", 'refus congé sabbatique', \"un employeur peut-il refuser d'accorder un congé sabbatique\"} -> 8\n",
      "Key error : [\"/fiche-ministere-travail/le-contrat-de-travail-a-duree-indeterminee-cdi\", \"/fiche-service-public/conclusion-dun-contrat-de-travail-a-duree-indeterminee-cdi\", \"/fiche-ministere-travail/contrat-de-travail-les-principales-caracteristiques#Qui-peut-conclure-un-contrat-de-travail\", \"/fiche-ministere-travail/contrat-de-travail-les-principales-caracteristiques#Le-contrat-doit-il-etre-ecrit\", \"/fiche-ministere-travail/contrat-de-travail-les-principales-caracteristiques#Rediger-le-contrat-de-travail-quelles-regles-respecter\", \"/fiche-ministere-travail/le-contrat-de-travail-a-duree-indeterminee-cdi#Quelle-forme-doit-revetir-le-CDI\", \"/fiche-ministere-travail/le-contrat-de-travail-a-duree-indeterminee-cdi#Quel-est-le-contenu-du-CDI\", \"/fiche-ministere-travail/contrat-de-travail-les-principales-caracteristiques#Le-contrat-de-travail-peut-il-comporter-une-periode-d-essai-nbsp\", \"/fiche-ministere-travail/contrat-de-travail-les-principales-caracteristiques#Quelles-obligations-decoulent-du-contrat-de-travail\", \"/fiche-ministere-travail/contrat-de-travail-les-principales-caracteristiques#Quelles-sont-les-situations-entrainant-la-suspension-du-contrat-de-travail-nbsp\", \"/fiche-ministere-travail/le-contrat-de-travail-a-duree-indeterminee-cdi#Comment-le-CDI-peut-il-prendre-fin\", \"/fiche-ministere-travail/le-contrat-de-travail-a-duree-indeterminee-cdi#Dans-quels-cas-un-CDI-doit-il-etre-conclu\", \"/fiche-ministere-travail/le-contrat-a-duree-indeterminee-de-chantier-ou-doperation#Qu-est-ce-qu-un-contrat-de-chantier-ou-d-operation\", \"/fiche-ministere-travail/le-contrat-a-duree-indeterminee-de-chantier-ou-doperation#Quelle-entreprise-peut-recourir-au-CDI-de-chantier-ou-d-operation-nbsp\", \"/fiche-ministere-travail/le-contrat-a-duree-indeterminee-de-chantier-ou-doperation#CDI-de-chantier-ou-d-operation-comment-est-il-rompu\", \"/fiche-service-public/quest-ce-que-le-contrat-de-chantier-ou-doperation\"]\n",
      "{'abandon de poste cdi'} -> 20\n",
      "{'CDI', 'Cdi', 'CDI C'} -> 14\n",
      "{'cdi'} -> 23\n",
      "{\"quels sont les motifs de recours à l'intérim ?\", \"accroisement temporaire de l'activité intérim\", 'motif de recours au contrat de travail temporaire'} -> 6\n",
      "{'cacces', 'caces'} -> 7\n",
      "{'transfert de contrat'} -> 13\n",
      "{'contrat'} -> 9\n",
      "{'harcèlement sexuel', 'harcelement sexuel', 'comportement déplacé au travail', 'harcelement%20sexuel', 'harcellement sexuel', 'harcèlement sexiste au travail'} -> 34\n",
      "{'referent harcelement', 'référent harcèlement', 'référent harcelement'} -> 14\n",
      "{'quels sont les motifs de licenciement'} -> 7\n",
      "{'registre unique du personnel'} -> 15\n",
      "{'registre du personnel'} -> 11\n",
      "{'qui doit faire les entretiens individuels ?'} -> 16\n",
      "{'Règlement interieur', 'réglement intérieur', 'réglement interieur', 'Reglement interieur', 'reglement intérieur', 'le règlement intérieur', 'règlement intérieur', 'Règlement intérieur', 'reglement interieur'} -> 159\n",
      "{'Remuneration', 'Rémunération'} -> 6\n",
      "{'date paiement salaire'} -> 18\n",
      "{'grille salaire convention collective', 'grille de salaire', 'Grille des salaires'} -> 45\n",
      "{'salaire'} -> 77\n",
      "{'modification salaire', 'mon employeur a baissé mon salaire', 'baisse de salaire suite à un reclassement', 'baisse de salaire', 'Baisser le salaire', 'changement de poste en interne baisse de salaire', \"qu'est-ce qu'une augmentation individuelle ?\", 'augmentation des salaires', 'Augmentation salaire', 'augmentation de salaire', 'Baisse de salaire', 'baisse de salaire après changement de poste', 'augmentation salaire', 'votre employeur peut-il baisser votre salaire ?'} -> 74\n",
      "{'smic brut'} -> 9\n",
      "{'remboursement frais professionnels'} -> 7\n",
      "{'Saisie salaire', 'Saisie sur salaire'} -> 6\n",
      "{'puis-je refuser de faire des heures complémentaires ?', 'HEURES COMPL2MENTAIRES', \"qu'est-ce qu'une heure complémentaire ?\", 'Heures complémentaires', 'le salarié peut-il refuser les heures complémentaires ?', 'heure complementaires', 'heures complémentaires', 'Heures complementaires', 'comment rémunérer les heures complémentaires ?', 'HEURES COMPLEMANTAIRES', 'quelle majoration pour les heures complémentaires ?', 'heures complementaire', 'heures complémentaires calcul', 'heures complementaires', 'les heures complémentaires', 'heures complementaire temps partiel'} -> 121\n"
     ]
    },
    {
     "name": "stdout",
     "output_type": "stream",
     "text": [
      "{'Nuit', 'nuit'} -> 9\n",
      "{'heure de nuit', 'Heure de nuit', 'heure nuit'} -> 7\n",
      "{'heures de nuit', 'quelles sont les heures de nuit', 'heures nuit'} -> 8\n",
      "{'dimanche'} -> 6\n",
      "{'cdd saisonnier', 'Cdd saisonnier'} -> 7\n",
      "{'contrat saisonnier'} -> 6\n",
      "{'index égalité professionnelle', 'index ega pro', 'égalité professionnelle index', 'index égalité professionnelle entre les femmes et les hommes', 'modèle accord égalité professionnelle hommes femmes 2019'} -> 10\n",
      "{'absence'} -> 8\n",
      "{'congé enfant malade', 'conge enfant malade'} -> 120\n",
      "{'congé enfant malade'} -> 11\n",
      "{'enfant malade'} -> 18\n",
      "{'enfants malades', 'Enfant malade'} -> 17\n",
      "{'maladie'} -> 29\n",
      "{'indemnites de conges payes', 'indemnité de congés payes', 'indemnité de congés payés', 'indemnités de congés payés'} -> 8\n",
      "{'indemnite conges payes', 'indemnités congé payé', 'indemnite congés payés', 'indemnités congés payés', 'indemnité congés payés'} -> 10\n",
      "{'indemnités congé payés'} -> 19\n",
      "{'don de congés payés', 'conges payes assiette', 'alternance et congé payés', 'Pose congés payés', 'Pose Conges payes', 'Conges payes cdiintermittent', 'Pose des congés payés', 'pose des congés payés'} -> 8\n",
      "{'prise congé payé', 'prise congés payés', 'prise conges payes', 'congés payés prise', 'ordre congés payés'} -> 6\n",
      "{'la prise les congés payés', 'prise de congés payés', 'prise des congés payé', 'prise des congés payés'} -> 7\n",
      "{'cong%C3%A9s%20pay%C3%A9s'} -> 29\n",
      "{'jour ouvré', 'comment décompter les congés payés en jours ouvrables ?', 'jours ouvré', 'jour ouvrable 2019', 'comment calculer jours ouvrés ?', 'Jours ouvrés', 'quelle est la différence entre les jours ouvrés et les jours ouvrables ?', 'jours ouvrés ?', 'calcul jours ouvrables'} -> 22\n",
      "{'les congés pour événements familiaux'} -> 8\n",
      "{\"protocole d'accord préélectoral\"} -> 6\n",
      "{'forfait heures'} -> 8\n",
      "{'forfait jour'} -> 8\n",
      "{'forfait jour'} -> 141\n",
      "{'forfait jours'} -> 17\n",
      "{'delegue du personnel', 'delegué du personnel', 'delegue personnel', 'délégué du personnel'} -> 11\n",
      "{'astreintes', 'les astreintes'} -> 6\n",
      "{'syndicat'} -> 6\n",
      "{'particulier employeur'} -> 7\n",
      "{'contingent heures supplémentaires'} -> 17\n",
      "{'heures supplémentaires courrier'} -> 7\n",
      "{'repos compensateur'} -> 17\n",
      "{'contrepartie obligatoire en repos', 'contrepartie obligatoire de repos', 'la contrepartie obligatoire en repos'} -> 6\n",
      "{'comment sont rémunérées les heures supplémentaires ?', 'est-il obligatoire de payer les heures supplémentaires ?', 'heures supplémentaires nin payées', 'heures supplémentaires non payées', 'heures supplémentaires non majorées', 'le paiement des heures supplémentaires'} -> 98\n",
      "{'quel taux pour les heures supplémentaires ?'} -> 7\n",
      "{'comment sont calculés les heures supplémentaires', 'comment payer mes heures supplémentaires'} -> 6\n",
      "{'calcul heures supplémentaires', \"nombre maximum d'heures supplémentaires\", 'calcul heures supplémentaire'} -> 10\n",
      "{'Forfait jour'} -> 24\n",
      "{'Forfait jours'} -> 6\n",
      "{'negociation annuelle obligatoire', \"négociation obligatoire d'entreprise\", 'Négociations annuel obligatoire', 'négociation collective', 'négociations annuelles obligatoires', 'négociation annuelle obligatoire', \"négociations obligatoires d'entreprise\", 'négociation annuelle obligatoire thèmes', 'documents obligatoires à remettre aux syndicats', 'negociation collective', 'négociations annuelles obligatoires cse', 'Négociation collective', 'négociation annuelle obligat', 'documents obligatoires négociation', \"thèmes ouverts à la négociation collective d'entreprise\", 'négociation collective ?', 'négociation triennale', \"négociation accord d'entreprise\"} -> 98\n",
      "{\"accords d'entreprise\"} -> 15\n",
      "{\"accords d'entreprise\"} -> 14\n",
      "{\"déclaration unique à l'embauche\", \"Déclaration unique d'embauche\", 'déclarer un employé', 'dpae délai', 'déclaration préalable', 'la dpae est elle obligatoire ?', \"déclaration préalable à l'embauche urssaf\", 'comment savoir si je suis déclaré par mon employeur ?', 'dpae formulaire', \"formalités liées à l'embauche déclaration préalable\"} -> 20\n",
      "{'pereco', 'abondement PEE', 'abondement pee', 'abondement perco forfait social', 'abondement perco imposable', 'mise en place perco'} -> 16\n",
      "{\"plan d'épargne salariale\", \"plan d'épargne pour la retraite collectif\"} -> 8\n",
      "{'le stagiaire a t-il les mêmes droits que les salariés', 'stagiaires et droits aux congés', \"statut du stagiaire dans l'entreprise\", 'je suis stagiaire, quels sont mes droits?'} -> 15\n",
      "{'gratification du stagiaire', 'salaire stage', 'rémunération stage', 'stagiaire et rémunération'} -> 9\n",
      "{'stage'} -> 22\n",
      "{'Stage'} -> 6\n",
      "{'fonction publique hospitalière et indemnités'} -> 12\n",
      "{'installation de caméra au travail'} -> 7\n",
      "{'Le prélèvement à la source', 'prélèvement a la source', 'prélèvement à la source', 'prelevement à la source', 'prélevement à la source', 'prelevement a la source'} -> 10\n",
      "{'pse'} -> 8\n",
      "{'PMSMP'} -> 6\n",
      "{'PSE'} -> 9\n",
      "{'le risque plomb', 'plomb dans les peintures', 'plomb démolition', 'exposition au plomb'} -> 8\n",
      "{'ventilation'} -> 6\n",
      "{'incendie'} -> 12\n",
      "{'sécurité incendie'} -> 48\n",
      "{\"dissimulation d'emploi salarié\", 'travaille dissimuler', \"prêt de main d'oeuvre illicite\", 'travail dissimulé particulier', \"prescription travail dissimulé prud'hommes\", 'Travail illegal', 'travail dissimulé non rémunéré', \"dissimulation d'heures de travail\", 'travail au noir', 'marchandage', 'travailler pendant ses congés', 'travail dissimulé', 'travail illégal'} -> 48\n",
      "{'panier repas'} -> 14\n",
      "{'rôle service de santé au travail'} -> 7\n",
      "{'risques chimiques', 'risque chimique'} -> 14\n",
      "{'Rtt'} -> 30\n",
      "{'Repos'} -> 8\n",
      "{'risques psycho'} -> 10\n",
      "{'convention collective industrie chimique'} -> 10\n",
      "{'mutation', 'Mutation'} -> 16\n",
      "{'absences injustifiées', 'Abandon de poste', 'abandon de spote', 'absence injustifiée', 'Absence injustifiée', 'Absences injustifiées', 'Absence non justifiée', 'Abandon de postr', 'abandon poste', 'abandon de poste', 'absence injustiée', 'abandon de poste et faute grave', 'licenciement pour abandon de poste', 'LICENCIEMENT POUR ABANDON DE POSTE EN CDI', 'ABANDON DE POSTE', 'Absence injustifie', 'abandon%20poste'} -> 195\n",
      "{\"a-t-on le droit de ne pas aller au travail en cas d'intempéries ?\", 'intemperies', 'intempéries bâtiment et travaux publics', 'journée intempérie code du travail', 'intempéries'} -> 13\n",
      "{'déclaration accident du travail', 'formulaire accident du travail', \"déclaration d'accident du travail\", \"Non déclaration d'accident du travail\"} -> 17\n",
      "{\"quelle indemnisation en cas d'accident du travail ?\", 'délai de carence indemnités journalières accident du travail', \"quel pourcentage du salaire en cas d'accident du travail ?\", \"quel salaire en cas d'accident du travail ?\", 'salaire pendant accident du travail', 'versement indemnités pendant accident du travail', 'indemnités journalières pendant accident du travail', \"mon employeur doit il me verser un salaire en cas d'accident du travail ?\", \"rémunération de l'accident du travail\", 'accident du travail et salaire journalier de référence', 'quelle indemnisation pour un accident du travail ?', 'accident du travail et maintien de salaire', 'perçoit on des indemnités pendant un arrêt suite à un accident du travail', 'indemnisation pendant un accident du travail'} -> 37\n",
      "{'accord de performance collective', 'accord performance collective'} -> 7\n",
      "{'assistante maternelle'} -> 7\n",
      "Key error : [\"/fiche-service-public/arret-maladie-demarches-a-effectuer\", \"/fiche-service-public/arret-maladie-indemnites-journalieres-versees-au-salarie\", \"/fiche-service-public/lemployeur-peut-il-exiger-un-arret-de-travail-pour-une-journee-dabsence\", \"/contribution/en-cas-darret-maladie-du-salarie-lemployeur-doit-il-assurer-le-maintien-de-salaire\", \"/contribution/en-cas-de-maladie-le-salarie-a-t-il-droit-a-une-garantie-demploi\", \"/fiche-service-public/le-salarie-doit-il-passer-une-visite-medicale-apres-un-arret-de-travail\", \"/fiche-service-public/arret-maladie-reprise-du-travail-du-salarie\", \"/fiche-service-public/quelles-sont-les-heures-dautorisation-de-sortie-du-salarie-en-arret-maladie\", \"/fiche-service-public/un-salarie-peut-il-revenir-travailler-avant-la-fin-de-son-arret-maladie\", \"/fiche-service-public/un-salarie-peut-il-travailler-pendant-un-arret-maladie\", \"/fiche-service-public/controle-dun-salarie-en-arret-de-travail-quelles-sont-les-regles\", \"/fiche-service-public/un-arret-de-travail-prolonge-t-il-un-cdd\", \"/fiche-service-public/peut-on-prendre-directement-des-conges-apres-un-arret-maladie\", \"/fiche-service-public/arret-maladie-pendant-le-preavis-quelles-consequences\"]\n"
     ]
    },
    {
     "name": "stdout",
     "output_type": "stream",
     "text": [
      "{'arrêt de travail congés payés', 'arrêt maladie puis congés payés', 'peut-on prendre directement des congés après un arrêt maladie ?', \"congés payés suivi d'un arrêt maladie\", 'arret de travail et congés payés', 'acquisition congés payés pendant arrêt maladie', 'est-ce que je cumule des congés payés en arrêt maladie ?', 'arrêt de travail et congés payés'} -> 40\n",
      "{'mi-temps thérapeuthique', 'mi temps thérapeutique et congés payés', \"quelle est la durée maximale d'un mi-temps thérapeutique ?\", 'TEMPS PARTIEL THERAPEUTIQUE', 'mi temps therapeutique', 'mi temps thérapeutique horaires travail', 'mi-temps thérapeutique: quelle incidence sur la rémunération ?', 'mi temps thérapeutique', 'temps partiel thérapeutique', 'temps partiel thérapeutique: quel impact sur la retraite ?', 'temps partiel therapeutique', 'mi temps thérapeutique refus employeur', 'comment est payé un mi-temps thérapeutique ?', 'le mi-temps therapeutique', 'mi-temps thérapeutique', 'mi-temps therapeutique'} -> 102\n",
      "{\"combien de jours de congés en cas de décès d'un proche ?\", 'congé décès', 'congés décès', 'congé pour décès grand parent'} -> 12\n",
      "{'remboursement repas', 'panier repas obligatoire ou pas', 'indemnité repas', 'indemnités frais de repas', 'remboursement frais de repas formation professionnelle', 'panier repas transport'} -> 73\n",
      "{\"quels sont les avantages d'une voiture de fonction ?\", 'voiture de fonction ou de service', \"qu'est-ce qu'un avantage en nature voiture ?\", 'quelle différence entre voiture de fonction et de service ?', \"voiture de fonction qui paye l'essence\", 'voiture de fonction conjoint', 'voiture de fonction'} -> 30\n",
      "{'BDES'} -> 26\n",
      "{'attestation employeur'} -> 8\n",
      "{'ai-je droit aux chèques vacances ?', 'chèques vacances et activités sociales', 'Cheque vacances', 'chèques vacances', 'chèques vacances et cse'} -> 18\n",
      "{'Comite social et economique', 'cse entreprise', 'COMITE SOCIAL ECONOMIQUE', 'comité social et économique'} -> 29\n",
      "{\"c'est quoi le cse ?\", 'missions du cse', 'quel est le rôle des instances représentatives du personnel ?', 'cse entreprise', 'quel est le rôle du cse ?', 'comité social et économique'} -> 57\n",
      "{\"c'est quoi le cse ?\", 'qr_comite_social_et_economique', 'missions du cse', 'Comité social et économique', 'cse entreprise', 'quel est le rôle des instances représentatives du personnel ?', 'quel est le rôle du cse ?', 'comité social et économiqie', 'quelles sont les institutions représentatives du personnel ?', 'comité social et économique', 'comite social economique'} -> 68\n",
      "{'Congé sans solde', 'congé sans solde', 'congés sans solde', 'conges sans solde', 'comment demander un congé sans solde', \"c'est quoi un congé sans solde ?\", 'CONG2 SANS SOLDE', \"qu'est-ce que le congé sans solde ?\", 'Congé sans soldes', 'CONGE SANS SOLDE', \"quelle est la durée maximale d'un congé sans solde ?\", \"mon employeur peut-il m'imposer un congé sans solde ?\", 'Congés sans soldes'} -> 256\n",
      "{'effectif assujettissement'} -> 6\n",
      "{'effectif'} -> 13\n",
      "{'rupture conventionnelle individuelle indemnité de rupture', 'quelles sont les indemnités de rupture conventionnelle?'} -> 6\n",
      "{\"accord d'entreprise\"} -> 6\n",
      "{'qui a le droit aux tickets restaurants ?', 'titres restaurant', 'chèques déjeuner', 'ticket restaurant', 'cheque%20dejeuner', 'mise en place des tickets restaurant dans une entreprise', 'ticket restaurants', 'TICKET RESTAURANT', 'tickets restaurant urssaf', 'titre restaurant', 'Tickets restaurant', 'panier repas ou ticket restaurant obligatoire', 'cheque déjeuner', 'tickets restaurants', 'tickets resto', \"suppression ticket restaurant par l'employeur\", 'note de service repas du personnel', \"conditions d'attribution des tickets restaurant\", 'TITRE RESTAURANT', 'TICKETS RESTAURANTS', 'une entreprise peut elle supprimer les tickets restaurant', 'ticket restaurant loi'} -> 85\n",
      "{'réunion cse', 'reunion cse'} -> 7\n",
      "{'Réunion cse', 'Reunion cse', 'Réunion extraordinaire cse'} -> 6\n",
      "{\"travail dissimulé par dissimulation d'emploi salarié\", 'travailleur indépendant et salarié : quelles différences ?', 'différencier salarié, indépendant, et faux indépendant?', 'requalification en salarié'} -> 6\n",
      "{'Compte epargne temps', 'Compte épargne temps'} -> 12\n",
      "Key error : [\"/fiche-service-public/compte-personnel-de-formation-cpf\", \"/fiche-service-public/chomage-compte-personnel-de-formation-cpf-dun-demandeur-demploi\", \"/fiche-ministere-travail/compte-personnel-de-formation-cpf\", \"/fiche-ministere-travail/compte-personnel-de-formation-cpf#Qu-est-ce-que-le-compte-personnel-de-formation\", \"/fiche-ministere-travail/compte-personnel-de-formation-cpf#A-qui-s-adresse-le-Compte-personnel-de-formation-CPF\", \"/fiche-ministere-travail/compte-personnel-de-formation-cpf#Comment-consulter-son-Compte-personnel-de-formation-CPF\", \"/fiche-ministere-travail/compte-personnel-de-formation-cpf#Comment-est-alimente-le-Compte-personnel-de-formation-CPF-nbsp\", \"/fiche-ministere-travail/compte-personnel-de-formation-cpf#Comment-utiliser-le-Compte-personnel-de-formation-CPF\", \"/fiche-ministere-travail/compte-personnel-de-formation-cpf#Pour-quelles-formations\", \"/fiche-ministere-travail/compte-personnel-de-formation-cpf#Que-faire-si-le-nombre-d-heures-disponibles-ne-couvrent-pas-le-cout-de-la-nbsp\", \"/fiche-ministere-travail/compte-personnel-de-formation-cpf#Que-se-passe-t-il-en-cas-de-changement-de-situation\"]\n",
      "{'cpf et reconversion', 'Formation', 'compte personnel de formation', 'formation', 'formation en dehors du temps de travail', 'comment utiliser son cpf ?'} -> 11\n",
      "{'motifs cdd', \"cdd accroissement temporaire d'activité\", 'cdd renouvellement', 'cdd durée', \"accroîssement temporaire d'activité\", 'cdd de remplacement', \"cdd période d'essai\", 'CDD remplacement', 'dans quels cas peut-on embaucher sous contrat à durée déterminée ?', \"justification d'un cdd\", 'les cas de recours au cdd', 'Contrat de cdd', 'CDD renouvellement', 'cdd remplacmeent', 'Cdd remplacement', 'motif cdd', 'quelles sont les mentions obligatoires du cdd ?', \"CDD période d'essai\", 'CDD de remplacement', 'modèle cdd', 'contrat à durée déterminée', 'cdd renpouvellement', 'cdd remplacement', 'contrat cdd', 'Contrat a durée déterminé', 'cdd successifs', 'CDD%20renouvellement', 'cdd prime de précarité'} -> 277\n",
      "{'quelles sont les mentions obligatoires du cdd ?', 'Contrat cdd', 'cdd remplacement', 'contrat cdd', 'cdd renouvellement', 'cdd durée', 'cdd%20remplacement', 'cdd quelle est la durée maximale ?', 'cdd prime de précarité'} -> 12\n",
      "{'cdd remplacement', 'contrat cdd', 'motifs cdd', 'cdd successifs', 'cdd durée', 'cdd renouvellement', 'contrat à durée déterminée', 'modèle cdd', \"c'est quoi un cdd\", 'contrat à durée déterminé', 'cdd prime de précarité', 'contrat à durée determinée'} -> 46\n",
      "{'contrat à durée indéterminée', 'contrat cdi', \"contenu d'un contrat de travail\", \"je n'ai pas signé mon contrat\", 'cdi non signé', \"contenu d'un cdi\", 'Contrat CDI', 'comment conclure un cdi ?'} -> 59\n",
      "{'congé de formation économique sociale et syndicale'} -> 26\n",
      "{'conge paternite', 'paternité', 'congé paternité ?', 'puis-je travailler pendant mon congé paternité ?', 'conges paternité', 'CONGES PATERNIE', 'Paternite', 'paternité : à quoi ai-je droit ?', \"c'est quoi le congé paternité ?\", 'Congé paternite', 'report du congé paternité', 'congé paternite', 'quelle est la durée du congé de paternité ?', 'Conge paternite', \"congé de paternité et d'accueil de l'enfant\", 'conges paternite', 'Paternité', 'Conges paternite', 'congés paternité', 'congé paternité', 'quel est le régime du congé de paternité ?', 'CONGES PATERNITE', 'indemnisation congé de paternité', 'conge paternité', 'CONGE PATERNITE', 'Congè partenitè', 'Conger paternité'} -> 119\n",
      "{'congé présence parentale'} -> 6\n",
      "{'CONGES DE RECLASSEMENT', 'Le conge de reclassement', 'reclassement', 'Reclassement', 'congé reclassement', 'conges de reclassement', 'congé de reclassement', 'congés de re\"classement', 'cellule de reclassement', 'congés de reclassement'} -> 42\n",
      "{'mariage'} -> 16\n",
      "{'durée du congé pour pacs', 'combien de jours de congés pour un mariage ?', 'congé pacs', 'congé pour pacs', 'congé pour mariage', 'congé mariage'} -> 18\n",
      "{'PACS'} -> 8\n",
      "{'abxence legitumme pôur pacs', 'pacs'} -> 11\n",
      "{'Pacs'} -> 6\n",
      "{\"congé pour création d'entreprise\", \"congé pour création ou reprise d'entreprise\", \"congé création d'entreprise\", \"congé pour création d'entreprise indemnités\", \"congé pour création d'entreprise rémunération\", 'Congé création d’entreprise'} -> 26\n",
      "{'qui paie le congé parental ?', 'congé parental temps partiel', 'Conge parental temps partiel'} -> 20\n",
      "{'quelle est la durée du congé parental d’éducation ?', 'conge parentale', 'congé parental et congés payés', 'CONGES PARENTALE', \"congé parental d'éducation\", \"rupture anticipée congé parental d'éducation\", 'congé parental total', 'Conge parental', 'Congé parental', 'conge parental', 'congés parental', 'CONGE PARENTAL', 'congé pareental', 'comment prendre le congé parental ?', 'congé pour éduquer son enfant', 'congé parental congé payés', 'Congés parental', \"conge parental d'éducation\", \"ancienneté pour bénéficier du congé parental d'éducation\", 'congés parentals', \"rupture conventionnelle congé parental d'éducation\", 'la durée du congé parental d’éducation peut-elle être écourtée ?', 'congé parental et autres activités professionnelles', 'demande conge parental d education', 'congés parentale', \"démission congé parental d'éducation\", 'congé parental EDUCATION', 'Conges parental', 'congé parental', 'congé parental éductation', \"congé parental d'éducation en cas d'adoption\"} -> 268\n",
      "{\"conditions d'un congé sabbatique\", 'Conge sabbatique', 'année sabatique', 'conge sabbatique', 'Congé sabbatique', 'congé sabbatique et démission', 'prendre une année sabbatique', 'congés sabbatique', 'congé sabbatique et congé sans solde', 'conge%20sabatique', 'rémunération congé sabbatique', 'Conges sabbatiquez', 'congé sabbatique', 'Congé sabatique'} -> 106\n",
      "{'rémunération congé sabbatique', 'congé sabbatique', 'congés sabbatique', 'congé sabbatique et congé sans solde'} -> 15\n",
      "{\"fermeture de l'entreprise et congé sans solde\", \"congés imposés par l' employeur\", \"l'employeur a t il le droit d'imposer des congés payés\", 'Congés imposés', 'congés payés et fermeture entreprise', 'congés payés imposes', \"fermeture de l'entreprise et congés payés\", 'mon employeur peut-il les dates de départ en congés payés ?', \"mon employeur ferme cet été peut-il m'imposer mes congés payés ?\", \"l'employeur peut il imposer les dates de congés payés\", \"mon patron peut-il m'imposer une journée de congé ?\", 'congés payés imposés', 'qui fixe les dates des congés payés ?', 'mon employeur peut-il décider des dates de mes congés payés ?', 'l employeur peut il imposes des conges payes', 'congés payés et activité partielle', \"mon employeur peut-il m'imposer des congés payés ?\", 'Congés payés imposés', \"congés payés et fermeture de l'entreprise\", 'Congé payés imposer', 'Congés imposé', 'qui décide des dates des congés payés ?', \"période des congés payés imposée par l'employeur\"} -> 112\n",
      "{'congés supplémentaires fractionnement', 'JOURNEE DE FRACTIONNEMENT', 'Jours de Fractionnement', 'jours de fractionnement', 'comment calculer les jours de fractionnement ?', 'fractionnement congés payés ouvrés', 'jours supplémentaires de congé', 'comment fonctionnent les 2 jours de fractionnement ?', 'jour de fractionnement', 'paiement des jours de fractionnement', 'jours de fractionnement btp', 'fractionnement congés payés jours ouvrés'} -> 99\n",
      "{'comment se calcule les congés payés', 'congés payés décompte en jours', \"quelle est l'incidence de jours fériés pendant mes congés, sont-ils décomptés ?\", 'comment calculer les congés payés ?', 'congés payés décompte en semaines', 'calcul congé payé et accident du travail', '5 semaines de congés', 'règles de calcul des congés payés', 'decompte conges payes', 'nombre de congés payés', 'decompte des congés payer', 'calcul des congés payés et congé maternité', 'décompte des congés payés', 'calcul congé payé et arrêt de travail', 'calcul des congés payés et maladie', 'congés payés décompte en jours ouvrables et jours ouvrés', 'calcul congé payé et activité partielle', 'congés payés decompte', 'combien de congés payés par mois ?', 'calcul congé payé année incomplète', 'quelle durée pour les congés payés ?', 'comment s’effectue le décompte des congés payés ?', \"la période d'activité partielle est-elle prise en compte pour le calcul des congés payés ?\", 'calcul du nombre de jours de congés payés', 'à combien de vacances ai-je droit ?'} -> 118\n",
      "{'congés payés décompte en jours ouvrables et jours ouvrés', 'nombre de congés payés', 'congés payés décompte en jours', \"quelle est l'incidence de jours fériés pendant mes congés, sont-ils décomptés ?\", 'congés payés décompte en semaines', 'comment calculer les congés payés ?', 'calcul congé payé et accident du travail', 'décompte des congés payés', 'comment compter les jours de congés payés ?', 'quelle durée pour les congés payés ?'} -> 12\n",
      "Key error : [\"/fiche-service-public/conges-payes\", \"/fiche-ministere-travail/les-conges-payes#Qui-a-droit-aux-conges-payes\", \"/fiche-ministere-travail/les-conges-payes#Comment-calculer-le-nombre-de-jours-de-conges\", \"/fiche-service-public/arret-maladie-et-conges-payes-annuels\", \"/fiche-ministere-travail/les-conges-payes#Qu-appelle-t-on-periode-de-reference\", \"/fiche-ministere-travail/les-conges-payes#lt-lt-Jour-ouvrable-de-quoi-s-agit-il\", \"/fiche-ministere-travail/les-conges-payes#A-quel-moment-prendre-les-conges-payes\", \"/fiche-ministere-travail/les-conges-payes#Quelles-sont-les-modalites-de-prise-des-conges-payes\", \"/fiche-ministere-travail/les-conges-payes#Dans-quels-cas-le-salarie-a-t-il-droit-a-des-conges-supplementaires-nbsp\", \"/fiche-ministere-travail/les-conges-payes#Quelle-est-l-incidence-de-l-absence-pour-maladie-sur-le-droit-aux-conges-nbsp\", \"/fiche-ministere-travail/les-conges-payes#Quelles-sont-les-consequences-de-la-maladie-durant-les-conges-payes-nbsp\", \"/contribution/si-le-salarie-est-malade-pendant-ses-conges-quelles-en-sont-les-consequences\", \"/modeles-de-courriers/reclamation-de-conges-payes\", \"/fiche-service-public/a-t-on-droit-a-des-conges-payes-pendant-un-cdd\", \"/fiche-service-public/peut-on-demissionner-pendant-ses-conges-payes\", \"/fiche-service-public/le-salarie-peut-il-prendre-des-conges-payes-pendant-son-preavis\", \"/fiche-service-public/les-jours-de-conges-non-pris-peuvent-ils-etre-reportes-sur-lannee-suivante\", \"/fiche-service-public/comment-calculer-lindemnite-de-conges-payes-du-salarie\", \"/fiche-service-public/un-employeur-peut-il-imposer-au-salarie-en-conge-payes-de-revenir-travailler\", \"/fiche-service-public/fermeture-de-lentreprise-pour-conges-annuels-le-salarie-est-il-indemnise\", \"/fiche-service-public/labsence-du-salarie-est-elle-prise-en-compte-pour-le-calcul-de-ses-conges\", \"/fiche-service-public/evenement-familial-pendant-les-conges-payes-quelles-consequences\", \"/fiche-service-public/conges-payes-dune-assistante-maternelle\", \"/fiche-service-public/services-a-la-personne-conges-du-salarie-employe-a-domicile\", \"/fiche-service-public/comment-beneficier-du-billet-de-conge-annuel-de-la-sncf-a-tarif-reduit\", \"/fiche-service-public/cheque-vacances-pour-un-salarie-du-secteur-prive\"]\n",
      "{'Congé payer', 'CONGES PAYES', 'congé', 'conges pay', 'conges payés', 'Conge annuel', 'congé payés', 'conges', 'Congq payes', 'Congé payé', 'Conger paye', 'congé payé', 'Congé s', 'conge payé', 'conges pates', 'congé paye', 'congés annuels', 'congés payézs', 'congés payer', 'Conges payes', 'congé annuel', 'conges*', 'congés ayés', 'congés', 'congés payé', 'Congé paye', 'qui a droit aux congés payés ?', 'congès payés', 'congés payes', 'conges paye', 'conges payesb', 'conges%20payes', 'cogés payés', 'conge paye', 'Congé payes', 'Conges payés', 'Congee payés', 'congexs payes', 'congés payéds', 'congès', 'Conges payer', 'Conge payé', 'Congés', 'cogé payés', 'congnés payés', 'Conge paye', 'CONGES PAY2S', 'Congés payé', 'congés payés4', 'conges payer', 'CONGES%20PAYES', 'conges ^payes', 'congés payés e', 'Conges paye', 'Congees payés', 'conges payes', 'congés payés', 'congés$', 'vacances annuelles', 'congé payes', 'Conge payes', 'conges pays', 'congés âyés', 'CONGes payés', 'Congés payés', 'Congé payés', 'Conges payé', 'Congé', 'Congés payes', 'Conges', 'Onges payes', 'CONGES', 'congépaye', 'conge payés'} -> 1408\n",
      "{'congés payés et paternité', 'calcul de congés payés', 'congés payés et fractionnement', 'congés payés et congé sabbatique', 'congés payés maternité', 'congés payés et maladie', 'congés payés et maternité', 'congés payés acquisition'} -> 94\n",
      "{'calcul de congés payés', 'calcul des congés', 'congés payés maternité', 'à combien de congés ai-je droit sncf', 'à combien de congés ai-je droit', 'calcul co,gés payés', 'congés payés et maternité', 'congés payés et paternité', 'congés payés et maladie', 'congés payés et absences', 'congés payés maladie', 'conges payes et maladie', 'congés payés et fractionnement', 'CALCUL congé payés', 'congés payés et congé sabbatique', 'congés payés et maternit', 'modalité calcul congés payés', 'congés payés acquisition', 'calcul congés payés pour cdd', 'calcul congés payes', 'congé payés et absences', 'calcul des congés payés', 'calcul congés payés', 'conges payes et maldie'} -> 824\n"
     ]
    },
    {
     "name": "stdout",
     "output_type": "stream",
     "text": [
      "{'vacances assistante maternelle', 'jours de congés payés supplémentaires assistante maternelle', 'congés payés assistante maternelle', 'Conges payes assistante maternelle', 'acquisition des congés payés assistante maternelle', \"comment payer les congés payés d'une assistante maternelle ?\", 'Conge paye assistante maternelle', 'paiement des congés payés assistante maternelle', 'conges payes assistante maternelle', \"les congés en année incomplète de l'assistante maternelle\", 'prise des congés payés assistante maternelle'} -> 45\n",
      "Key error : [\"/fiche-service-public/conseil-de-prudhommes-cph-deroulement-dune-affaire\", \"/fiche-service-public/quels-sont-les-recours-possibles-apres-un-jugement-du-conseil-de-prudhommes\", \"/fiche-service-public/quest-ce-quun-defenseur-syndical\", \"/fiche-service-public/prudhommes-quest-ce-que-lindemnite-forfaitaire-de-conciliation\", \"/fiche-service-public/saisine-du-conseil-de-prudhommes-cph\", \"/fiche-service-public/doit-on-se-presenter-en-personne-devant-le-conseil-de-prudhommes-cph\", \"/fiche-service-public/un-conseiller-prudhomal-beneficie-t-il-de-temps-dabsence-ou-de-conges\", \"/fiche-service-public/quelle-est-la-date-du-prochain-renouvellement-des-conseils-de-prudhommes\", \"/fiche-service-public/comment-est-indemnise-un-conseiller-prudhommes-du-college-salarial\", \"/fiche-ministere-travail/le-conseil-de-prudhommes#Comment-se-deroule-une-procedure\", \"/fiche-ministere-travail/le-conseil-de-prudhommes#Existe-t-il-une-procedure-d-urgence\", \"/fiche-ministere-travail/le-conseil-de-prudhommes#Peut-on-se-faire-representer-ou-assister-a-l-audience\"]\n",
      "{\"congés d'ancienneté\"} -> 19\n",
      "{'CDD senior', 'cdd senior', 'CDD Senior', 'CDD seniors'} -> 10\n",
      "{\"contrat d'apprentissage horaires\", 'fin contrat apprentissage', \"contrat d'apprentissage BTP\", \"contrat d'apprentissage cdd\", 'apprentissage centre de formation des apprentis', \"quelle est la durée du contrat d'apprentissage ?\", 'rémunération apprenti', \"contrat d'apprentissage salaire\", \"qu'est-ce qu'un contrat d'apprentissage en alternance ?\", 'quelles sont mes obligations dans le cadre d’un contrat d’apprentissage ?', \"Contrat d'apprentissage\", \"quel âge pour un contrat d'apprentissage ?\", \"rompre un contrat d'apprentissage\", \"apprenti et maître d'apprentissage\", 'contrat d apprentissage', \"contrat d'apprentissage\", 'contart%20apprentissage', 'apprentissage et alternance', \"modèle contrat d'apprentissage\", \"c'est quoi un contrat d'apprentissage ?\", \"contrat d'apprentissage rupture\", 'contrat apprentissage', \"alternance et contrat d'apprentissage\", \"Le contratd' apprentissage\", 'conytrat appretissage', 'Contrat apprentissage'} -> 146\n",
      "{\"contrat d'apprentissage rupture\", \"contrat d'apprentissage horaires\", \"contrat d'apprentissage définition\", \"contrat d'apprentissage cdd\", 'rémunération apprenti', 'apprentissage et alternance', \"contrat d'apprentissage\", \"apprenti et maître d'apprentissage\"} -> 16\n",
      "{'contrat de professionalisation', 'quel âge pour un contrat de professionnalisation ?', 'alternance et contrat de professionnalisation', 'quel salaire pour contrat de professionnalisation ?', 'contrat prof', 'contrat de professionnalisation cdd', 'contrat pro A', 'contrat professionalisation', 'Quota contrat de professionnalisation', 'comment est organisée la rémunération du contrat de professionnalisation ?', 'contrat pro', 'Contract pro', 'Le contrat de professionalisation', 'contrat de professionnalisation', 'Contrat de professionnalisation', 'contrat professionnalisation'} -> 98\n",
      "{'contrat de securisation professionnelle', 'contrat de sécurisation professionnelle'} -> 8\n",
      "{'parcours emploi competences', 'parcours emploi compétences', 'parcours emploi compétences brsa'} -> 6\n",
      "{'contrat initiative emploi', 'contrat unique insertion', \"contrat d'accompagnement dans l'emploi\", 'contrat aidé', \"contrat unique d'insertion aide employeur\", \"contrat unique d'insertion\", 'CONTRAT AIDE', 'emplois aidés', \"qu'est-ce qu'un contrat pec ?\"} -> 21\n",
      "{'convention collective sica betail et viande', 'convention collective jardinerie grainetrie', 'convention collective hotellerie', 'convention collective Gard Lozère métallurgie', 'convention collective esthétique', 'convention collective textile'} -> 7\n",
      "{'convention collective cultuel', 'Convention collective propreté', 'convention collective banque', 'Convention collective mutualite', 'Convention collective renault', 'Convention collective de materiaux de construction'} -> 9\n",
      "{'convention collective 0887', 'convention collective de 1966', 'convention collective 0897', 'convention collective 313966129 00089'} -> 7\n",
      "{'convention collective de la métallurgie', 'convention collective des télécommunication', 'convention collective metallurgie', 'convention collective métalurgie', 'convention collective metalurgie', 'convention collective métallurgie', 'convention collective métallurgie bouches du rhone'} -> 15\n",
      "{'Convention collective transport', 'convention collective transport', 'Convention collective du transport'} -> 6\n",
      "{'convention collective nationale de branche', 'convention%20collective', 'Convention collective 66', 'accord de branche et convention collective', 'Convention collective 214', 'convention colletive', 'conventions collective', 'conventin collective', 'convention collective nationale', 'convation collective', 'convention collective bad', 'accord de branche et convention collective quelle différence ?', 'convention collective btp', \"c'est quoi une convention collective ?\", 'convention collective nationale/', 'Convention collective', 'convention collective', 'convention collective BTP', 'convetions collective', 'convention collective départementale', 'Convention collective ieg', 'convention collective 66', 'convention collective définition', 'accord de branche', 'convention collectif', 'convention%20collective%20nationale', 'CONVENTION COLLECTIVE', 'convention collective BTp', 'convention collctive', 'convention collective obligatoire', 'convention collectives', 'convention collective de branche', 'covention collective', 'convention collective nationale 1966', \"qu'est-ce qu'une convention collective de branche ?\", 'convention collective vrp', 'la convention collective', 'conventions collectives', 'à quoi sert une convention collective ?', \"comment connaître la convention collective qui m'est applicable ?\"} -> 257\n",
      "{\"qui négocie les accords d'entreprise ?\", 'trouver un accord collectif', \"qu'est ce qu'un accord collectif?\", \"dépôt de l'accord collectif\"} -> 32\n",
      "{'dénonciation de la convention collective', 'négociation branche'} -> 7\n",
      "Key error : [\"/fiche-service-public/cotisations-salariales-salarie-du-secteur-prive\", \"/fiche-service-public/fiche-de-paie\", \"/fiche-service-public/en-quoi-consiste-le-nouveau-modele-de-fiche-de-paie\", \"/fiche-service-public/quel-est-lemplacement-des-cotisations-dans-le-bulletin-de-paie-clarifie\", \"/fiche-service-public/affiliation-et-cotisations-sociales-des-artistes-auteurs\", \"/fiche-service-public/forfait-social\", \"/fiche-service-public/exonerations-de-cotisations-sociales-en-zrr\", \"/fiche-service-public/cotisations-et-contributions-sociales-des-commercants-artisans-et-industriels\", \"/fiche-service-public/nouveau-modele-de-bulletin-de-paie-classement-des-rubriques\", \"/fiche-service-public/quels-sont-les-seuils-deffectifs-pour-les-declarations-sociales\", \"/fiche-service-public/contribution-solidarite-autonomie-csa\", \"/fiche-service-public/reduction-generale-des-cotisations-patronales-ex-reduction-fillon\", \"/fiche-service-public/emploi-a-domicile-peut-on-etre-exonere-des-cotisations-sociales\", \"/fiche-ministere-travail/le-bulletin-de-paie#Quelles-sont-les-mentions-obligatoires\", \"/fiche-ministere-travail/le-bulletin-de-paie#Et-les-mentions-interdites\", \"/fiche-ministere-travail/le-bulletin-de-paie#Quelles-sont-les-conditions-de-remise-du-bulletin-de-paie\", \"/fiche-ministere-travail/le-bulletin-de-paie#Une-remise-du-bulletin-de-paie-sous-forme-electronique-est-elle-possible-nbsp\", \"/fiche-ministere-travail/le-bulletin-de-paie#Information-du-salarie\", \"/fiche-ministere-travail/le-bulletin-de-paie#Garanties-de-disponibilite-des-donnees\", \"/fiche-ministere-travail/le-bulletin-de-paie#Consultation-a-partir-du-site-dedie-au-CPA\", \"/fiche-ministere-travail/le-bulletin-de-paie#Contester-le-bulletin-de-paie-est-ce-possible\", \"/fiche-ministere-travail/le-bulletin-de-paie#Documents-annexes-au-bulletin-de-paie\", \"/fiche-ministere-travail/emplois-a-domicile-credit-dimpot-et-exoneration-de-charges-patronales#Qui-peut-beneficier-de-l-exoneration-des-cotisations-de-securite-sociale-nbsp\"]\n",
      "{'cpf'} -> 50\n",
      "{'inspecteur du travail', \"visite de l'inspecteur du travail\", 'contrôleur du travail', \"visite de l'inspection du travail\", \"quel est le rôle de l'inspection du travail ?\", 'Inspecteur du travail', 'comment contacter la directe ?', \"intervention de l'inspecteur du travail\", 'inspection du travail', 'inspecteur de travail', \"saisir l'inspection du travail\", \"contacter l'inspection du travail\"} -> 35\n",
      "{'qui dois-je consulter en cas de harcèlement moral?', 'aide harcèlement moral', \"obligation de l'employeur et harcèlement moral\"} -> 10\n",
      "{\"embauche en cdi à l'issue du cdd\", 'fin de cdd et début cdi', 'cdd et apres cdd', \"poursuite d'un cdd en cdi\", 'requalification cdd en cdi', 'passage CDD en CDI', \"ai-je droit à l'indemnité de précarité si mon cdd se transforme en cdi ?\", 'cdd cdi', 'cdd et embauche en cdi indemnité de fin de contrat', 'cdd transformé en cdi', 'cdd et après cdi', 'avenant cdd en cdi'} -> 89\n",
      "{'fin de cdd et début cdi', \"ai-je droit à l'indemnité de précarité si mon cdd se transforme en cdi ?\", 'cdd et embauche en cdi indemnité de fin de contrat', 'cdd transformé en cdi', 'cdd et après cdi', 'demander la requalification de son cdd en cdi'} -> 11\n",
      "{'délégué syndical', 'délégue syndical', 'delegue syndical', 'Délégué syndical', 'Delegue syndical', 'delegue syndicale'} -> 83\n",
      "{'démarches départ à la retraite', 'retraite', 'RETRAITE', 'droit à la retraite', 'retraite à taux plein', 'départ volontaire à la retraite', 'préavis de départ à la retraite', 'retraite à 60 ans'} -> 29\n",
      "{'démarches départ à la retraite', 'retraite', 'reetraite', 'comment demander sa retraite ?', \"age de liquidation d'une retraite\", 'depart à la retraite', 'Retraite', 'départ en retrair', 'RETRAITE', 'depart a la retraite', 'Départ à la retraite', 'départ volontaire à la retraite', 'préavis de départ à la retraite', 'notification du départ en retraite', 'depart en retraite', 'depart retraite', 'départ retraite', 'Départ retraite', 'départ a la retraite', 'retraite à taux plein', 'droit à la retraite', 'Retraite a 60 ans', 'départ à la retraite anticipée', 'départ à la retraite', 'retraite à 60 ans'} -> 254\n",
      "{'Lettre de mission', 'lettre de demission', 'lettre démission', 'comment présenter une démission?', 'modèle lettre démission cdi', 'modèle lettre de démission simple', 'Exemple lettre de démission', 'lettre de démission', 'comment présenter une démisison'} -> 41\n",
      "Key error : [\"/fiche-service-public/demission-dun-salarie\", \"/fiche-ministere-travail/la-demission#Comment-presenter-une-demission\", \"/fiche-service-public/le-salarie-peut-il-revenir-sur-sa-demission\", \"/fiche-ministere-travail/la-demission#Quelle-est-la-situation-du-salarie-a-la-fin-du-contrat\", \"/fiche-ministere-travail/la-demission#Faut-il-respecter-un-preavis\", \"/contribution/quelle-est-la-duree-du-preavis-en-cas-de-demission\", \"/contribution/le-preavis-de-demission-doit-il-etre-execute-en-totalite-y-compris-si-le-salarie-a-retrouve-un-emploi\", \"/outils/preavis-demission\", \"/fiche-ministere-travail/la-demission#Et-les-heures-pour-recherche-d-emploi\", \"/fiche-service-public/est-on-dispense-de-preavis-en-cas-de-demission-liee-a-la-mutation-du-conjoint\", \"/fiche-service-public/peut-on-percevoir-lallocation-chomage-en-cas-de-demission\", \"/fiche-ministere-travail/la-demission#Le-salarie-peut-il-lt-lt-demissionner-dans-le-cadre-d-un-contrat-a-nbsp\", \"/fiche-service-public/peut-on-demissionner-pendant-un-conge-maternite\", \"/fiche-service-public/peut-on-demissionner-pendant-un-arret-maladie\", \"/fiche-service-public/demission-du-salarie-a-domicile-employe-par-un-particulier\", \"/fiche-service-public/demission-dune-assistante-maternelle\", \"/fiche-service-public/peut-on-demissionner-pendant-un-conge-parental\", \"/fiche-ministere-travail/la-demission#L-absence-prolongee-du-salarie-est-elle-une-demission\", \"/fiche-ministere-travail/la-demission#Le-refus-par-le-salarie-d-accepter-un-changement-des-conditions-de-nbsp\", \"/fiche-ministere-travail/le-droit-aux-allocations-chomage-du-salarie-demissionnaire#Quelles-sont-les-demissions-considerees-comme-legitimes\", \"/fiche-ministere-travail/le-droit-aux-allocations-chomage-du-salarie-demissionnaire\"]\n",
      "{'comment faire pour démissionner ?', 'je veux démissionner comment faire ?', 'comment puis-je démissionner ?', 'Demision', 'demission', 'je veux démissionner', 'Démissionner', \"rupture du contrat de travail à l'initiative du salarié\", 'quitter son emploi', 'démission', 'Demission', 'Demissin', 'DEMISSION', 'Demisssion', 'Démission', 'quelle est la procédure pour démissionner ?', 'comment démissionner', 'demission*', 'dmission', 'je veux quitter mon travail'} -> 352\n",
      "{'indemnité compensatrice de préavis et démission', 'indemnité compensatrice de congés payés et démission'} -> 9\n",
      "{'travail effectif'} -> 6\n",
      "{'accord de mise en place du cse', 'Mise en place du CSE', 'composition cse central', 'élections cse', 'élections professionnelles', 'le cse pour les nuls'} -> 10\n",
      "{\"p%C3%A9riode%20d'essai\"} -> 6\n",
      "{\"embauche en contrat d'extra (cdd d'usage)\"} -> 11\n",
      "{'Anciennete', 'Ancienneté'} -> 7\n",
      "{'entretien annuelle', 'entretien annuel'} -> 10\n",
      "{'entretien professionnel'} -> 144\n"
     ]
    },
    {
     "name": "stdout",
     "output_type": "stream",
     "text": [
      "{'local aveugle réglementation', 'lieu de travail différent du lieu de rattachement', 'lieu de travail contrat de travail', 'dimension bureau de travail', 'Lieu de travail', 'lieu de travail', 'conception des lieux de travail', \"surfaces minimales d'un espace de travail\"} -> 40\n",
      "{'faute du salarié', 'quels sont les types de fautes professionnelles ?', \"mon salarié m'a insulté\", 'faute professionnelle', 'quel délai pour sanctionner une faute ?', 'manquement aux règles professionnelles faute professionnelle', 'quelle sanction pour faute professionnelle ?'} -> 34\n",
      "{'licenciement pour faute', 'licenciement pour faute grave', 'licenciement faute grave', 'Licenciement pour faute'} -> 22\n",
      "{'licenciement faute grave', 'Licenciement pour faute', 'licenciement faute lourde', 'liceicement pour faute grave', 'Licenciement pour faute grave', 'licenciement pour mauvaise conduite', 'licenciement pour faute lourde', 'LICENCIEMENT POUR FAUTE', 'licenciement pour faute grave', 'licenciement pour faute', 'Licenciement faute grave', 'LICENCIEMENT POUR FAUTE GRAVE', 'Licenciement pour faite'} -> 219\n",
      "{'Faute grave', 'licenciement pour faute grave : ai-je droit aux allocations chômage ?', 'faute grave abandon de poste', 'faute grave', 'faute grave et faute lourde', \"qu'est-ce qu'une faute grave ?\"} -> 10\n",
      "{'calcul des indemnites en cas de licenciement pour faute grave', 'quelles fautes peuvent être caractérisées de graves ?', 'faute grave absences répétées', 'faute grave ou faute lourde', 'licenciement pour faute grave et préavis', 'quels sont les motifs de licenciement pour faute grave ?', \"quelles sont les conséquences de la faute grave sur l'exécution du contrat de travail ?\", 'faute%20grave', 'quelles indemnités en cas de licenciement pour faute grave ?', 'Faute grave', 'faute grave abandon de poste', 'faute grave', 'faute grave et faute lourde', 'licenciement pour faute grave conséquences', 'fautes graves', 'quelle différence entre faute grave et lourde ?', 'licenciement faute grave solde de tout compte', \"c'est quoi une faute grave\", 'licenciement pour faute grave procédure'} -> 110\n",
      "{'fiche de paie', 'Bulletin de salaire', 'Fiche de paie', 'bulletin de salaire', 'Fiche de paye', 'fiche de paye', 'Bulletinde paie', 'bulletin paie', 'FICHE DE PAIE', 'bulletin de paie'} -> 98\n",
      "{'attestation pole emploi délai', 'remise solde de tout compte', 'documents de fin de contrat délai', 'retard remise documents fin de contrat', 'remise certificat de travail'} -> 6\n",
      "{'attestation pole emploi délai', 'remise solde de tout compte', 'documents obligatoires fin de contrat de travail délai', 'certificat de travail délai', 'remise tardive documents fin de contrat', 'retard remise solde de tout compte', 'retard remise documents fin de contrat', 'remise certificat de travail', 'remise tardive solde de tout compte', 'documents de fin de contrat délai', 'remise documents fin de contrat délai', 'Remise documents fin de contrat'} -> 97\n",
      "{'rupture cdd', \"rupture d'un cdd d'insertion\", 'rupture du cdi', 'rompre un cdd', \"rupture d'un CDD\", \"rupture d'un cdd\", 'rupture du cdd pour un cdi', 'rupture du cdd', 'rupture du cdd et inaptitude', \"rupture anticipée d'un CDD\", 'rupture anticipée du cdd'} -> 24\n",
      "{'fin de contrat cdd solde de tout compte', 'fin de cdd rupture anticipée salarié', 'fin de cdd et délai de carence', 'fin de cdd', 'fin de cdd et prime de précarité', 'non renouvellement de cdd', 'fin de cdd formalités', 'fin de contrat cdd congés payés'} -> 13\n",
      "{'Fin de contrat', 'fin de cdd', 'non renouvellement de cdd', 'fin de cdd et chômage', 'fin de cdd et prime de précarité', 'Fin de cdd', 'fin de contrat CDC', 'non renouvellement cdd', 'fin de contrat', 'fin de cdd et délai de carence', 'FIN DE CONTRAT', 'fin de contrat cdd', 'fin de cdd formalités', 'fin de contrat cdd congés payés', 'fin de cdd et arrêt maladie', 'fin de cdd faute grave', 'fin cdd', 'fin de cdd rupture anticipée salarié', 'fin de cdd rupture anticipée employeur', 'non renouvellement de contrat'} -> 78\n",
      "{'stagiaire et rémunération', 'gratification du stagiaire', 'le stagiaire est il payé?', 'salaire stagiaire', 'gratification stage brut net', 'cout gratification du stagiaire', 'salaire stage', 'rémunération stage'} -> 56\n",
      "{'Greve', 'Grève'} -> 8\n",
      "{'qui a le droit de grève ?', 'qui a le droit de faire grève ?', 'grève retenue sur salaire', 'Grève', 'droit de grève dans le privé', \"peut-on réclamer un salaire lorsque l'on est en grève ?\", 'greves', 'grève illicite', 'puis-je faire grève seul ?', 'retards pour grève', 'débrayage grève', 'droit de grève définition', 'le droit de grève et ses limites'} -> 44\n",
      "{'absences pour rendez vous médicaux grossesse', 'salariée enceinte médical', 'rendez vous médicaux grossesse'} -> 13\n",
      "{'harcèlement moral au travail', 'je suis harcelé que faire?', 'harcèlement moral au travail que faire ?', 'harcèlement moral'} -> 16\n",
      "{'Harcelement moral', 'harcelement moral', 'harcèlement moral définition', 'Harcelement morale', 'harcèlement moral au travail que faire ?', 'harcèlement moral au travail preuve', 'Harcèlement moral', 'harcèlement moral au travail', 'quelle peine pour harcèlement moral ?', 'harcellement moral', 'harcelemnt moral', 'harcelment%20moral', 'harcèlement moral au travail définition', 'harcèlement moral', \"qu'est-ce que le harcèlement moral au travail ?\", 'harcelement moram', 'risque psychosociaux et harcèlement moral', 'harcellement moral au travail'} -> 257\n",
      "{'harcèlement sexuel au travail', 'Harcelement', 'harcelemnt', 'harcèlement au travail', 'harcelement', 'harcèlement', 'Harcèlement'} -> 12\n",
      "{'Harcelement', 'harceleme nt', 'hrcelement', 'harcélement', 'arcelement', 'Har element', 'hercelement', 'Arcellement', 'harcelemen', 'Harcèlement', 'je suis harcelée', 'Harclement', 'harcelement', 'harcèlement', 'harcelement%20au%20travail', 'HARCELEMENT', 'harcèlement sexuel au travail', 'harcèlement au travail', 'harcellement'} -> 172\n",
      "{'mise au placard', 'mise au placard avant retraite', 'Mise au placard', 'PLAcardisation'} -> 6\n",
      "{'amplitude horaire'} -> 6\n",
      "{'horaires individualisés'} -> 27\n",
      "{'heures supplémentaires', 'Heure supplementaire', 'Heures supplémentaires', 'HEURES SUPPLEMENTAIRES', 'Heures suplementaire s', 'HEURES supplémentaires'} -> 18\n",
      "{'heures suplementaires', 'heures supplémentaire', 'heures supplementaires', 'heures supplementaire', 'Heures supplémentaire', 'heures supplemantaires', 'heures supplémentaires', 'Heure supplémentaire', 'HEURES SUPPLÉMENTAIRES', 'Heures supplementaires', 'Heure supp', 'heure supplémentaires', 'Heure suppkementaire', 'heures suppl', 'Les heures supplémentaires', 'heures supplémmentaires', 'Heures sup', 'heures supplemenatires', 'heures suplementaire', 'HEURES SUPPLEMENTAIRES', 'heure supplémentaire', 'heure supp', 'Heure supplémentaires', 'Heure supplementaire', 'heures suplémentaires', 'Heures supp', 'Heures supplémentaires', 'Heures supple'} -> 315\n",
      "{'travail tous les samedis', 'travail le samedi btp', 'majoration travail samedi btp', 'travail le samedi', 'obligé de travailler le samedi', 'le refus de venir travailler un samedi est il fautif?', 'travail samedi', 'travail du samedi', 'peut on refuser de travailler le samedi?', \"l'employeur peut il obliger un salarié à travailler le samedi\"} -> 25\n",
      "{'avantages en nature'} -> 18\n",
      "{'inaptitude arrêt maladie', \"contester un avis d'inaptitude\", 'INAPTITUDE', 'déclaré inapte au travail par la médecine du travail', 'inaptitude étude de poste', 'quelles sont les indemnités en cas de licenciement pour inaptitude ?', \"inaptitude à tout poste dans l'entreprise.\", 'inaptitude', 'Inaptitude non professionnelle', \"c'est quoi une inaptitude ?\", 'inaptitude au poste de travail', \"déclaration d'inaptitude au travail\", 'inaptitude définitive', 'inaptitude%20professionnelle', 'inaptitude suite accident du travail', \"avis d'inaptitude temporaire\", 'inaptitude physique du salarié', 'déclaré inapte', \"contestation d'un avis d'inaptitude\", 'inaptitude L', 'inaptitue et reclassement', \"avis d'inaptitude\", 'inaptitude proposition de postes', 'Avis inaptitude', 'inaptitude professionnelle', 'Inaptitude', 'différence entre inaptitude professionnelle et non professionnelle', 'inaptitude et visite de reprise', 'conséquences inaptitude', 'inaptitude au poste', 'licenciement pour inaptitude procédure', 'inaptitude et licenciement', 'inaptitude au travail et chômage', 'inapte à un emploi', \"l'état de santé du salarié fait obstacle à tout reclassement dans un emploi\", \"reconnaissance de l'inaptitude\", 'inaptitude au travail', 'inaptitude consultation du cse', 'inaptitude rupture du contrat de travail', 'inaptitude et reclassement', 'inaptitude avec reclassement'} -> 313\n",
      "{'comment sont payés les congés payés en fin de contrat ?', \"qu'est-ce qu'une indemnité de congés payés ?\", 'indemnitécompensatrices de congés payés', 'indemnité compensatrice de congés payés', \"comment se calcule l'indemnité compensatrice de congés payés ?\", 'simulateur indemnité compensatrice de congés payés', 'indemnité compensatrice de congé payé', 'congés non pris et fin de contrat de travail', 'calcul indemnité compensatrice de congés payés'} -> 50\n",
      "{'comment est payé le préavis ?', \"calcul de l'indemnité compensatrice de préavis inaptitude\", 'indemnité compensatrice de préavis', \"comment calculer l'indemnité compensatrice de préavis ?\", 'simulateur calcul indemnité de préavis', 'préavis non effectue non paye', 'indemnité de préavis définition'} -> 21\n",
      "{'indemnités de licenciement faute grave', 'licenciement pour faute grave indemnité', 'quelle sont les indemnités pour un licenciement pour faute grave ?'} -> 10\n",
      "{'INDEMNIT2 DE LICENCIEMENT', 'indemnisate de licenciement', 'indemnité de licencement', 'INDEMNITE LICENCIEMENT', 'Indemnites licenciements', 'imdeminté de licenciement', 'Indemnités de licenciement', 'indemnité de licenciemenr', 'indemnité licenciement', 'INDEMNITE DE LICEBCIEMENT', 'Indemnités licenciement', 'indemnités licenciement', 'indemnite licenciement', 'Indemnite de licenciement', 'indemnites%20licenciement', 'indemnite de licenciement', 'Indemnite licenciement', 'Indemnité licenciement', 'INDEMNITE DE LICENCIEMENT', 'indemnites licenciement', 'indemnité de licenciment', 'indemnites de licenciement', 'Indemnité de licenciement', 'indemnité de licenciement', 'indemnité licenciement btp', 'INDEMNITES DE LICENCIEMENT', 'indemnite licenciement 1an', 'Indemnités licenciements', 'indemnités de licenciement', 'indémnité de licenciemen', 'Indemnité micenciement'} -> 548\n",
      "{'carence'} -> 8\n",
      "{'Intéressement', 'Interessement', 'intéressement', 'interessement'} -> 48\n",
      "{'participation', \"associer les salariés aux résultats de l'entreprise\", 'prime de participation', 'réserve spéciale de participation', \"accord d'intéressement\", 'prime d interressement', 'cse et intéressement', 'intéressement obligatoire', 'Prime interessement', 'intéressement participation', \"prime d'intéressement\", 'prime intéressement', 'Prime dinteressement', \"accord d'intéressement et cse\", 'intéressement facultatif', 'disponibilité des droits des salariés', 'participation et fiscalité', 'accord interessement', \"accord d'interressement\", 'épargne salariale', 'participation obligatoire dans les entreprises de plus de 50 salariés.', 'Participation', 'PARTICPATION', 'supplément de participation', 'accord de participation', 'intéressement au bénéfice', 'calcul de l’intéressement'} -> 153\n",
      "{\"associer les salariés aux résultats de l'entreprise\", 'partipation', 'cse et intéressement', 'intéressement obligatoire', 'intéressement participation', 'disponibilité des droits des salariés', \"accord d'intéressement\", 'intéressement facultatif', 'accord interessement', 'intéressement au bénéfice', 'calcul de l’intéressement'} -> 17\n",
      "{\"lanceur d'alerte entreprise de plus de 50 salariés\", \"obligation lanceur d'alerte\", \"lanceur d'alerte\", \"protection lanceur d'alerte\", 'lanceur d alerte anonyme', \"Lanceurs d'alerte\", \"lanceur d'alerte harcèlement moral\"} -> 20\n",
      "{'avertissement'} -> 7\n",
      "{'quels sont les différents contrats de travail ?', 'contrat de travail', \"definition d'un contrat de travaim\", \"est-il obligatoire d'avoir un contrat de travail ?\", 'quelles sont les principales clauses de mon contrat de travail ?', 'Contrat de travail', 'dans quelle langue le contrat de travail doit-il être rédigé ?', 'contrat de travail formalités', 'le contrat de travail', 'Contrat travail', 'quelles sont les mentions obligatoires dans un contrat de travail ?', 'Le contrat de travail', 'contrat de travail obligations'} -> 106\n",
      "{'Cdd non signer', 'contrat de travail non signé', 'absence de contrat de travail écrit', 'cdd non signé', 'signature contrat de travail', 'Absence de contrat de travail', 'Signature du contrat de travail', 'signature cdi', 'signature contrat'} -> 43\n",
      "{'vestiaire'} -> 11\n",
      "{'vestiaires'} -> 7\n",
      "{'visite médicale à la demande du salarié', 'handicap et visite médicale', 'visite de préreprise', 'visite médicale travail', 'visite information et prévention', \"visites médicales obligations de l'employeur\", \"Visite medicale d'embauche\", 'accident du travail et visite de reprise', 'visite médicale embauche', 'visite médicale obligatoire?', \"suivi de l'état de santé du salarié\", 'demander une visite auprès du médecin du travail', 'surveillance médicale renforcée', 'visite pré réprise', \"visite médicale à la demande de l'employeur\", 'visite médicale d embauche', 'suivi médical intérimaire', 'Visite de reprise', 'suivi médical du salarié', 'suivi individuel renforcé', 'Visite embauche', 'Visite de reprise après arrêt maladie', 'suivi médical poste à risque', 'travailleur de nuit et suivi médical', 'suivi individuelle renforcé', 'ACCIDENT DE TRAVAIL ET VISITE DE REPRISE', 'suivi médical des travailleurs exposé à des agents biologiques de catégorie 2', \"Site d'embauche\", 'visite embauche', 'visite de pré-reprise', \"visite médicale d'embauche\", 'visite de reprise', 'type de visites médicales', 'visites médicales quels salariés', 'invalidité et suivi médical', 'périodicité visites médical', 'suivi individuel adapté', \"visite d'embauche\", 'visite de reprise arrêt maladie', 'visites médicales périodiques', 'visite médicale et autorisation de conduite', \"visite d'information et de prévention\", 'travailleurs saisonniers et visite médicale', \"visite d'information et de préventiion CDD\", 'visite médicale du travail'} -> 240\n",
      "{'pose congés payés après démission', 'réduction du préavis de démission avec congés payés', 'pose congés payés avant démission', 'Congés préavis', 'préavis démission congés payés fermeture entreprise', \"mon employeur peut-il m'imposer des congés payés pendant mon préavis de démission ?\", 'le salarié démissionnaire peut-il prendre ses congés payés pendant son préavis ?', 'préavis démission congés payés imposés', 'démission congés', 'démission préavis et congés payés', 'démission et congés payés', 'préavis de licenciement économique et congés payés', 'Congés preavid', 'Démission congés payés', 'puis-je prendre des congés payés pendant mon préavis après une démission ?', 'est-ce que les congés décalent le préavis ?', 'lettre de démission congés payés pendant préavis'} -> 46\n",
      "{'repas'} -> 7\n",
      "{'repas'} -> 7\n",
      "{'pause repas'} -> 8\n",
      "{'Mise à la retraite f office', 'mise à la retraite: comment ça marche', 'mise à la retraite$', \"mise à la retraite d'office\", \"l'employeur peut il forcer le salarié à partir en retraite\", 'mise à la retraite', 'mise en retraite fonctionnement', \"mise en retraite d'office\", 'Mise a la retraite', 'conditions de la mise à la retraite'} -> 40\n",
      "{'Changement d horaire', 'changement des horaires de travail', 'aménagement des horaires de travail', 'modifcation horaires de travail', 'passage horaires de jour à horaires de nuit', 'modifications horaire de travail', 'Changement de planning', 'Changement horaire', 'changement de planning', 'mon employeur peut-il modifier mes horaires de travail ?', 'différence entre changement des horaires et modification des horaires de travail', \"l'employeur peut-il m'imposer un changement de mes horaires de travail ?\", 'changement horaire', 'modification horaires de travail', 'Un changement de planning'} -> 166\n",
      "{'report de congés', 'report des congés payés', 'report de congés payés', 'les congés peuvent ils être reportés', 'reports de congés payés', 'mes congés non pris sont-ils perdus'} -> 32\n",
      "{'peut-on licencier un salarié en arrêt maladie ?', 'mon employeur peut-il me licencier pendant mon arrêt maladie ?', 'licenciement indemnité et arrêt maladie', 'licenciement et arrêt maladie', 'licenciement pendant arrêt maladie protection', 'licenciement et arrêt de travail', 'Licenciement en arrêt maladie', 'licenciement en arret de maladie', 'Licenciement apres arrets de travail', 'licenciement arrêt maladie', 'licenciement pendant un arrêt maladie : est-ce vraiment possible ?', 'peut-on me licencier pendant un arrêt de travail ?', 'licenciement pendant unarrêt maladie', 'licenciement pour maladie', 'licenciement arrêt maladie discrimination', 'licenciment suite maladie professionnelle', 'licenciement pendant arrêt maladie', 'licenciement pendant arrêt maladie désorganisation de l’entreprise', 'licenciement maladie', 'licenciement arrêt maladie professionnel', 'licenciement économique pendant arrêt maladie', 'licencieusement maladie professionel', 'liscenciiement en maladie professionnelle', 'licenciement maladie professionnelle', 'Licenciement pour maladie', 'licenciement arrêt maladie et préavis', 'arrêt de travail et licenciement', 'licenciement durant arrêt de travail'} -> 93\n",
      "{\"qu'est-ce qu'un entretien préalable ?\", 'convocation entretien préalable de licenciement', 'convocation entretien préalable à une sanction disciplinaire', 'entretien préalable et délai', 'entretien préalable', 'entretien préalable au licenciement'} -> 16\n",
      "{'Entretien préalable', 'je suis convoqué à un entretien préalable à licenciement', 'modèle convocation entretien préalable licenciement', 'entretien préalable et délai', 'entretien préalable', 'lettre de convocation à un entretien préalable pour sanction disciplinaire faute grave', 'entretien préalable à un licenciement pour inaptitude', \"qui peut assister l’employeur lors de l'entretien préalable ?\", 'convocation entretien préalable à une sanction disciplinaire', 'delai entre entretien prealable et lette licenciement', 'entretien préalable et conseiller du salarié', 'entretien préalable à un éventuel licenciement', \"qu'est-ce qu'un entretien préalable ?\", 'convocation entretien préalable de licenciement', 'entretien préalable licenciement économique', 'lettre de convocation à un entretien préalable pour sanction disciplinaire', \"c'est quoi un entretien préalable ?\", 'entretien préalable au licenciement', \"puis-je être accompagné lors d'un entretien préalable ?\"} -> 164\n",
      "{'Procédure Licenciement économique', 'licenciement économique', 'LICENCIEMENT ECONOMIQUE', 'indeminités de licenciement économique', 'LICENCIEMENT POUR MOTIF 2CONOMIQUE', 'licenciement%20economique', 'licenciement pour motif économique', 'Licenciement economique', 'licenciement economique', 'Licenciements économiques', 'Licenciement économique', 'Indemnité licenciement economique', 'indemnité licenciement economique', 'Indemnité de licenciement économique', 'Indemnités suite licenciement économique', 'procédure licenciement economique', 'procédure licenciement économique', 'Ĺicenciement economique', 'licenciment economique', 'indemnité licenciement économique', 'Indemnités de licenciement économique'} -> 299\n",
      "{'licenciement économique conditions', 'licenciement économique abusif', 'licenciement économique procédure', 'licenciement économique individuel obligations', 'licenciement économique collectif obligations'} -> 41\n",
      "{'peocedure de licenciement', 'PROCEDURE DE LICENCIEMENT ECONOMIQUE', 'licenciement procédure', 'procédure de licenciement', 'date licenciement', 'procedure de licenciement', 'procédure licenciement personnel', 'procédure licenciement cse', 'procédure licenciementy'} -> 44\n",
      "{'Barème macron', 'liceciement%20abusif', \"plafonnement indemnités prud'homales\", 'Bareme macron', 'Licenciement sans cause réelle et serieuse', 'Licenciement abusif indemnisation', 'licenciement sans cause réelle et sérieuse', 'licenciement abusif', 'Licenciement cause réelle et serieuse', 'licenciment abusif', 'indemnité licenciement irrégulier', 'licenciement abusif indemnisation', \"plafonnement indemnité licenciement prud'hommes\", 'Licenciement abusif', 'barème macron', 'barème licenciement sans cause réelle et sérieuse', 'licenciement sans cause réelle et serieuse', 'bareme macron'} -> 179\n",
      "{'salarié protégé licenciement économique', 'Salarie protege licenciement', 'quels salariés sont protégés?', 'consultation cse licenciement salarié protégé', 'salarié protégé licenciement', 'salarié protégé changement des conditions de travail', 'salarie protege', 'qui sont les salariés protégés?', 'salarié protégé rupture conventionnelle', 'salarié protégé', \"indemnité de licenciement d'un salarié protégé\", 'salarié protégé suppléant cse', 'quel risque si je suis élu délégué syndical'} -> 76\n",
      "{'aide entretien préalable sanction disciplinaire', 'conseiller du salarié', \"assistance entretien préalable personnel de l'entreprise\", 'assistance entretien licenciement', 'conseiller des salariés', \"assistance de l'employeur à l'entretien préalable\", 'assistance des élus du personnel et entretien préalable', 'entretien préalable sanction disciplinaire', 'LIEU ENTRETIEN PREALABLE'} -> 29\n",
      "{'Maladie'} -> 10\n"
     ]
    },
    {
     "name": "stdout",
     "output_type": "stream",
     "text": [
      "{'rôle médecin du travail'} -> 9\n",
      "{'médecin du travail', 'Médecine du travail', 'medecin du travail'} -> 6\n",
      "{'souffrance au travail', 'Burn-out que faire', 'Au secours', 'burn out', 'burn out que faire', 'burn out travail', 'demande de renseignements', 'arrêt maladie burn out', 'Burn-out', 'Souffrance au travail'} -> 50\n",
      "{'Avenant contrat travail', 'avenant au contrat de travail', 'avenant de contrat', 'Avenant au contrat de travail', 'avenant contrat de travail', 'avenant contrat travail', 'avenant au contrat', 'Avenant de contrat'} -> 84\n",
      "{'modele contrat de travail', 'modification contrat de travail refus', 'changement de contrat de travail', 'modification contrat de travail', 'Changement dans le contrat de travail', 'changement du contrat de travail', 'modification du contrat de travail', 'modification contrat', 'modifier mon contrat de travail'} -> 58\n",
      "{\"modifier le temps de travail d'un salarié\", \"l'employeur peut il imposer au salarié la réduction des horaires\", \"modification du contrat de travail réduction d'horaires\", \"mon patron a t'il le droit de baisser mes heures\", \"réduction d'horaires\", 'refus de modification des horaires et contrat de travail', \"réduction d'horaires de travail\"} -> 28\n",
      "{'mobilité', 'Mobilités', 'changement de lieu de travail délai de prévenance', 'modification du lieu de travail élément essentiel du contrat de travail', 'lettre de changement de lieu de travail', 'changement lieu de travail secteur géographique', 'changement lieu de travail sans clause de mobilité', 'modification lieu de travail', 'changement de lieu de travail', 'changement de lieu de travail sans avenant'} -> 39\n",
      "{'mutuelle', 'Mutuelle santé', 'Mutuelle', 'MUTUELLE', 'refuser mutuelle santé obligatoire?', 'mutuelle santé obligatoire', 'complémentaire santé obligatoire'} -> 105\n",
      "{'refuser mutuelle santé obligatoire?', 'mutuelle', 'mutuelle santé obligatoire', 'complémentaire santé obligatoire'} -> 11\n",
      "{\"promesse d'embauche et relation contractuelle\", 'Promesse d’embauche', 'Promesse d embauche', \"promesse d'embauche et lettre d'engagement\", \"promesse d'embauche et contrat de travail\", \"est-il possible de rompre une promesse d'embauche ?\", \"promesse d'embauche\"} -> 48\n",
      "{'date de versement du salaire', 'retard dans le paiement du salaire', 'paiement du salaire en espèces', 'paiement de salaire en retard', 'règlement salaire', 'règlement du salaire', 'mon patron peut-il me payer en cash', 'versement du salaire', 'versement du salaire date', 'versement de la paie', 'règlement de la paie', 'versement de la paie cdi'} -> 43\n",
      "{'fractionnement'} -> 20\n",
      "{'pause repas'} -> 6\n",
      "{'Pause'} -> 9\n",
      "{'inaptitude et visite de reprise', 'inaptitude non professionnelle', \"reconnaissance de l'inaptitude\", 'inaptitude définitive', 'inaptitude au travail', 'inaptitude professionnelle', 'Inaptitude', 'quelles sont les indemnités en cas de licenciement pour inaptitude ?', 'inaptitude'} -> 22\n",
      "{'licenciement pour inaptitude physique', 'procédure de licenciement pour inaptitude', 'licenciement%20inaptitude', 'licenicement inaptitude', 'Licenciment pour inaptitude', 'licenciement pour inaptitude salarié protégé', 'Licenciement inaptitude', 'licenciement pour inaptitude accident du travail', 'licenciement pour incapacité médicale', 'Licenciement pour inaptitude', 'licenciement pour inaptitude maladie', 'licenciement pour inaptitude maladie professionnelle', \"licenciement pour inaptitude d'origine professionnelle\", 'licenciment pour inatitude a tous poste', 'licenciement suite inaptitude', 'licenciement inaptitude medicale', 'licenciement inaptitude', 'licenciement pour inaptitude professionnelle', 'licenciment pour inatitude', 'licenciement pour inaptitude non professionnelle', 'licenciement inaptitude physique', 'Licenciement pour inaptitude professionnelle', 'LICENCIEMENT%20POUR%20INAPTITUDE', 'licenciement pour inaptitude et indemnités', 'licenciement pour inaptitude'} -> 211\n",
      "{\"période d'essai cdd\", \"periode d'essai cdd\"} -> 16\n",
      "Key error : [\"/fiche-service-public/periode-dessai\", \"/fiche-ministere-travail/la-periode-dessai#Quelles-sont-les-conditions-pour-qu-il-existe-une-periode-d-essai-nbsp\", \"/fiche-ministere-travail/la-periode-dessai#Quelle-est-la-duree-de-la-periode-d-essai\", \"/fiche-ministere-travail/la-periode-dessai#La-periode-d-essai-peut-elle-etre-rompue\", \"/fiche-service-public/un-salarie-peut-il-effectuer-plusieurs-periodes-dessai-chez-le-meme-employeur\", \"/fiche-service-public/embauche-a-la-fin-dun-stage-quelles-consequences-sur-la-periode-dessai\", \"/fiche-service-public/quelle-est-la-duree-de-la-periode-dessai-dun-contrat-de-mission-interim\", \"/fiche-service-public/arret-maladie-pendant-la-periode-dessai-quelles-sont-les-regles\", \"/fiche-service-public/quest-ce-quune-periode-probatoire-pour-le-salarie\", \"/fiche-service-public/quest-ce-quun-essai-professionnel\", \"/contribution/quelle-est-la-duree-maximale-de-la-periode-dessai-sans-et-avec-renouvellement\", \"/contribution/arret-maladie-pendant-la-periode-dessai-quelles-sont-les-regles\", \"/contribution/la-periode-dessai-peut-elle-etre-renouvelee\"]\n",
      "{'période essai', \"période d'essai\", 'période essau', 'PERIODE ESSAI', \"periode d'essai\"} -> 40\n",
      "{'alcool au travail', \"alcool au travail : que faire en cas d'urgence ?\", 'alcool au travail : quelles sont les règles ?', 'mise a pied pour alcool au travail', \"alcool au travail : que peut faire l'employeur ?\", 'bière au travail', 'alcools autorisés en entreprise', 'note de service interdiction alcool au travail', 'peut-on boire au travail?', \"que dit la loi sur l'alcool au travail ?\", 'pourquoi mettre en place une politique \"alcool\" au travail ?', 'vin au travail'} -> 66\n",
      "{'Démission pendant un arrêt de travail', 'démission pendant un arrêt de travail', 'comment démissionner en arrêt maladie ?', 'arrêt de travail et démission'} -> 17\n",
      "{'naissance'} -> 13\n",
      "{'congé naissance'} -> 9\n",
      "{'rapprochement de conjoint', 'démission légitime pour suivre son conjoint', 'quand donner sa démission pour suivre son conjoint', 'démission pour rapprochement de conjoint', 'démission pour suivi de conjoint', 'déménagement et suivi de conjoint démission', 'mutation conjoint démission légitime', 'démission pour suivi de conjoint justificatif pole emploi', 'Démission suivie conjoint'} -> 40\n",
      "{'si je démissionne pour des raisons de santé ai-je droit aux allocations de chômage ?', 'chômage après démission', 'Chaumage après demission', 'demission are', 'démission allocation de retour emploi', 'démission cadre', 'démission légitime chômage', 'démission chomage', 'puis-je toucher le chômage en cas de démission ?', 'démission et chômage', 'demission%20chomage', \"je souhaite démissionner en vue de faire une reconversion professionnelle, puis-je bénéficier d'allocations chômage ?\", 'démission et chomage', 'demission chomage'} -> 127\n",
      "{'plan de développement de competence', 'plan de développement de compétence', 'plan de développement des compétences', 'plan de développement de compétences', 'plan de developpement des competences', 'plan de développement de compétencs'} -> 15\n",
      "{'portage salarial'} -> 7\n",
      "{'préavis licenciement', 'congé paternité et préavis licenciement', 'préavis de licenciement pour inaptitude', 'PREAVIS LICENCEMENT', 'Préavis de licenciement', 'PREAVIS LICENCIEMENT', 'préavis de licenciement et faute personnelle', 'préavis licenciement cause réelle et sérieuse', 'préavis de licenciement', 'préavis licenciement faute grave', 'Preavis de licenciement', 'licenciement pour motif personnel et préavis', 'préavis licencieent', 'PREAVIS DE LICENCIEMENT', 'PREAVIS%20DE%20LICENCIEMENT', 'Préavis licenciement cdi', 'préavis licenciement inaptitude'} -> 62\n",
      "{'préavis et maldie', 'Durée de préavis', 'préavis et maternité', 'durée du préavis', 'duree de preavis', 'Préavis et départ retraite', \"préavis et prise d'acte de rupture\", 'préavis et mise à la retraite', 'preavis', 'Préavis', 'préavis et maladie', 'durée du prévais', 'preavis depart mise a la retraite', 'Préavis et cdi', 'Durée de preavis', 'préavis et contrat de sécurisation professionnelle', 'PREVIS ET MALADIE', 'préavis et CP', 'préavis et accident du travail', 'préavis et cdi de chantier', 'Preavis depart en retraité', 'preavis et conges payes', 'préavis et grève', 'préavis et cdd', 'PREAVIS', 'congés payés préavis', 'congés payés et préavis', 'préavis réduit', 'préavis des cadres', \"préavis et heures de recherche d'emploi\", 'préavis', 'préavis et contrat de travail', 'préavis de départ en retraite', 'arrêt maladie et préavis', 'Arrêt maladie pendant preavis', 'préavis et ancienneté', 'preavis depart en retraite', \"impossibilité d'exécution du préavis\", 'Preavis arret maladie', 'rupture du préavis', 'préavis et rupture du contrat', 'report du préavis', 'Durée du preavis', 'préavis et femme enceinte', 'préavis et cif', 'Duree du preavis', 'usages', 'Preavis', 'Preais', 'durée de préavis', 'préavis et faute', 'préavis de grève', \"préavis et cessation de l'entreprise\", 'préavis et congés payés', 'préavis et faute lourde', 'Durée préavis', 'duree du préavis', 'préavis apprentissage', 'delai congés', 'prévis', 'Duree de preavis', 'duree de préavis', 'préavis assistantes maternelles', 'droit au préavis', 'preavais', 'preavs', 'préavis et travailleurs handicapés', 'Duree de préavis', 'préavis et nouvel emploi', 'DUREE DE PREAVIS', 'préavis et cdi', 'préavis et faute grave', 'Durée du préavis'} -> 1067\n",
      "{'préavis et maternité', 'durée du préavis', 'préavis et mise à la retraite', 'preavis', 'Préavis', 'préavis et maladie', 'préavis et contrat de sécurisation professionnelle', 'préavis et grève', 'préavis et cdd', 'congés payés et préavis', 'préavis réduit', 'préavis des cadres', 'préavis', 'préavis de départ en retraite', 'arrêt maladie et préavis', 'prolongation du préavis', 'préavis et rupture du contrat', 'Preavis', 'durée de préavis', 'préavis et faute', 'préavis et congés payés', 'Duree de preavis', 'préavis assistantes maternelles', 'droit au préavis', 'préavis et travailleurs handicapés'} -> 134\n",
      "{\"pret de main d'oeuvre\", \"prêt de main d'oeuvre\"} -> 11\n",
      "{'décès', 'deces'} -> 9\n",
      "{'sécurité', 'securite'} -> 11\n",
      "{\"durée de la période d'essai\"} -> 9\n",
      "{'intérim', 'interim'} -> 9\n",
      "{'affichage obligatoire'} -> 139\n",
      "{'Loyaute', 'Loyauté', 'loyauté', 'obligation de loyauté'} -> 8\n",
      "{'cpf de transition', 'congé formation professionnelle', 'congès formation', 'congé de formation professionnelle dans le secteur privé', 'CPF de transition', 'congé formation', 'conges formation', 'projet de transition professionnelle', 'congés formation', 'cep de transition'} -> 46\n",
      "{'formation salarié obligation de l’employeur', \"formation payée par l'entreprise\", 'formation professionnelle', 'fomation professionnelle', 'formation salarié dif'} -> 14\n",
      "{'droit de la formation', 'formation salarié obligation de l’employeur', 'quels sont les droits à la formation des salariés?', 'formation professionnelle', \"formation payée par l'entreprise\", 'dispositifs de formation définition', \"formation payée par l'entreprise cse\", 'demander une formation', 'formation profesionnelle', 'tableau récapitulatif des dispositifs de formation professionnelle', 'FORMATION PROFESSIONNELLE', 'fongecif', 'mes droits à formation', 'droit formation professionnelle continue', 'droit à la formation professionnelle', 'droit à la formation professionnelle cdd', 'formation salarié dif', 'droit individuel à la formation'} -> 100\n",
      "{'document fin de contrat', 'documents de fin de conrat', 'documents fin de contrat', 'documents de fin de contrat', 'document de fin de contrat'} -> 8\n",
      "{'expert désigné par le comité social et économique'} -> 6\n",
      "{'accident du trajet', 'accident de trajet'} -> 47\n"
     ]
    },
    {
     "name": "stdout",
     "output_type": "stream",
     "text": [
      "{'ijss arrêt de travail et accident du travail', 'acident du travail', 'accident travail', 'Accident travail', 'accident de travil', 'accident du travail prise en charge', 'Accident de travail', 'Accidents du travail', 'accident du travail', 'Accident de travail et congés payés', 'arrêt de travail suite à un accident du travail', 'indemnisation accident du travail', 'Accidents de travail', 'arrêt de travail et accident du travail', 'accidents du travail', 'accident de travail', 'Accident du travail', 'ACCIDENT DU TRAVAIL', 'Accidon de travail'} -> 183\n",
      "{'clause de mobilité et refus du salarié'} -> 8\n",
      "{'clause de mobilité', 'qu’est-ce qu’une clause de mobilité ?'} -> 31\n",
      "{'insuffisance professionnelle'} -> 7\n",
      "{'imaldie professionnelle', 'maladie professionnelle', 'maladie professionnel', 'Maladie professionnele', 'maladie professionnelle et rupture du cdd', 'maladie professionnnelle', 'maladie profesionnelle', 'maladie%20professionnelles', 'maladies professionnelles', 'maladie proffessionnelle', 'maladie professionnelle et reprise du travail', 'Maladie professionnel', 'Maladie professionnelle', 'reconnaissance maladie professionnelle'} -> 82\n",
      "{'période probatoire abusive', \"promotion période d'essai\", 'changement de poste période probatoire', 'délai de prévenance période probatoire', 'période probatoire', 'periode probatoire', 'promotion période probatoire', 'période probatoire définition', 'modèle période probatoire'} -> 26\n",
      "{'reconversion professionnelle', 'formation adulte rémunérée', 'formation adulte reconversion'} -> 9\n",
      "{'rtt'} -> 128\n",
      "{'RTT'} -> 29\n",
      "{'laïcité', 'laïcité travail', 'prot du voile', 'je porte le voile et je veux travailler', 'discrimination religieuse au travail', 'voile au travail', 'liberté religieuse en entreprise', \"fait religieux dans l'entreprise\", 'Laïcité', 'port du voile', 'voile accepté recrutement'} -> 12\n",
      "{'Pass Navigo', 'remboursement frais de transport', \"abonnement vélib'\", 'PASS NAVIGO', 'FRAIS DE DEPLACEMENT TRAJET DOMICILE TRAVAIL', 'remboursement des frais domicile travail', 'frais de déplacement trajet domicile travail', 'quelles sont les nouvelles modalités de remboursement des frais de déplacement domicile-travail ?', 'pass navigo', 'remboursement trajet'} -> 80\n",
      "{'durée travail hebdomadaire maximale', 'durée de travail hebdomadaire maximale', 'durée du travail hebdomadaire maximale'} -> 6\n",
      "{'repos hebdomadaire'} -> 24\n",
      "{'Repos hebdomadaire', 'Repos hebdomadaires'} -> 12\n",
      "{'repos quotidien'} -> 6\n",
      "{'qui verse les indemnités journalières ?'} -> 7\n",
      "{'résiliation judiciaire', 'resiliation judiciaire', 'Résiliation judiciaire'} -> 9\n",
      "Key error : [\"/fiche-service-public/retraite-dans-le-prive-droit-a-linformation-sur-la-retraite-du-salarie\", \"/fiche-service-public/a-partir-de-quel-age-peut-on-partir-en-retraite-dans-le-secteur-prive\", \"/fiche-service-public/a-quelles-indemnites-peut-pretendre-un-salarie-qui-part-a-la-retraite\", \"/fiche-service-public/salarie-quelles-sont-les-conditions-ouvrant-droit-a-une-pension-de-retraite\", \"/fiche-service-public/retraite-du-salarie-pension-de-retraite-a-taux-plein\", \"/fiche-service-public/retraite-dans-le-prive-pension-de-retraite-minimum\", \"/fiche-service-public/retraite-du-salarie-cumul-emploi-retraite-de-base\", \"/fiche-service-public/retraites-de-base-et-complementaire-dans-le-prive-quelles-differences\", \"/fiche-service-public/comment-connaitre-ses-caisses-de-retraite\", \"/fiche-service-public/retraite-dans-le-prive-rachat-de-trimestres\", \"/fiche-service-public/retraite-dans-le-prive-majoration-dassurance-pour-enfant\", \"/fiche-service-public/pension-de-retraite-dun-salarie-quel-est-le-montant-maximum\", \"/fiche-service-public/retraite-dans-le-prive-majoration-du-montant-de-la-pension-de-retraite\", \"/fiche-service-public/retraite-du-salarie-duree-dassurance\", \"/fiche-service-public/retraite-du-salarie-calcul-de-la-pension-de-retraite\", \"/fiche-service-public/les-periodes-de-stage-sont-elles-prises-en-compte-pour-la-retraite\", \"/fiche-service-public/soccuper-dun-enfant-ou-dun-proche-quels-effets-sur-la-retraite-avpf\", \"/fiche-service-public/les-periodes-de-chomage-sont-elles-prises-en-compte-pour-la-retraite\", \"/fiche-service-public/assure-polypensionne-comment-est-calcule-le-montant-de-votre-retraite\", \"/fiche-service-public/retraite-du-salarie-majoration-dassurance-pour-conge-parental-deducation\", \"/fiche-service-public/retraite-du-salarie-majoration-dassurance-pour-enfant-handicape\", \"/fiche-service-public/travailler-apres-67-ans-quelles-consequences-pour-la-retraite\", \"/fiche-service-public/un-salarie-peut-il-se-faire-rembourser-ses-cotisations-de-retraite\", \"/fiche-service-public/quest-ce-que-la-liquidation-unique-des-retraites-lura-des-polypensionnes\", \"/fiche-service-public/regime-de-retraite-des-travailleurs-independants\", \"/contribution/a-quelles-indemnites-peut-pretendre-un-salarie-qui-part-a-la-retraite\", \"/fiche-service-public/combien-de-trimestres-faut-il-avoir-cotise-pour-avoir-sa-retraite-a-taux-plein\", \"/fiche-service-public/retraite-dans-le-prive-quest-ce-que-la-decote\", \"/fiche-service-public/salarie-retraite-quand-faut-il-presenter-un-certificat-de-vie\", \"/fiche-service-public/versement-de-la-pension-de-retraite-dun-salarie\", \"/fiche-service-public/retraite-complementaire-dans-le-prive-agirc-arrco\"]\n",
      "{'Cumul emploi retraite', 'puis-je travailler en étant à la retraite ?', 'puis-je cumuler emploi et retraite ?', 'cumul emploi retraite partiel', 'cumul emploi retraite indemnité de départ', 'reprise activité à la retraite', 'retraite et travail', 'cumul emploi retraite reprise ancienneté', 'retraite travail', 'cumul emploi retraite', 'cumul emploi retraite indépendant', 'cumul emploi retraite intégral', 'puis-je travailler si je suis à la retraite ?', 'cumul emploi retraite cotisation', 'puis-je travailler pendant ma retraite ?', 'cumul emploi retraite même employeur', 'travailler à la retraite'} -> 38\n",
      "{'retraite progressive', 'la retraite progressive'} -> 37\n",
      "{'comment exercer mon droit à la rétractation?', 'Rupture conventionnelle cesu', 'REFUS RUPTURE CONVENTIONELLE', 'refus de rupture conventionnelle après signature', 'que faire en cas de refus de la rupture conventionnelle?', 'délai refus rupture conventionnelle', 'Rupture conventionnelle CESU', 'refus de rupture conventionnelle'} -> 11\n",
      "{'rupture conventionelle', 'Rupture conventionnelle', 'rupture de contrat conventionnelle', 'RUPTURE CONVENTIONNELLE', 'rupture conventionnelle cdd', 'rupture conventionnelle cdi', 'rupture conventionnelle refusée', 'rupture conventionnelle ou licenciement', 'rupture conventionnelle'} -> 74\n",
      "{\"aide au retour à l'emploi rupture conventionnelle\", \"ai-je le droit à l'allocation chômage en cas de rupture conventionnelle ?\", 'rupture amiable cdi chômage', 'rupture conventionnelle chômage', \"rupture d'un commun accord cdi chômage\"} -> 45\n",
      "{'rupture contrat de travail', 'rupture du contrat de travail avec une assistante maternelle', 'rupture du contrat de professionnalisation', 'rupture de contrat en cdd et droit au chômage', 'rupture de contrat et droit au chômage', 'contestation de rupture du contrat de travail', 'Rupture de contrat', 'rupture du contrat et force majeure', 'rupture anticipée du contrat de travail en cdd', 'conditions de la rupture du contrat', 'rupture du contrat à durée indéterminée (cdi)', 'rupture du contrat et indemnité', 'rupture du contrat de travail à durée déterminée (cdd)', 'rupture du contrat de travail', 'quels sont les modes de rupture du contrat de travail?', 'rupture anticipée du contrat de travail?', 'rupture de contrat', 'Rupture du contrat professionnalidtion'} -> 94\n",
      "{'rupture CDI', 'rompre un cdi', 'comment mettre fin à un cdi', 'RUPTURE CDI', 'Rupture ccd', 'Rompre un CDI'} -> 7\n",
      "Key error : [\"/fiche-service-public/rupture-du-contrat-de-travail-a-duree-indeterminee-cdi\", \"/fiche-service-public/comment-calculer-lindemnite-specifique-de-rupture-conventionnelle\", \"/fiche-ministere-travail/la-rupture-conventionnelle-du-contrat-de-travail-a-duree-indeterminee#En-quoi-consiste-la-rupture-conventionnelle\", \"/fiche-ministere-travail/la-rupture-conventionnelle-du-contrat-de-travail-a-duree-indeterminee#Quelle-est-la-procedure\", \"/fiche-ministere-travail/la-rupture-conventionnelle-du-contrat-de-travail-a-duree-indeterminee#Quel-est-le-contenu-de-la-convention\", \"/fiche-ministere-travail/la-rupture-conventionnelle-du-contrat-de-travail-a-duree-indeterminee#Peut-on-se-retracter\", \"/fiche-ministere-travail/la-rupture-conventionnelle-du-contrat-de-travail-a-duree-indeterminee#En-quoi-consiste-l-homologation-de-la-convention\", \"/fiche-ministere-travail/la-rupture-conventionnelle-du-contrat-de-travail-a-duree-indeterminee#Les-salaries-lt-lt-proteges-sont-ils-concernes\", \"/fiche-ministere-travail/la-rupture-conventionnelle-du-contrat-de-travail-a-duree-indeterminee#Un-recours-juridictionnel-est-il-possible\", \"/fiche-ministere-travail/la-rupture-conventionnelle-du-contrat-de-travail-a-duree-indeterminee#Quelles-sont-les-indemnites-dues-au-salarie\"]\n",
      "{'rupture-assistante-maternelle', 'rupture de contrat assistante maternelle', 'rupture contrat assistante maternelle'} -> 16\n",
      "{'Rupture'} -> 9\n",
      "{\"conseil de prud'hommes\", 'CONSEIL DES PRUDHOMMES'} -> 7\n",
      "{'Prudhommes', 'Prudhomme', 'PRUDHOMMES', \"conseil de prud'hommes\", 'Prud hommes', \"Prud'homme\", \"Prud'hommes\", \"conseil%20des%20prud'hommes\"} -> 38\n",
      "{'contester un licenciement injustifié', \"je ne suis pas d'accord avec mon licenciement\", 'contester son licenciement pour faute', \"saisir le conseil des prud'hommes suite licenciement\", \"contestation d'un licenciement pour faute grave\", 'contester son licenciement', \"contester son licenciement devant le conseil des prud'hommes\", 'licenciement abusif : comment contester ?'} -> 20\n",
      "{'mise à pied conservatioire', 'Mise a pied conservatoire', 'mise à pied conservatoire', 'mise a pied conservatoire', 'mise à pied à titre conservatoire', 'mise à pied conservatoire et procédure disciplinaire'} -> 38\n",
      "{'mise à pied disciplinaire et échelle des sanctions', 'procédure mise à pied disciplinaire', 'mise à pied disciplinaire salarié protégé', 'mise à pied disciplinaire et licenciement', 'mise à pied disciplinaire et arrêt maladie', 'Mise à pied disciplinaire', \"qu'est-ce qu'une mise à pied disciplinaire ?\", 'mise à pied disciplinaire'} -> 35\n",
      "{\"lettre d'avertissement\", 'avertissement modèle', \"lettre d' avertissement\", 'avertissement courrier'} -> 32\n",
      "{'Remuneration activite partielle', 'activité partielle durée maximale', 'activité partielle', 'indemnisation chômage partiel', 'Chomage technique', 'chômage technique', 'chomage partiel', \"allocation d'activité partielle\", 'chômage partiel', 'fermeture chômage partiel', 'activité partielle et réduction du temps de travail', 'définition chômage partiel', 'rémunération activité partielle', 'chomage technique', 'Chômage technique', 'activité partielle et réduction des heures de travail', 'fermeture activité partielle', 'activite partielle', 'Chomage partiel', 'indemnisation activité partielle'} -> 85\n",
      "{'menace de sanction au travail', 'lettre type pour insulte au travail', 'intimidation au travail France', \"menace d'un salarié envers son employeur\", 'menace verbale au travail', 'insultes et menaces au travail'} -> 18\n",
      "{\"document unique d'évaluation des risques\"} -> 47\n",
      "{'je travaille dans un magasin. est ce normal que je sois seule ?', 'travaille isolé', 'travail isolé'} -> 19\n",
      "{\"toilettes dans l'établissement\", 'toilettes', \"obligation de sécurité de résultat de l'employeur\", 'Obligation securite', 'cabinets d aisances', 'obligation de sécurité', 'toilettes sales au travail', \"cabinet d'aisance\", 'toilette', 'Toilette'} -> 40\n",
      "{'salaire minimum convention collective', 'salaire minimum conventionnel', 'minima conventionnel'} -> 6\n",
      "{'smic', 'le smic'} -> 36\n",
      "{'Smic'} -> 8\n",
      "{'quel est le montant du smic net ?', 'Smic 2020', 'salaire minimum', 'salaire minimum de croissance', 'salaire minimum légal', 'SALAIRE MINIM', 'quel est le montant du smic?'} -> 50\n",
      "{'reçu pour solde de tout compte', 'delai reçu pour solde de tout compte', 'calcul solde de tout compte et indemnité de précarité', 'solde de tout compte', 'calcul du solde de tout compte', 'slde de tout compte'} -> 19\n",
      "{'délai de paiement du solde de tout compte', 'Solde tout compte', 'paiement solde de tout compte', 'calcul du solde de tout compte', 'soldes de tout compte', 'calcul solde de tout compte et indemnité de fin de contrat', 'Solde tt compte', 'recç pour solde de tout compte', 'calcul des sommes dues à la fin du contrat de travail', 'comment se calcule le solde de tout compte', 'SOLDE TOUT COMPTE', 'comment calculer le solde de tout compte', 'calcul solde de tout compte et indemnité de précarité', 'solde tout compte', 'solde de tout compte', 'Solde de tout compte', 'SOLDE DE TOUT COMPTE', 'reçu pour solde de tout compte', 'calcul solde de tout compte et indemnité de congés payés', 'SOLDE D E TOUT COMPTE', 'calcul solde de tout compte et primes', 'calcul solde de tout compte', 'solde de tous comptes', 'calcul indemnités solde de tout compte'} -> 247\n",
      "{'portabilité solde de tout compte'} -> 8\n",
      "{'Teletravail', 'télétravail', 'teletravail', 'Télétravail'} -> 237\n",
      "{'temps de pause', 'Pause', 'Temps d3 pose', 'travail effectif et pause', 'durée du travail et temps de pause', 'Temps de pause obligatoire', 'temps de pause cigarette code du travail', 'pause déjeuner', 'Temps de pause', 'temps de pause syntec', 'droit à la pause', 'TEMPS DE PAUSE', 'allaitement et temps de pause', 'temps de pause et jeunes travailleurs', 'quel sont les temps de pause au travail ?', 'amplitude et temps de pause', 'temps de pause obligatoire payé', 'pauses', 'temps de pause travail sur écran', 'pause méridienne', 'quels sont les grands principes des temps de pause au travail ?'} -> 150\n",
      "{'pause'} -> 48\n",
      "{'Pause'} -> 12\n",
      "{'pause'} -> 27\n",
      "{'temps de pause', 'Pause', 'quelles sont les règles à respecter en matière de temps de pause au travail ?', 'travail effectif et pause', 'durée du travail et temps de pause', 'pause meridienne', 'que dit la loi à propos des temps de pause au travail ?', 'temps de pause cigarette code du travail', 'pause déjeuner', 'Temps de pauses', 'Temps de pause', 'temps de pause syntec', 'Pause déjeuner', 'droit à la pause', 'allaitement et temps de pause', 'amplitude et temps de pause', 'temps de pause obligatoire payé', 'pauses', 'temps de pause travail sur écran', 'pause méridienne', 'quels sont les grands principes des temps de pause au travail ?'} -> 154\n"
     ]
    },
    {
     "name": "stdout",
     "output_type": "stream",
     "text": [
      "{'annualisation temps travail', 'comment sont calculées les 1607 heures ?', \"c'est quoi la modulation du temps de travail ?\", \"qu'est-ce qu'un temps partiel modulé ?\", 'modulation du temps de travail', 'comment annualiser un temps de travail ?', 'annualisation temps de travail', 'Annualisation du temps de travail', 'annualisation du temps de travail', 'aménagement du temps de travail', 'Annualisation temps de travail', \"comment calculer l'annualisation du temps de travail ?\", 'modulation du temps de travail et congés payés', 'annualisation du temps de travail et congés payés', 'annualisation du temps de travail temps partiel', 'aménagement temps de travail', 'ANNUALISATION DU TEMPS DE TRAVAIL'} -> 132\n",
      "Key error : [\"/fiche-service-public/temps-partiel-dans-le-secteur-prive\", \"/fiche-service-public/lemployeur-peut-il-instaurer-du-travail-a-temps-partiel-dans-lentreprise\", \"/fiche-service-public/comment-faire-pour-passer-a-temps-partiel-dans-le-secteur-prive\", \"/fiche-ministere-travail/le-travail-a-temps-partiel-contrat-et-statut-du-salarie#Quelle-forme-et-quel-contenu-obligatoires-pour-le-contrat-de-travail-a-nbsp\", \"/fiche-service-public/quest-ce-quun-complement-dheures-pour-le-salarie-a-temps-partiel\", \"/fiche-service-public/temps-partiel-quelle-incidence-sur-les-droits-a-conges-payes-du-salarie\", \"/fiche-service-public/lemployeur-peut-il-modifier-les-horaires-du-salarie-a-temps-partiel\", \"/fiche-ministere-travail/le-travail-a-temps-partiel-contrat-et-statut-du-salarie#Est-il-possible-de-faire-varier-la-duree-du-travail-d-un-salarie-a-temps-nbsp\", \"/fiche-ministere-travail/le-travail-a-temps-partiel-contrat-et-statut-du-salarie#En-quoi-consistent-les-heures-complementaires-et-comment-sont-elles-nbsp\", \"/fiche-ministere-travail/le-travail-a-temps-partiel-contrat-et-statut-du-salarie#En-quoi-consistent-les-complements-d-heures-par-avenant\", \"/fiche-ministere-travail/le-travail-a-temps-partiel-contrat-et-statut-du-salarie#En-quoi-consiste-le-temps-partiel-en-raison-des-besoins-de-la-vie-nbsp\", \"/fiche-ministere-travail/le-travail-a-temps-partiel-contrat-et-statut-du-salarie#Des-coupures-d-activite-au-cours-de-la-journee-de-travail-est-ce-possible-nbsp\", \"/fiche-ministere-travail/le-travail-a-temps-partiel-contrat-et-statut-du-salarie#Quels-sont-les-droits-des-salaries-a-temps-partiel\", \"/modeles-de-courriers/demande-de-derogation-a-la-duree-minimale-de-travail-pour-un-temps-partiel\", \"/contribution/quelles-sont-les-conditions-de-cumul-demplois\", \"/fiche-service-public/quest-ce-que-le-temps-partiel-annualise-pour-raisons-familiales\", \"/fiche-service-public/temps-partiel-quelle-est-la-duree-minimale-de-travail\", \"/fiche-service-public/quest-ce-que-le-cdi-intermittent-cdii-ou-cd2i\", \"/fiche-service-public/a-quelles-conditions-un-salarie-peut-il-cumuler-plusieurs-emplois\", \"/fiche-ministere-travail/5-questions-reponses-sur-le-passage-a-temps-partiel#Question-1-Passage-a-temps-partiel-comment-obtenir-un-temps-partiel-nbsp\", \"/fiche-ministere-travail/5-questions-reponses-sur-le-passage-a-temps-partiel#Question-2-Passage-a-temps-partiel-faut-il-modifier-le-contrat-de-travail-nbsp\", \"/fiche-ministere-travail/5-questions-reponses-sur-le-passage-a-temps-partiel#Question-3-Passage-a-temps-partiel-peut-on-choisir-ses-horaires-nbsp\", \"/fiche-ministere-travail/5-questions-reponses-sur-le-passage-a-temps-partiel#Question-4-Passage-a-temps-partiel-peut-on-revenir-a-temps-plein-nbsp\", \"/fiche-ministere-travail/5-questions-reponses-sur-le-passage-a-temps-partiel#Question-5-Passage-a-temps-partiel-quels-droits-pour-les-salaries-a-temps-nbsp\", \"/fiche-ministere-travail/le-travail-a-temps-partiel-contrat-et-statut-du-salarie#La-repartition-de-la-duree-du-travail-prevue-au-contrat-peut-elle-etre-nbsp\"]\n",
      "{'calcul congés payés pour temps partiel', 'Congé payé temps partiel', 'indemnité de congés payés à temps partiel', 'congés payés à temps partiel', 'Congés payés en temps partiel', 'congés payés et temps partiel', 'combien de jours de congés payés pour un mi-temps ?', 'congé temps partiel', 'conges payes temps partiel'} -> 37\n",
      "{'tesa'} -> 6\n",
      "{'quel salaire pour une garde de nuit ?', 'à quelle heure commence le travail de nuit?', 'passage à un poste de jour?', \"qu'est ce qu'un travailleur de nuit?\", 'TRAVAIL DE NUIT', 'travail de soirée', 'travail de nuit occasionnel', 'travail de nuit et droit au repos', 'Travail nuit', 'temps de repos entre travail de nuit et de jour', 'travail de nuit', 'comment sont payées les heures de nuit en intérim ?', 'travail de nuit femme', 'travail de.nuit', 'Travail de nuit', 'quelles sont les horaires du travail de nuit?', \"qu'est ce que le travail de nuit\", 'quelle est la tranche horaire considérée comme horaires de nuit ?', 'travailleur de nuit', 'TRAvail de nuit', 'Repos compensateur travail de nuit', 'repos compensateur de nuit code du travail', \"qu'est ce qu'une heure de nuit?\", 'quelle est la majoration des heures de nuit ?', 'travail de nuit et soir', 'calcul repos compensateur travail de nuit', 'travail de nuit exceptionnel', 'travail nuit', 'age maximum pour travail de nuit', 'travail de nuit des jeunes travailleurs', 'calcul des heures de travail de nuit'} -> 267\n",
      "{'un accord ou un plan sur la prévention de la pénibilité est-il obligatoire ?'} -> 7\n",
      "{'plan de prévention'} -> 12\n",
      "{'délai de prévenance refus congés payés', 'refus congés payés', 'refus congés payés après congé maternité'} -> 6\n",
      "{'Étranger', 'etranger', 'étranger'} -> 8\n",
      "{'mineur'} -> 8\n",
      "{'salarié étranger', 'salarié etranger'} -> 6\n",
      "{'déménagement', \"déménagement d'une entreprise\", 'déménagement de l’entreprise et information des salariés', \"déménagement de l'entreprise et rupture du contrat\", 'déménagement de l’entreprise formalités', 'refus de rupture conventionnelle et déménagement'} -> 33\n",
      "Key error : [\"/fiche-service-public/un-salarie-peut-il-beneficier-dun-dispositif-de-preretraite\", \"/fiche-service-public/preretraite-amiante-du-salarie-du-secteur-prive\", \"/fiche-service-public/retraite-progressive-dun-salarie-du-prive-regime-general\", \"/fiche-service-public/retraite-du-salarie-retraite-anticipee-pour-carriere-longue\", \"/fiche-service-public/retraite-anticipee-liee-a-la-penibilite-du-travail-dans-le-secteur-prive\", \"/fiche-service-public/retraite-anticipee-pour-handicap-dun-salarie-du-prive\", \"/fiche-service-public/peut-on-encore-beneficier-de-la-preretraite-licenciement\"]\n",
      "{\"cdi à l'issu d'un cdd\", \"période d'essai cdi après cdd consécutif\", \"période d'essai cdi après cdd poste différent\", \"période d'essai cdi après cdd non consécutif\"} -> 26\n",
      "{'LE TRAVAIL EN SOIREE', 'travail en soirée', 'travailler le soir salaire', 'travailler le soir', 'Travail en soiree', 'travailler en soirée'} -> 13\n",
      "{'mon employeur peut-il refuser une formation'} -> 8\n",
      "{'entretien professionnel refus du salarié'} -> 13\n",
      "{'Droit de retrait', 'un salarié peut-il refuser de travailler dans une situation dangereuse ?', 'droit de retrait agression', 'comment utiliser son droit de retrait ?', 'quelle température pour ne pas travailler ?', 'droit d eretrait', 'droit de retrait salarié', \"qu'est-ce que le droit de retrait au travail ?\", 'droit de retrait abusif', \"qu'est-ce qu'un danger grave et imminent au travail ?\", 'quand un salarié peut-il refuser de travailler ?', 'droit de retrait'} -> 61\n",
      "{'congé examen'} -> 12\n",
      "{'ARRET DE TRAVAIL', 'Arrêt maladie', 'long arrêt maladie', 'Arrêt de travail', 'Arret de travail', 'arrêt de travail pour maladie', 'Arret maladie', 'arrêt travail', \"arrêt de travail contrôle de l'employeur\", 'arrêt de travail maladie professionnelle et non professionnelle', 'arrêt maladie', 'arret maladie', 'absences pour maladie', 'arret de travail', 'absence maladie', 'arrêt de travail 30 jours', 'Arrête de travail', 'arrêt maladie longue durée', 'arrêt de travail', 'ARRËT MALADIE', 'Arrets maladies'} -> 195\n",
      "{'grossesse temps de travail', 'femme enceinte travail', 'visite médicale femme enceinte travail', 'grossesse et travail debout', 'grossesse et travail', 'temps de travail femme enceinte', 'grossesse et travail de nuit'} -> 74\n",
      "Key error : [\"/fiche-service-public/une-salariee-enceinte-est-elle-obligee-de-reveler-sa-grossesse-a-son-employeur\", \"/fiche-service-public/une-salariee-peut-elle-allaiter-pendant-les-heures-de-travail\", \"/fiche-service-public/grossesse-et-autorisation-dabsence-quelles-sont-les-regles\", \"/fiche-service-public/une-salariee-enceinte-peut-elle-refuser-deffectuer-certaines-taches\", \"/fiche-service-public/une-salariee-enceinte-a-t-elle-droit-a-une-reduction-de-sa-duree-de-travail\", \"/fiche-ministere-travail/la-protection-des-femmes-enceintes-et-les-risques-lies-a-la-grossesse#La-protection-pendant-la-maternite\", \"/fiche-ministere-travail/la-protection-des-femmes-enceintes-et-les-risques-lies-a-la-grossesse#Les-droits-de-la-salariee-et-le-conge-de-maternite\", \"/fiche-ministere-travail/la-protection-des-femmes-enceintes-et-les-risques-lies-a-la-grossesse#Protection-contre-certains-risques-en-cas-de-grossesse\"]\n",
      "{'alaitement', 'allaitement'} -> 16\n",
      "{'prime depart en retraite', 'prime départ retraite', 'prime de depart en retraite'} -> 13\n",
      "{'transport'} -> 6\n",
      "{'grève des transports', 'greve des transports'} -> 14\n",
      "{'retard transports'} -> 7\n",
      "{'transaction'} -> 7\n",
      "{'portabilité'} -> 6\n",
      "{'temps de trajet temps de travail itinérant', 'ai je droit à une indemnité de trajet lorsque je prend mon véhicule personnel pour me rendre sur mon lieu de travail ?', 'temps de trajet maximum travail', 'temps de trajet travail', 'temps de trajet', 'temps de trajet entre deux lieux de travail', 'temps de trajet formation'} -> 19\n",
      "{'vidéosurveillance'} -> 6\n",
      "{'affichage'} -> 10\n",
      "{'CERTIFICAT DE TRAVAIL', 'certificat de travil', \"certificat de l'emploi occupé\", 'attestation de travail', 'fin de cdd et attestation de travail', 'démission et certificat de travail', 'certificat de travail', 'documents de fin de contrat et certificat de travail', \"attestation de l'emploi occupé\", 'Certificat de travail'} -> 56\n",
      "{'LICENCIEMENT'} -> 7\n",
      "{\"prise d'acte de rupture\"} -> 8\n",
      "{'rupture essai', 'rupture'} -> 9\n",
      "{'Rupture conventionnel', 'RUPTURE%20CONVENTIONNELLE', 'rupture conventinnelle', 'rupture conventionnelle cdi', 'rupture conventonnelle', 'rupture conventionnelle'} -> 23\n",
      "{'demander une rupture conventionnelle', 'modèle demande de rupture conventionnelle', 'demande rupture conventionnelle', 'Comment demander une rupture conventionnelle?', 'comment demander une rupture conventionnelle?'} -> 13\n",
      "{'rupture conventionnelle délai', 'RUPTURE%20CONVENTIONNELLE', 'rupture conventionelle', 'rupture conventionnel', 'Ruptute conventionnelle', 'Rupture%20conventionnelle', 'Rupture conventionelle', 'rupture%20convenetionnele', 'RUPTURE CONVENTIONNNELLE', 'rupture conventionnelle et congés payés', 'RUPTURE CONVENTIONNELLE DE CONTRAT', 'rupture conventionnelle refusée', 'Rupture convrntionnelle', 'rupture conventionnelle CDD', 'rupture conventionnelel', 'la rupture conventionnelle', 'rupture convensionnelle', 'RUPTURE CONVENTIONNEL', 'Ruptures conventionnel', 'Rupture conventionnelle', 'rupture%20conventionnelle', 'Rupture cinventionnel', 'rupture conventionnellle', 'rupture amiable du contrat de travail', 'rupture%20conventionelle', 'rupture conventione', 'rupture conventionnell', 'RUPTURE CONBVENTIONNELLE', 'rupture cnventionnelle', 'rupture conventionnelle ou licenciement', 'Rupture conventionnel', 'RUPTURE CONVETIONNEL', 'rupture conventionnelle ou licenciement économique', 'Rupture con ventionnel', 'rupture de contrat conventionnelle', 'RUPTURE CONVENTIONNELLE', 'rupture conventionnelle du contrat de travail', 'rupture conventionnelle de contrat', 'rupture conventionnelle cdd', 'Rupture Conventionelle', 'rupture conventionnelle cdi', 'Rupture concentionnelke', 'rutpture conventionnelle', \"rupture d'un commun accord du contrat de travail\", 'rupture conventionnelle'} -> 864\n"
     ]
    },
    {
     "name": "stdout",
     "output_type": "stream",
     "text": [
      "{'lettre de contestation, par le salarié, du refus de la demande de congés payés', 'refus de congés abusif', 'refus conges payé', \"Refus de congés payés par l'employeur\", 'délai de prévenance refus congés payés', 'refus de congés payés par le salarié', 'quand un employeur peut refuser des congés ?', 'refus congés payés', \"reports de congés payés par l'employeur\", 'refus congés payés après congé maternité', 'est-il obligatoire de prendre ses congés payés ?', \"refus de congés payés par l'employeur\", 'délai de prévenance congés payés'} -> 78\n",
      "Key error : [\"/modeles-de-courriers/releve-dheures-supplementaires\", \"/fiche-service-public/heures-supplementaires-dun-salarie-du-secteur-prive\", \"/fiche-service-public/heures-dequivalence-dans-le-secteur-prive\", \"/fiche-service-public/astreinte-dans-le-secteur-prive\", \"/fiche-service-public/astreinte-dans-le-secteur-prive\", \"/fiche-ministere-travail/les-heures-supplementaires-definition-et-limites#Quel-est-le-cadre-de-decompte-des-heures-supplementaires\", \"/fiche-ministere-travail/les-heures-supplementaires-contreparties#Quels-sont-les-principes-d-ordre-public\", \"/fiche-ministere-travail/les-heures-supplementaires-contreparties#Quelles-sont-les-majorations-de-salaire-applicables\", \"/fiche-ministere-travail/les-heures-supplementaires-contreparties#En-quoi-consiste-le-lt-lt-repos-compensateur-de-remplacement-nbsp\", \"/fiche-ministere-travail/les-heures-supplementaires-contreparties#La-contrepartie-obligatoire-en-repos-COR-dans-quels-cas-et-pour-quelle-nbsp\", \"/fiche-ministere-travail/les-heures-supplementaires-definition-et-limites#Qu-est-ce-qu-une-heure-supplementaire\", \"/fiche-ministere-travail/les-heures-supplementaires-definition-et-limites#Quelles-sont-les-regles-applicables-au-contingent-d-heures-supplementaires-nbsp\", \"/fiche-ministere-travail/les-heures-supplementaires-definition-et-limites#Quelles-sont-les-limites-a-l-accomplissement-d-heures-supplementaires-nbsp\"]\n",
      "{\"rupture de période d'essai\", 'RUPTURE PERIODE D ESSAI', 'Rupture periode essai chômage', \"rupture en période d'essai\", 'fin de période dessai', \"rupture de contrat en période d' essai\", \"rupture période d'essai cdd\", \"Rupture période d'essai\", \"Rupture de période d'essai\", \"lettre rupture période d'essai remise en main propre employeur\", \"mettre fin à la période d'essai d'un salarié\", \"comment mettre fin à la période d'essai\", \"rupture période d'essai CDD\", 'rupture periode esseai', \"c'est quoi un délai de prévenance ?\", \"rupture période d'essai chômage\", 'rupture periode essai', \"rupture période d'essai documents de fin de contrat\", 'rupture période essai', 'Rupture periode essai', \"rupture de la période d' essai\", \"conséquences rupture période d'essai\", \"rupture période d'essai par mail\", \"rupture de période d'essai et chômage\", \"Rupture de la période d'essai\", \"Fin de période d'essai\", \"fin période d'essai\", \"rupture période d'essai\", \"Rupture periode d'essai\", \"rupture période d'essai préavis\"} -> 153\n",
      "{'Période essai', 'PERIODE D ESSAI', 'PERIODE essai', \"periode d'essaie\", \"préavis et période d'essai\", \"PERIODE D'ESSAI\", 'periode essai', \"renouvellement de la période d'essai\", 'Période d’essai', \"péridoe d'essai\", \"périod ed'essai\", 'PERIODE ESSAI', 'période essai', 'Periode essaie', \"periode%20d'essaie\", 'Période d essai', \"période d'essaie\", 'periode essaie', 'periode%20essai', \"Periode d'essai\", \"période d'essai\", 'Periode d essai', 'période esssai', 'PERIODE D4ESSAI', 'Périodes essai', \"Période d'essai\", 'Periode essai', \"période d'essais\", \"periode d'essai\"} -> 431\n",
      "{'rupture apprentissage'} -> 7\n",
      "{'apprentissage rompre'} -> 8\n",
      "{'Rupture en CDD', 'rupture du CDD', \"rupture d'un cdd d'insertion\", 'rupture abusive du cdd', 'rupture du cdi', 'rupture du cdd et faute grave', \"rupture d'un cdd à objet défini\", \"Rupture d'cdd\", 'rompre un cdd', \"rupture du cdd à l'initiative du salarié\", 'Rupture Cdd', \"comment rompre un cdd d'un commun accord\", 'terme du cdd', 'rupture anticipée du cdd en cas de force majeure', 'RUPTURE CDD', 'rupture cdd', 'rupture CDD', 'rupture de cdd', 'rupture anticipée du CDD', \"rupture anticipée d'un cdd\", 'Rupture anticipée cdd', 'rupture anticipé du cdd', 'Rupture cdd', 'comment peut on rompre un cdd?', 'fin du cdd', 'rupture%20cdd', 'rupture du cdd et inaptitude', 'ruptuire cdd', 'rupture anticipée du cdd'} -> 150\n",
      "{'indemnité légale de licenciement', 'indemnité légale licenciement'} -> 9\n",
      "{'Indemnités rupture conventionnelle', 'indemnite rupture conventionnelle', 'Indemnites rupture conventionnelle', 'Calcul indemnité', 'Calcul indemnité rupture conventionnelle', 'indemnités rupture conventionnelle', 'MONTANT INDEMNITE RUPTURE CONVENTIONNELLE', 'indemnié de rupture conventionnellee', 'Indemnité rupture conventionnelle', 'calcul indemnité rupture conventionnelle', \"comment calculer l'indemnité rupture conventionnelle\", 'indemnite de rupture conventionnelle', 'Calcul indemnités rupture conventionnelle', 'Indemenite Rupture conventionnelle', 'indemnitée de rupture conventionnelle', 'indemnité rupture conventionnelle', 'Indemnités Rupture conventionnelle'} -> 70\n",
      "{'indemnité de rupture conventionnelle', 'indemnite rupture conventionnelle', 'indemnités rupture conventionnelle', 'calcul indemnité rupture conventionnelle', \"comment calculer l'indemnité rupture conventionnelle\", 'indemnité rupture conventionnell', 'indemnité rupture conventionnelle'} -> 9\n",
      "{'calcul indemnités licenciement', 'calcul indemnité licenciement', 'calcul indémité de licenciement', 'calcul indémnité le licenciement', 'calcul des indemnites pour licenciement', 'calcul indemnité de licenciement', 'Calculer indemnités de licenciement', 'montant indemnité de licenciement', \"comment calculer le montant de l'indemnité de licenciement\", 'CALCUL INDEMNITE LICENCIEMENT', 'calculer la prime de licenciement', 'Quel est le montant de mon indemnité de licenciement?', 'calcule indemnite licenciement', 'Calcul Indemnité de licenciement', 'calcul de mes indemnitées de licenciements', 'Calcul indemnités licenciement', 'modalités de calcul indemnités de licenciement', 'calcul indemnite licenciement'} -> 73\n",
      "{'indemnités de licenciement pour inaptitude', 'Indemnités licenciement inaptitude', 'Indemnité de Licenciement pour inaptitude', 'simulateur calcul indemnité de licenciement pour inaptitude', 'Indemnisation Licenciements pour inaptitude', 'indemnité licenciement pour inaptitude'} -> 22\n",
      "{'calcul indemnité de licenciement pour inaptitude suite accident du travail', 'calcul indemnité licenciement inaptitude professionnelle', 'simulateur calcul indemnité de licenciement pour inaptitude professionnelle', 'quelles sont les indemnités en cas de licenciement pour inaptitude professionnelle ?', 'Indemnités de licenciement pour inaptitude maladie professionnelle', 'indemnité de licenciement pour inaptitude professionnelle'} -> 20\n",
      "{'prime licenciement', 'prime de licenciement'} -> 9\n",
      "Key error : [\"/outils/indemnite-licenciement\", \"/outils/preavis-licenciement\", \"/contribution/quelle-est-la-duree-de-preavis-en-cas-de-licenciement\", \"/contribution/le-preavis-de-licenciement-doit-il-etre-execute-en-totalite-y-compris-si-le-salarie-a-retrouve-un-emploi\", \"/fiche-service-public/licenciement-quest-ce-quun-conseiller-du-salarie\", \"/fiche-service-public/licenciement-du-salarie-a-domicile-employe-par-un-particulier\", \"/fiche-service-public/allocations-chomage-comment-est-calcule-le-salaire-journalier-de-reference\", \"/fiche-service-public/licenciement-protection-du-representant-du-personnel\", \"/fiche-service-public/preavis-de-licenciement\", \"/fiche-service-public/licenciement-abusif-a-quelle-indemnisation-peut-pretendre-le-salarie\", \"/fiche-ministere-travail/la-protection-en-cas-de-licenciement#Quels-sont-les-salaries-proteges\", \"/fiche-ministere-travail/la-protection-en-cas-de-licenciement#Quelle-est-la-duree-d-application-du-statut-protecteur\", \"/fiche-ministere-travail/la-protection-en-cas-de-licenciement#Quels-sont-les-moyens-de-recours\", \"/fiche-ministere-travail/la-protection-en-cas-de-licenciement#Quelle-est-la-protection-en-cas-de-transfert-d-activite\", \"/fiche-ministere-travail/lindemnite-legale-de-licenciement#Comment-calculer-le-salaire-de-reference\", \"/fiche-ministere-travail/lindemnite-legale-de-licenciement#Comment-determiner-le-montant-de-l-indemnite\", \"/fiche-ministere-travail/le-conseiller-du-salarie#Qui-peut-etre-conseiller-du-salarie\", \"/fiche-ministere-travail/le-conseiller-du-salarie#Ou-trouver-un-conseiller-du-salarie\", \"/fiche-ministere-travail/le-conseiller-du-salarie#Quel-est-le-champ-d-intervention-du-conseiller-du-salarie\", \"/fiche-ministere-travail/le-conseiller-du-salarie#Comment-se-faire-assister-par-un-conseiller-du-salarie\", \"/fiche-ministere-travail/le-conseiller-du-salarie#De-quels-moyens-le-conseiller-du-salarie-dispose-t-il\"]\n",
      "{'licenciement'} -> 272\n",
      "{'licenciement'} -> 41\n",
      "{'Licenciement'} -> 51\n",
      "{'indemnité précarité', 'prime de precarite cdd', 'indemnité de précarité', 'prime précarité', 'Indemnité de fin de contrat cdd', 'comment calculer la prime de précarité ?', 'Indemnité de précarité CDD', 'indemnites de fin cdd', 'indemnité de fin de contrat cdd', 'indemnités de précarité', 'indemnités fin de cdd', 'indemnite de precarite', 'prime de précarité', 'indémnité précarité', 'qui a droit à la prime de précarité ?', 'indemnité fin de contrat cdd', 'Prime de précarité cdd', 'prime précarité cdd', 'prime precarité', 'Prime de précarité', 'PRIME DE PRECARITE'} -> 105\n",
      "{'prevoyance', 'prévoyance'} -> 12\n",
      "{'préavis retraite', 'preavis retraite'} -> 8\n",
      "{'demission et preavis', 'je viens de démissionner et je ne veux pas effectuer de préavis', 'prévais demission', 'demission preavis', 'je viens de démissionner et je veux partir de suite', 'Préavis de démission', 'démission préavis', 'je veux démissionner, un préavis est il obligatoire ?', 'démission sans préavis', 'demiision preavis', 'DEMISSION ET PR2AVIS', 'Préavis de demission', \"c'est quoi un préavis en cas de démission ?\", 'Demission preavis', 'démission cdi sans préavis', 'péavis démission', 'démission et préavis', 'PREAVIS DEMISSION', 'preavis deùssion', 'préavis de démission', 'preavis dcidemission', 'preavis et demission', 'Préavis démission', 'préavis demmission', 'Démissionner sans préavis', 'préavis démission', 'Preavis demission', 'preavis demission', 'PREAVIS CDD DEMISSION', 'Préavis demission', 'préavis de démision'} -> 246\n",
      "{'durée preavis', 'durée de préavis jura', 'duree preavis', 'durée préavis', 'duré préavis', 'duree préavis'} -> 36\n",
      "{'Duree preavis', 'préavis 3 mois', 'Durée preavis', 'Duree préavis', 'Durée préavis'} -> 13\n",
      "{'pr%C3%A9avis'} -> 18\n",
      "{'durée du préavis de démission HCR', 'durée du préavis de démission', 'durée de préavis démission', 'calcul préavis démission', 'quelle est la durée de préavis en cas de démission ?', 'durée préavis démission cdd', 'Duree preavis demission', 'quel est le délai de préavis pour une démission ?', 'durée de préavis pour démission', 'durée préavis de démission', 'durée du préavis de démission sncf'} -> 116\n",
      "{'préavis syntec', 'preavis alsace', 'préavis hcr', 'Préavis vacances', 'préavis alsace'} -> 6\n",
      "{'durée du préavis de licenciement', 'Duree preavis licenciement', 'durée de préavis licenciement', 'Dure de preavis licenciment', 'quelle est la durée du préavis en cas de licenciement ?', 'durée préavis licenciement', 'Duree de preavis de licenciement'} -> 29\n",
      "{'abandon de poste licenciement'} -> 18\n",
      "{'Prime licenciement', 'Prime de licenciement'} -> 6\n",
      "{'index égalité professionnelle', 'index égalité professionnelle entre les femmes et les hommes CSE', 'égalité homme femme au travail', 'égalité professionnelle', \"modèle plan d'action égalité homme femme 2019\", 'index égalité hommes femmes', 'égalité homme femme salaire', 'égalité homme femme entreprise', 'égalité professionnelle index', 'index égalité professionnelle entre les femmes et les hommes', 'Index egapro', 'Egapro', 'egapro', 'égalité professionnelle définition', 'modèle accord égalité professionnelle hommes femmes 2019', 'index égalité homme femme'} -> 73\n",
      "{'candidature au cse', 'mise en place cse', 'Election cse', 'comment mettre en place le cse ?', 'accord de mise en place du cse', 'MISE EN PLACE CSE', 'élection du cse', 'Élection professionnelle', 'elections cse', 'elections rofessionnelles', 'périodicité des élections', 'élections professionnelles', 'mise en place cse 11 salariés', \"calcul d'effectif et obligation d'organisation des élections du cse\", \"obligation d'organiser les élections\", 'devenir candidat au cse', 'vote par correspondance cse', 'élections du cse moins de 20 salariés', 'elections professionnelles', 'composition cse central', 'élections cse', 'mise en place CSE', 'ELECTIONS PROFESSIONNELLES', 'le cse pour les nuls'} -> 102\n",
      "{'compte cpf', 'cpf et reconversion', 'formations', 'Formation', \"qu'est ce que le cpf ?\", 'comment utiliser son cpf ?', 'compte personnel de formation', 'formation', 'mobiliser son cpf ?', \"c'est quoi le cpf ?\", 'utiliser son cpf pour une reconversion', 'formation en dehors du temps de travail', 'FORMATION', 'cpf et dif', 'cpf et permis b', 'droit au cpf', 'Compte personnel de formation', \"financement d'une formation pour reconversion\"} -> 105\n",
      "{'heures dif', 'heures formation cpf', 'heures cpf en euros'} -> 18\n",
      "Key error : [\"https://www.sipsi.travail.gouv.fr/auth/login\", \"/fiche-ministere-travail/cadre-general\", \"/fiche-ministere-travail/cadre-general#Le-regime-du-detachement-des-conditions-et-formalites-a-respecter\", \"/fiche-ministere-travail/cadre-general#Avant-le-detachement-des-formalites-prealables-obligatoires\", \"/fiche-ministere-travail/cadre-general#Pendant-le-detachement-les-droits-garantis-au-salarie-detache\", \"/fiche-ministere-travail/cadre-general#La-remuneration-applicable-aux-salaries-detaches-en-France\", \"/fiche-ministere-travail/cadre-general#La-duree-du-travail\", \"/fiche-ministere-travail/cadre-general#La-sante-et-la-securite-au-travail\", \"/fiche-ministere-travail/cadre-general#Les-conditions-d-hebergement-des-salaries\", \"/fiche-ministere-travail/employeurs-vos-formalites-prealables-obligatoires\", \"/fiche-ministere-travail/employeurs-vos-formalites-prealables-obligatoires#t1-La-declaration-prealable-de-detachement-de-salaries-en-France\", \"/fiche-ministere-travail/employeurs-vos-formalites-prealables-obligatoires#t2-La-designation-d-un-representant-sur-le-territoire-francais\", \"/fiche-ministere-travail/employeurs-vos-formalites-prealables-obligatoires#t3-La-carte-d-identification-professionnelle-dans-le-secteur-du-batiment-et-nbsp\", \"/fiche-ministere-travail/employeurs-vos-formalites-prealables-obligatoires#t4-L-adhesion-a-une-caisse-de-conges-payes-et-lt-lt-intemperies-nbsp\", \"/fiche-ministere-travail/employeurs-vos-formalites-prealables-obligatoires#t5-L-obligation-de-l-employeur-de-conservation-et-de-mise-a-disposition-des-nbsp\", \"/fiche-ministere-travail/employeurs-vos-formalites-prealables-obligatoires#Documents-traduits-en-francais-a-conserver-et-a-presenter-sans-nbsp\", \"/fiche-ministere-travail/employeurs-vos-formalites-prealables-obligatoires#t6-Pour-les-entreprises-de-travail-temporaire-ETT\", \"/fiche-ministere-travail/salaries-detaches-vos-droits\", \"/fiche-ministere-travail/salaries-detaches-vos-droits#LA-SANTE-SECURITE-AU-TRAVAIL-ET-LES-ACCIDENTS-DU-TRAVAIL\", \"/fiche-ministere-travail/salaries-detaches-vos-droits#L-HEBERGEMENT\", \"/fiche-ministere-travail/salaries-detaches-vos-droits#LIBERTES-INDIVIDUELLES-ET-COLLECTIVES-DANS-LA-RELATION-DE-TRAVAIL\"]\n",
      "{\"salarié en mission à l'étranger\", 'bulletin de paie salarié détaché en France', 'Détachement', 'salarie expatrié', 'Detachement', 'convention de détachement', 'detachement', \"qu'est-ce qu'un contrat de détachement ?\", \"qu'est-ce qu'un contrat d'expatriation ?\", 'durée maximale du détachement', 'salarié expatrié', 'mise à disposition de personnel entre sociétés du même groupe', 'détachement', \"qu'est-ce que le statut d'expatrié ?\", 'salarié détaché visite médicale', \"détachement d'un salarié dans une filiale\"} -> 68\n",
      "{'indemnité de rupture conventionnelle et indemnité de licenciement', 'indemnité spéciale de rupture conventionnelle', 'rupture conventionnelle individuelle indemnité de rupture', 'quelles sont les indemnités de rupture conventionnelle?'} -> 88\n",
      "{'rupture conventionnelle individuelle', \"départ à l'amiable\", 'l’employeur est-il tenu d’accepter une rupture conventionnelle individuelle demandée par son salarié ?', 'pour quels motifs, l’administration peut-elle refuser l’homologation de la rupture conventionnelle individuelle ?', \"rupture à l'amiable\", 'Rupture conventionnelle individuelle'} -> 55\n"
     ]
    }
   ],
   "source": [
    "# most frequent queries with hit\n",
    "all_ranks = []\n",
    "\n",
    "threshold = 5\n",
    "for g, rows in df_searches_unique[df_searches['rank'] >= 0].groupby([\"docs_slug\"]):\n",
    "    try:\n",
    "        n = rows.shape[0]\n",
    "        q = set(rows['query'].tolist())    \n",
    "        algos = [docres['algo'] for docres in json.loads(rows.docs_res.tolist()[0].replace(\"'\",'\"'))]\n",
    "        #algos = \n",
    "        preq = 'pre-qualified' in algos\n",
    "        candidates = g\n",
    "        if (n > threshold):        \n",
    "            print(f'{q} -> {n}')\n",
    "            #print(algo)\n",
    "            ranks = rows['rank'].value_counts().sort_index()\n",
    "            candidates_array = json.loads(candidates)\n",
    "            j = len(candidates_array)\n",
    "            complete_ranks = [0] * j\n",
    "            ids = []\n",
    "            for i in range(0, j):\n",
    "                if i in ranks.index:\n",
    "                    complete_ranks[i] = ranks[i]             \n",
    "                ids.append({'slug':candidates_array[i], 'count':int(complete_ranks[i]), 'preq':algos[i]})\n",
    "            all_ranks.append({'total':int(n), 'queries':list(q), 'preq': preq, 'docs':ids})\n",
    "    except KeyError:\n",
    "        print(\"Key error : \" + g)\n",
    "        continue"
   ]
  },
  {
   "cell_type": "code",
   "execution_count": 7,
   "metadata": {
    "scrolled": false
   },
   "outputs": [
    {
     "name": "stdout",
     "output_type": "stream",
     "text": [
      "585\n"
     ]
    }
   ],
   "source": [
    "print(len(all_ranks))\n",
    "#print()\\\n",
    "#print(sorted(all_ranks[6], key=lambda x: x['count'], reverse=True))"
   ]
  },
  {
   "cell_type": "code",
   "execution_count": null,
   "metadata": {},
   "outputs": [],
   "source": []
  },
  {
   "cell_type": "code",
   "execution_count": null,
   "metadata": {
    "scrolled": true
   },
   "outputs": [],
   "source": [
    "print(json.dumps(all_ranks[15], indent=2))"
   ]
  },
  {
   "cell_type": "code",
   "execution_count": null,
   "metadata": {},
   "outputs": [],
   "source": []
  },
  {
   "cell_type": "code",
   "execution_count": null,
   "metadata": {},
   "outputs": [],
   "source": [
    "# from documentation\n",
    "\n",
    "params = {\n",
    "    \"y_pred\" : [\"a\", \"b\", \"c\", \"w\", \"k\",\"e\"], # y_pred (array): list of documents id predicted by the system\n",
    "    \"y_true\" : [\"a\", \"b\", \"c\", \"e\"], # y_true (array): documents id scored by humans sorted from most relevant to least relevant\n",
    "    \"y_score\" : {\n",
    "        \"a\":5,\n",
    "        \"b\":3,\n",
    "        \"c\":2,\n",
    "        \"e\":2\n",
    "            }, # y_score is a dict {\"doc_id\":\"score\"} of documents assigned as relevant y humans with the associated scores (ordered internally)\n",
    "    \"method\" : \"all\", # one of [\"precision\", \"recall\", \"dcg\", \"mrr\", \"all\"]\n",
    "    \"k\": 3 # k integer preferaly =< to length(y_pred)\n",
    "}"
   ]
  },
  {
   "cell_type": "code",
   "execution_count": 8,
   "metadata": {},
   "outputs": [],
   "source": [
    "def sort_ranks(ranks):\n",
    "    return sorted(ranks, key=lambda x: x['count'], reverse=True)\n"
   ]
  },
  {
   "cell_type": "code",
   "execution_count": 8,
   "metadata": {},
   "outputs": [
    {
     "data": {
      "text/plain": [
       "'\\ndef compute_metrics(rank_results, i, verbose=False, api=False):\\n    scores = dict([(r[\\'slug\\'], int(r[\\'count\\'])) for r in rank_results[i][\\'docs\\']])\\n    if not api:\\n        y_pred = [c[\\'slug\\'] for c in rank_results[i][\\'docs\\']]\\n    elif api:\\n        y_pred = rank_results[i][\\'docs_api\\']\\n        \\n    params = {\\n\\n        \"y_pred\": y_pred,\\n        #\"y_pred\": [c[\\'slug\\'] for c in sort_ranks(all_ranks[i]) if c[\\'count\\'] > 0],\\n        \"y_true\" : [c[\\'slug\\'] for c in sort_ranks(rank_results[i][\\'docs\\']) if c[\\'count\\'] > 0],\\n        \"y_score\" : scores,\\n        \"method\" : \"all\",\\n        \"k\":5\\n    }\\n    r = requests.post(\"http://localhost:4545/api/score\", json = params)\\n    \\n    if r.status_code != 200:\\n        print(\"Error with at index \" + str(i))        \\n        result = {\\'dcg\\': 1.0, \\'mrr\\': 1.0, \\'precision\\': 1.0, \\'recall\\': 1.0}\\n    else :\\n        result = r.json()\\n        \\n    if verbose:\\n        print(i)\\n        print(rank_results[i][0][\\'queries\\'])\\n        print(json.dumps(scores, indent=2))\\n        print(result)\\n    \\n    result[\\'occ\\'] = rank_results[i][\\'total\\']\\n    return result\\n'"
      ]
     },
     "execution_count": 8,
     "metadata": {},
     "output_type": "execute_result"
    }
   ],
   "source": [
    "# not used anymore\n",
    "'''\n",
    "def compute_metrics(rank_results, i, verbose=False, api=False):\n",
    "    scores = dict([(r['slug'], int(r['count'])) for r in rank_results[i]['docs']])\n",
    "    if not api:\n",
    "        y_pred = [c['slug'] for c in rank_results[i]['docs']]\n",
    "    elif api:\n",
    "        y_pred = rank_results[i]['docs_api']\n",
    "        \n",
    "    params = {\n",
    "\n",
    "        \"y_pred\": y_pred,\n",
    "        #\"y_pred\": [c['slug'] for c in sort_ranks(all_ranks[i]) if c['count'] > 0],\n",
    "        \"y_true\" : [c['slug'] for c in sort_ranks(rank_results[i]['docs']) if c['count'] > 0],\n",
    "        \"y_score\" : scores,\n",
    "        \"method\" : \"all\",\n",
    "        \"k\":5\n",
    "    }\n",
    "    r = requests.post(\"http://localhost:4545/api/score\", json = params)\n",
    "    \n",
    "    if r.status_code != 200:\n",
    "        print(\"Error with at index \" + str(i))        \n",
    "        result = {'dcg': 1.0, 'mrr': 1.0, 'precision': 1.0, 'recall': 1.0}\n",
    "    else :\n",
    "        result = r.json()\n",
    "        \n",
    "    if verbose:\n",
    "        print(i)\n",
    "        print(rank_results[i][0]['queries'])\n",
    "        print(json.dumps(scores, indent=2))\n",
    "        print(result)\n",
    "    \n",
    "    result['occ'] = rank_results[i]['total']\n",
    "    return result\n",
    "'''"
   ]
  },
  {
   "cell_type": "code",
   "execution_count": 140,
   "metadata": {},
   "outputs": [],
   "source": [
    "# Borrowed from Armand's letor\n",
    "def discounted_cumulative_gain(y_score, y_true, y_pred, k):\n",
    "    \"\"\"y_score is a dictionnary {\"doc_id\":\"score\"} of documents assigned as relevant y humans with the associated scores\n",
    "       k = maximum index to be scored\n",
    "       /!\\ to be valid, dcg should have results lists of same length bbetween requests\"\"\"\n",
    "    if y_pred == []:\n",
    "        return 0\n",
    "    if k > len(y_pred):\n",
    "        k = len(y_pred)\n",
    "    \n",
    "    y_scoring = []\n",
    "    for y in y_pred:\n",
    "        score = y_score.get(y)\n",
    "        if score is None: # if the predicted document is not in the array of humanly scored documents\n",
    "            score = 0\n",
    "        y_scoring.append(score)\n",
    "    \n",
    "    # compute dcg\n",
    "    def compute_dcg(y_scoring, k):\n",
    "        dcg = []\n",
    "        for i, pred in enumerate(y_scoring[:k]):\n",
    "            i+=1\n",
    "            # two formulas possible, according to wikipedia the latter places stronger emphasis on retrieving relevant documents\n",
    "            dcg.append(pred/(np.log2(i)+1))\n",
    "            #dcg.append((np.power(pred,2) - 1)/(np.log2(i)+1))\n",
    "        return np.sum(dcg)\n",
    "    # compute Ideal DCG\n",
    "    # ideal DCG: the best score that could have been obtained given the relevant document list\n",
    "    # i. e. : the most relevant documents, ordered by relevance.\n",
    "\n",
    "    dcg = compute_dcg(y_scoring, k)\n",
    "\n",
    "    ideal_scores = []\n",
    "    for i in y_true:\n",
    "        score = y_score.get(i)\n",
    "        if not i in y_score : # if we don't have a score for y true\n",
    "            y_score[i]\n",
    "            raise ValueError(\"the true document does not have score in y_score : \" + i)\n",
    "        ideal_scores.append(score)\n",
    "\n",
    "    ideal_scores = sorted(ideal_scores, reverse=True)\n",
    "\n",
    "    ideal_dcg = compute_dcg(ideal_scores, k)\n",
    "    return dcg/ideal_dcg"
   ]
  },
  {
   "cell_type": "code",
   "execution_count": null,
   "metadata": {},
   "outputs": [],
   "source": []
  },
  {
   "cell_type": "markdown",
   "metadata": {},
   "source": [
    "# Update candidates with API"
   ]
  },
  {
   "cell_type": "code",
   "execution_count": null,
   "metadata": {
    "scrolled": true
   },
   "outputs": [],
   "source": [
    "# for each group, trigger query \n",
    "all_ranks[113]"
   ]
  },
  {
   "cell_type": "code",
   "execution_count": null,
   "metadata": {},
   "outputs": [],
   "source": [
    "all_scores.iloc[113]"
   ]
  },
  {
   "cell_type": "code",
   "execution_count": 10,
   "metadata": {},
   "outputs": [],
   "source": [
    "#[ar for ar in range(len(all_ranks)) if 'préavis cdd' in all_ranks[ar]['queries']]"
   ]
  },
  {
   "cell_type": "code",
   "execution_count": 120,
   "metadata": {},
   "outputs": [],
   "source": [
    "def reformat_slug(source, slug) :\n",
    "    formated_source = source.replace('_', '-', )\n",
    "    #print(formated_source)\n",
    "    #print(source)\n",
    "    formated_source = formated_source.replace('fiches', 'fiche')\n",
    "    if (source == 'contributions'):\n",
    "        formated_source = formated_source[:-1]\n",
    "        \n",
    "    return f\"/{formated_source}/{slug}\"\n",
    "\n",
    "def call_api(query):\n",
    "    r = requests.get(\"http://localhost:1337/api/v1/search?q=\" + query)\n",
    "    if r.status_code != 200:\n",
    "        print(\"Error when calling search API for query : \" + str(q))        \n",
    "        return {}\n",
    "    else :\n",
    "        result = r.json()\n",
    "        return result"
   ]
  },
  {
   "cell_type": "code",
   "execution_count": 121,
   "metadata": {},
   "outputs": [],
   "source": [
    "def control_call(i):\n",
    "    try:\n",
    "        api_res = call_api(all_ranks[i]['queries'][0])['documents']       \n",
    "        call_res = [reformat_slug(d['source'], d['slug']) for d in api_res]\n",
    "        origin_res = [d['slug'] for d in all_ranks[i]['docs']]\n",
    "        #if (call_res != origin_res):\n",
    "        #    return False\n",
    "            #print([call_res[j] == origin_res[j] for j in range(len(call_res))])\n",
    "            #print(json.dumps(call_res, indent=2))\n",
    "            #print(json.dumps(origin_res, indent=2))\n",
    "\n",
    "        #else:\n",
    "        all_ranks[i]['docs_api'] = call_res\n",
    "        return True\n",
    "    except KeyError:\n",
    "        return False\n",
    "    except IndexError:\n",
    "        return False\n"
   ]
  },
  {
   "cell_type": "code",
   "execution_count": 150,
   "metadata": {},
   "outputs": [
    {
     "data": {
      "text/plain": [
       "4"
      ]
     },
     "execution_count": 150,
     "metadata": {},
     "output_type": "execute_result"
    }
   ],
   "source": [
    "j = 0\n",
    "issues = []\n",
    "for i in range(0, len(all_ranks)):\n",
    "#for i in range(0, 2):\n",
    "    if not control_call(i):\n",
    "        issues.append(i)\n",
    "len(issues)"
   ]
  },
  {
   "cell_type": "code",
   "execution_count": null,
   "metadata": {},
   "outputs": [],
   "source": [
    "non_preq_issues = []\n",
    "for i in issues:\n",
    "    if not all_ranks[i]['preq']:\n",
    "        #print(i)\n",
    "        non_preq_issues.append(i)\n",
    "len(non_preq_issues)"
   ]
  },
  {
   "cell_type": "code",
   "execution_count": null,
   "metadata": {
    "scrolled": true
   },
   "outputs": [],
   "source": [
    "# for now we'll only consider calls without issues"
   ]
  },
  {
   "cell_type": "code",
   "execution_count": 151,
   "metadata": {},
   "outputs": [],
   "source": [
    "no_issues_ranks = [j for i, j in enumerate(all_ranks) if i not in issues]\n"
   ]
  },
  {
   "cell_type": "code",
   "execution_count": 48,
   "metadata": {},
   "outputs": [
    {
     "data": {
      "text/plain": [
       "585"
      ]
     },
     "execution_count": 48,
     "metadata": {},
     "output_type": "execute_result"
    }
   ],
   "source": [
    "len(all_ranks)"
   ]
  },
  {
   "cell_type": "code",
   "execution_count": 51,
   "metadata": {},
   "outputs": [
    {
     "data": {
      "text/plain": [
       "581"
      ]
     },
     "execution_count": 51,
     "metadata": {},
     "output_type": "execute_result"
    }
   ],
   "source": [
    "len(no_issues_ranks)"
   ]
  },
  {
   "cell_type": "code",
   "execution_count": null,
   "metadata": {
    "scrolled": true
   },
   "outputs": [],
   "source": [
    "no_issues_ranks[:2]"
   ]
  },
  {
   "cell_type": "code",
   "execution_count": null,
   "metadata": {},
   "outputs": [],
   "source": []
  },
  {
   "cell_type": "code",
   "execution_count": 42,
   "metadata": {},
   "outputs": [
    {
     "data": {
      "text/plain": [
       "[327, 393, 459, 460]"
      ]
     },
     "execution_count": 42,
     "metadata": {},
     "output_type": "execute_result"
    }
   ],
   "source": [
    "[i for i in range(0, len(no_issues_ranks)) if not 'docs_api' in no_issues_ranks[i].keys()]"
   ]
  },
  {
   "cell_type": "code",
   "execution_count": 44,
   "metadata": {},
   "outputs": [
    {
     "data": {
      "text/plain": [
       "0"
      ]
     },
     "execution_count": 44,
     "metadata": {},
     "output_type": "execute_result"
    }
   ],
   "source": [
    "len(issues)"
   ]
  },
  {
   "cell_type": "code",
   "execution_count": null,
   "metadata": {},
   "outputs": [],
   "source": []
  },
  {
   "cell_type": "code",
   "execution_count": 124,
   "metadata": {},
   "outputs": [],
   "source": [
    "def compute_dcg_local(rank_results, i, verbose=False, api=False):\n",
    "    scores = dict([(r['slug'], int(r['count'])) for r in rank_results[i]['docs']])\n",
    "    is_preq = rank_results[i]['preq']\n",
    "    occ = sum([c for (_,c) in scores.items()])\n",
    "    if not api:\n",
    "        y_pred = [c['slug'] for c in rank_results[i]['docs']]\n",
    "    elif api:\n",
    "        y_pred = rank_results[i]['docs_api']\n",
    "    y_true = [c['slug'] for c in sort_ranks(rank_results[i]['docs'])]\n",
    "    ndcg = discounted_cumulative_gain(scores, y_true, y_pred, 7)\n",
    "    if verbose :\n",
    "        print(json.dumps(scores, indent=2))\n",
    "        print(json.dumps(y_pred, indent=2))\n",
    "        print(json.dumps(y_true, indent=2))\n",
    "        print(ndcg)\n",
    "    return {'dcg': ndcg, 'occ': occ, 'preq': is_preq}"
   ]
  },
  {
   "cell_type": "code",
   "execution_count": 154,
   "metadata": {
    "scrolled": true
   },
   "outputs": [
    {
     "name": "stdout",
     "output_type": "stream",
     "text": [
      "nDCG all : 0.94\n",
      "nDCG preq : 0.96\n",
      "nDCG other : 0.88\n"
     ]
    }
   ],
   "source": [
    "# retest all\n",
    "\n",
    "j = 0\n",
    "issues = []\n",
    "#for i in range(0, len(all_ranks)):\n",
    "#    if not control_call(i):\n",
    "#        issues.append(i)\n",
    "len(issues)\n",
    "all_scores = pd.DataFrame([compute_dcg_local(no_issues_ranks, i, api=False) for i in range(len(no_issues_ranks))])\n",
    "all_scores['weighted_dcg'] = all_scores['dcg'] * all_scores['occ'] \n",
    "\n",
    "preq_scores = all_scores[all_scores.preq]\n",
    "other_scores = all_scores[~all_scores.preq]\n",
    "\n",
    "print(f\"nDCG all : {compute_weighted_dcg(all_scores)}\")\n",
    "print(f\"nDCG preq : {compute_weighted_dcg(preq_scores)}\")\n",
    "print(f\"nDCG other : {compute_weighted_dcg(other_scores)}\")"
   ]
  },
  {
   "cell_type": "code",
   "execution_count": 142,
   "metadata": {},
   "outputs": [],
   "source": [
    "# TODO : we need to ponderate DCGs on count (as DCG of a frequent query should be higher than other)"
   ]
  },
  {
   "cell_type": "code",
   "execution_count": 157,
   "metadata": {},
   "outputs": [],
   "source": [
    "all_scores_api = pd.DataFrame([compute_dcg_local(no_issues_ranks, i, api=True) for i in range(len(no_issues_ranks))])\n",
    "all_scores_api['weighted_dcg'] = all_scores_api['dcg'] * all_scores_api['occ'] \n",
    "all_scores[\"weighted_api\"] = all_scores_api[\"weighted_dcg\"]\n",
    "all_scores[\"dcg_api\"] = all_scores_api[\"dcg\"]"
   ]
  },
  {
   "cell_type": "code",
   "execution_count": 173,
   "metadata": {
    "scrolled": true
   },
   "outputs": [
    {
     "data": {
      "text/html": [
       "<div>\n",
       "<style scoped>\n",
       "    .dataframe tbody tr th:only-of-type {\n",
       "        vertical-align: middle;\n",
       "    }\n",
       "\n",
       "    .dataframe tbody tr th {\n",
       "        vertical-align: top;\n",
       "    }\n",
       "\n",
       "    .dataframe thead th {\n",
       "        text-align: right;\n",
       "    }\n",
       "</style>\n",
       "<table border=\"1\" class=\"dataframe\">\n",
       "  <thead>\n",
       "    <tr style=\"text-align: right;\">\n",
       "      <th></th>\n",
       "      <th>dcg</th>\n",
       "      <th>occ</th>\n",
       "      <th>preq</th>\n",
       "      <th>weighted_dcg</th>\n",
       "      <th>weighted_api</th>\n",
       "      <th>dcg_api</th>\n",
       "    </tr>\n",
       "  </thead>\n",
       "  <tbody>\n",
       "    <tr>\n",
       "      <th>559</th>\n",
       "      <td>0.999048</td>\n",
       "      <td>272</td>\n",
       "      <td>False</td>\n",
       "      <td>271.741011</td>\n",
       "      <td>271.741011</td>\n",
       "      <td>0.999048</td>\n",
       "    </tr>\n",
       "    <tr>\n",
       "      <th>504</th>\n",
       "      <td>0.990166</td>\n",
       "      <td>237</td>\n",
       "      <td>False</td>\n",
       "      <td>234.669372</td>\n",
       "      <td>228.603584</td>\n",
       "      <td>0.964572</td>\n",
       "    </tr>\n",
       "    <tr>\n",
       "      <th>194</th>\n",
       "      <td>0.994082</td>\n",
       "      <td>159</td>\n",
       "      <td>False</td>\n",
       "      <td>158.059096</td>\n",
       "      <td>158.059096</td>\n",
       "      <td>0.994082</td>\n",
       "    </tr>\n",
       "    <tr>\n",
       "      <th>360</th>\n",
       "      <td>0.962193</td>\n",
       "      <td>144</td>\n",
       "      <td>False</td>\n",
       "      <td>138.555847</td>\n",
       "      <td>138.555847</td>\n",
       "      <td>0.962193</td>\n",
       "    </tr>\n",
       "    <tr>\n",
       "      <th>229</th>\n",
       "      <td>0.992436</td>\n",
       "      <td>141</td>\n",
       "      <td>False</td>\n",
       "      <td>139.933418</td>\n",
       "      <td>139.933418</td>\n",
       "      <td>0.992436</td>\n",
       "    </tr>\n",
       "    <tr>\n",
       "      <th>454</th>\n",
       "      <td>0.999147</td>\n",
       "      <td>139</td>\n",
       "      <td>False</td>\n",
       "      <td>138.881447</td>\n",
       "      <td>138.881447</td>\n",
       "      <td>0.999147</td>\n",
       "    </tr>\n",
       "    <tr>\n",
       "      <th>467</th>\n",
       "      <td>0.997318</td>\n",
       "      <td>128</td>\n",
       "      <td>False</td>\n",
       "      <td>127.656675</td>\n",
       "      <td>124.428577</td>\n",
       "      <td>0.972098</td>\n",
       "    </tr>\n",
       "    <tr>\n",
       "      <th>50</th>\n",
       "      <td>0.812437</td>\n",
       "      <td>122</td>\n",
       "      <td>False</td>\n",
       "      <td>99.117338</td>\n",
       "      <td>99.117338</td>\n",
       "      <td>0.812437</td>\n",
       "    </tr>\n",
       "    <tr>\n",
       "      <th>212</th>\n",
       "      <td>0.986007</td>\n",
       "      <td>120</td>\n",
       "      <td>False</td>\n",
       "      <td>118.320898</td>\n",
       "      <td>118.320898</td>\n",
       "      <td>0.986007</td>\n",
       "    </tr>\n",
       "    <tr>\n",
       "      <th>81</th>\n",
       "      <td>0.998387</td>\n",
       "      <td>99</td>\n",
       "      <td>False</td>\n",
       "      <td>98.840354</td>\n",
       "      <td>98.840354</td>\n",
       "      <td>0.998387</td>\n",
       "    </tr>\n",
       "    <tr>\n",
       "      <th>78</th>\n",
       "      <td>0.936790</td>\n",
       "      <td>95</td>\n",
       "      <td>False</td>\n",
       "      <td>88.995064</td>\n",
       "      <td>78.547028</td>\n",
       "      <td>0.826811</td>\n",
       "    </tr>\n",
       "    <tr>\n",
       "      <th>114</th>\n",
       "      <td>0.805126</td>\n",
       "      <td>90</td>\n",
       "      <td>False</td>\n",
       "      <td>72.461322</td>\n",
       "      <td>72.461322</td>\n",
       "      <td>0.805126</td>\n",
       "    </tr>\n",
       "    <tr>\n",
       "      <th>19</th>\n",
       "      <td>0.998978</td>\n",
       "      <td>84</td>\n",
       "      <td>False</td>\n",
       "      <td>83.914154</td>\n",
       "      <td>83.914154</td>\n",
       "      <td>0.998978</td>\n",
       "    </tr>\n",
       "    <tr>\n",
       "      <th>348</th>\n",
       "      <td>0.996668</td>\n",
       "      <td>83</td>\n",
       "      <td>False</td>\n",
       "      <td>82.723435</td>\n",
       "      <td>82.723435</td>\n",
       "      <td>0.996668</td>\n",
       "    </tr>\n",
       "    <tr>\n",
       "      <th>80</th>\n",
       "      <td>0.997564</td>\n",
       "      <td>82</td>\n",
       "      <td>False</td>\n",
       "      <td>81.800210</td>\n",
       "      <td>78.469498</td>\n",
       "      <td>0.956945</td>\n",
       "    </tr>\n",
       "    <tr>\n",
       "      <th>198</th>\n",
       "      <td>0.732288</td>\n",
       "      <td>77</td>\n",
       "      <td>False</td>\n",
       "      <td>56.386144</td>\n",
       "      <td>56.386144</td>\n",
       "      <td>0.732288</td>\n",
       "    </tr>\n",
       "    <tr>\n",
       "      <th>104</th>\n",
       "      <td>0.999465</td>\n",
       "      <td>74</td>\n",
       "      <td>False</td>\n",
       "      <td>73.960392</td>\n",
       "      <td>73.960392</td>\n",
       "      <td>0.999465</td>\n",
       "    </tr>\n",
       "    <tr>\n",
       "      <th>105</th>\n",
       "      <td>0.536542</td>\n",
       "      <td>64</td>\n",
       "      <td>False</td>\n",
       "      <td>34.338690</td>\n",
       "      <td>34.338690</td>\n",
       "      <td>0.536542</td>\n",
       "    </tr>\n",
       "    <tr>\n",
       "      <th>138</th>\n",
       "      <td>0.981354</td>\n",
       "      <td>60</td>\n",
       "      <td>False</td>\n",
       "      <td>58.881242</td>\n",
       "      <td>58.881242</td>\n",
       "      <td>0.981354</td>\n",
       "    </tr>\n",
       "    <tr>\n",
       "      <th>123</th>\n",
       "      <td>0.847439</td>\n",
       "      <td>52</td>\n",
       "      <td>False</td>\n",
       "      <td>44.066830</td>\n",
       "      <td>44.066830</td>\n",
       "      <td>0.847439</td>\n",
       "    </tr>\n",
       "    <tr>\n",
       "      <th>561</th>\n",
       "      <td>0.970819</td>\n",
       "      <td>51</td>\n",
       "      <td>False</td>\n",
       "      <td>49.511753</td>\n",
       "      <td>43.250189</td>\n",
       "      <td>0.848043</td>\n",
       "    </tr>\n",
       "    <tr>\n",
       "      <th>343</th>\n",
       "      <td>0.945347</td>\n",
       "      <td>50</td>\n",
       "      <td>False</td>\n",
       "      <td>47.267342</td>\n",
       "      <td>47.267342</td>\n",
       "      <td>0.945347</td>\n",
       "    </tr>\n",
       "    <tr>\n",
       "      <th>28</th>\n",
       "      <td>0.749347</td>\n",
       "      <td>50</td>\n",
       "      <td>False</td>\n",
       "      <td>37.467328</td>\n",
       "      <td>37.467328</td>\n",
       "      <td>0.749347</td>\n",
       "    </tr>\n",
       "    <tr>\n",
       "      <th>153</th>\n",
       "      <td>0.999270</td>\n",
       "      <td>49</td>\n",
       "      <td>False</td>\n",
       "      <td>48.964240</td>\n",
       "      <td>48.964240</td>\n",
       "      <td>0.999270</td>\n",
       "    </tr>\n",
       "    <tr>\n",
       "      <th>79</th>\n",
       "      <td>0.991783</td>\n",
       "      <td>49</td>\n",
       "      <td>False</td>\n",
       "      <td>48.597368</td>\n",
       "      <td>45.030293</td>\n",
       "      <td>0.918986</td>\n",
       "    </tr>\n",
       "    <tr>\n",
       "      <th>93</th>\n",
       "      <td>0.979811</td>\n",
       "      <td>49</td>\n",
       "      <td>False</td>\n",
       "      <td>48.010721</td>\n",
       "      <td>48.010721</td>\n",
       "      <td>0.979811</td>\n",
       "    </tr>\n",
       "    <tr>\n",
       "      <th>120</th>\n",
       "      <td>0.979132</td>\n",
       "      <td>49</td>\n",
       "      <td>False</td>\n",
       "      <td>47.977481</td>\n",
       "      <td>47.977481</td>\n",
       "      <td>0.979132</td>\n",
       "    </tr>\n",
       "    <tr>\n",
       "      <th>264</th>\n",
       "      <td>0.998828</td>\n",
       "      <td>48</td>\n",
       "      <td>False</td>\n",
       "      <td>47.943727</td>\n",
       "      <td>47.943727</td>\n",
       "      <td>0.998828</td>\n",
       "    </tr>\n",
       "    <tr>\n",
       "      <th>393</th>\n",
       "      <td>0.998081</td>\n",
       "      <td>48</td>\n",
       "      <td>False</td>\n",
       "      <td>47.907883</td>\n",
       "      <td>47.907883</td>\n",
       "      <td>0.998081</td>\n",
       "    </tr>\n",
       "    <tr>\n",
       "      <th>506</th>\n",
       "      <td>0.995841</td>\n",
       "      <td>48</td>\n",
       "      <td>False</td>\n",
       "      <td>47.800382</td>\n",
       "      <td>47.800382</td>\n",
       "      <td>0.995841</td>\n",
       "    </tr>\n",
       "    <tr>\n",
       "      <th>94</th>\n",
       "      <td>0.984589</td>\n",
       "      <td>48</td>\n",
       "      <td>False</td>\n",
       "      <td>47.260256</td>\n",
       "      <td>47.611342</td>\n",
       "      <td>0.991903</td>\n",
       "    </tr>\n",
       "    <tr>\n",
       "      <th>459</th>\n",
       "      <td>0.992746</td>\n",
       "      <td>47</td>\n",
       "      <td>False</td>\n",
       "      <td>46.659085</td>\n",
       "      <td>46.659085</td>\n",
       "      <td>0.992746</td>\n",
       "    </tr>\n",
       "    <tr>\n",
       "      <th>560</th>\n",
       "      <td>0.995103</td>\n",
       "      <td>41</td>\n",
       "      <td>False</td>\n",
       "      <td>40.799224</td>\n",
       "      <td>40.843815</td>\n",
       "      <td>0.996191</td>\n",
       "    </tr>\n",
       "    <tr>\n",
       "      <th>478</th>\n",
       "      <td>0.984160</td>\n",
       "      <td>37</td>\n",
       "      <td>False</td>\n",
       "      <td>36.413924</td>\n",
       "      <td>36.413924</td>\n",
       "      <td>0.984160</td>\n",
       "    </tr>\n",
       "    <tr>\n",
       "      <th>566</th>\n",
       "      <td>1.000000</td>\n",
       "      <td>36</td>\n",
       "      <td>False</td>\n",
       "      <td>36.000000</td>\n",
       "      <td>36.000000</td>\n",
       "      <td>1.000000</td>\n",
       "    </tr>\n",
       "    <tr>\n",
       "      <th>498</th>\n",
       "      <td>0.992941</td>\n",
       "      <td>36</td>\n",
       "      <td>False</td>\n",
       "      <td>35.745877</td>\n",
       "      <td>35.745877</td>\n",
       "      <td>0.992941</td>\n",
       "    </tr>\n",
       "    <tr>\n",
       "      <th>41</th>\n",
       "      <td>0.919295</td>\n",
       "      <td>36</td>\n",
       "      <td>False</td>\n",
       "      <td>33.094636</td>\n",
       "      <td>33.094636</td>\n",
       "      <td>0.919295</td>\n",
       "    </tr>\n",
       "    <tr>\n",
       "      <th>112</th>\n",
       "      <td>0.622370</td>\n",
       "      <td>36</td>\n",
       "      <td>False</td>\n",
       "      <td>22.405326</td>\n",
       "      <td>22.391391</td>\n",
       "      <td>0.621983</td>\n",
       "    </tr>\n",
       "    <tr>\n",
       "      <th>157</th>\n",
       "      <td>0.578800</td>\n",
       "      <td>33</td>\n",
       "      <td>False</td>\n",
       "      <td>19.100412</td>\n",
       "      <td>19.100412</td>\n",
       "      <td>0.578800</td>\n",
       "    </tr>\n",
       "    <tr>\n",
       "      <th>113</th>\n",
       "      <td>0.724714</td>\n",
       "      <td>32</td>\n",
       "      <td>False</td>\n",
       "      <td>23.190860</td>\n",
       "      <td>23.636549</td>\n",
       "      <td>0.738642</td>\n",
       "    </tr>\n",
       "    <tr>\n",
       "      <th>164</th>\n",
       "      <td>0.662175</td>\n",
       "      <td>32</td>\n",
       "      <td>False</td>\n",
       "      <td>21.189593</td>\n",
       "      <td>22.663860</td>\n",
       "      <td>0.708246</td>\n",
       "    </tr>\n",
       "    <tr>\n",
       "      <th>18</th>\n",
       "      <td>0.995405</td>\n",
       "      <td>31</td>\n",
       "      <td>False</td>\n",
       "      <td>30.857551</td>\n",
       "      <td>30.857551</td>\n",
       "      <td>0.995405</td>\n",
       "    </tr>\n",
       "    <tr>\n",
       "      <th>462</th>\n",
       "      <td>0.990553</td>\n",
       "      <td>31</td>\n",
       "      <td>False</td>\n",
       "      <td>30.707133</td>\n",
       "      <td>30.707133</td>\n",
       "      <td>0.990553</td>\n",
       "    </tr>\n",
       "    <tr>\n",
       "      <th>269</th>\n",
       "      <td>0.525424</td>\n",
       "      <td>30</td>\n",
       "      <td>False</td>\n",
       "      <td>15.762712</td>\n",
       "      <td>29.491525</td>\n",
       "      <td>0.983051</td>\n",
       "    </tr>\n",
       "    <tr>\n",
       "      <th>223</th>\n",
       "      <td>0.995539</td>\n",
       "      <td>29</td>\n",
       "      <td>False</td>\n",
       "      <td>28.870617</td>\n",
       "      <td>0.000000</td>\n",
       "      <td>0.000000</td>\n",
       "    </tr>\n",
       "    <tr>\n",
       "      <th>468</th>\n",
       "      <td>0.992935</td>\n",
       "      <td>29</td>\n",
       "      <td>False</td>\n",
       "      <td>28.795125</td>\n",
       "      <td>28.237887</td>\n",
       "      <td>0.973720</td>\n",
       "    </tr>\n",
       "    <tr>\n",
       "      <th>171</th>\n",
       "      <td>0.989486</td>\n",
       "      <td>29</td>\n",
       "      <td>False</td>\n",
       "      <td>28.695103</td>\n",
       "      <td>28.695103</td>\n",
       "      <td>0.989486</td>\n",
       "    </tr>\n",
       "    <tr>\n",
       "      <th>216</th>\n",
       "      <td>0.547765</td>\n",
       "      <td>29</td>\n",
       "      <td>False</td>\n",
       "      <td>15.885184</td>\n",
       "      <td>15.885184</td>\n",
       "      <td>0.547765</td>\n",
       "    </tr>\n",
       "    <tr>\n",
       "      <th>121</th>\n",
       "      <td>0.970234</td>\n",
       "      <td>28</td>\n",
       "      <td>False</td>\n",
       "      <td>27.166562</td>\n",
       "      <td>27.166562</td>\n",
       "      <td>0.970234</td>\n",
       "    </tr>\n",
       "    <tr>\n",
       "      <th>95</th>\n",
       "      <td>1.000000</td>\n",
       "      <td>27</td>\n",
       "      <td>False</td>\n",
       "      <td>27.000000</td>\n",
       "      <td>27.000000</td>\n",
       "      <td>1.000000</td>\n",
       "    </tr>\n",
       "  </tbody>\n",
       "</table>\n",
       "</div>"
      ],
      "text/plain": [
       "          dcg  occ   preq  weighted_dcg  weighted_api   dcg_api\n",
       "559  0.999048  272  False    271.741011    271.741011  0.999048\n",
       "504  0.990166  237  False    234.669372    228.603584  0.964572\n",
       "194  0.994082  159  False    158.059096    158.059096  0.994082\n",
       "360  0.962193  144  False    138.555847    138.555847  0.962193\n",
       "229  0.992436  141  False    139.933418    139.933418  0.992436\n",
       "454  0.999147  139  False    138.881447    138.881447  0.999147\n",
       "467  0.997318  128  False    127.656675    124.428577  0.972098\n",
       "50   0.812437  122  False     99.117338     99.117338  0.812437\n",
       "212  0.986007  120  False    118.320898    118.320898  0.986007\n",
       "81   0.998387   99  False     98.840354     98.840354  0.998387\n",
       "78   0.936790   95  False     88.995064     78.547028  0.826811\n",
       "114  0.805126   90  False     72.461322     72.461322  0.805126\n",
       "19   0.998978   84  False     83.914154     83.914154  0.998978\n",
       "348  0.996668   83  False     82.723435     82.723435  0.996668\n",
       "80   0.997564   82  False     81.800210     78.469498  0.956945\n",
       "198  0.732288   77  False     56.386144     56.386144  0.732288\n",
       "104  0.999465   74  False     73.960392     73.960392  0.999465\n",
       "105  0.536542   64  False     34.338690     34.338690  0.536542\n",
       "138  0.981354   60  False     58.881242     58.881242  0.981354\n",
       "123  0.847439   52  False     44.066830     44.066830  0.847439\n",
       "561  0.970819   51  False     49.511753     43.250189  0.848043\n",
       "343  0.945347   50  False     47.267342     47.267342  0.945347\n",
       "28   0.749347   50  False     37.467328     37.467328  0.749347\n",
       "153  0.999270   49  False     48.964240     48.964240  0.999270\n",
       "79   0.991783   49  False     48.597368     45.030293  0.918986\n",
       "93   0.979811   49  False     48.010721     48.010721  0.979811\n",
       "120  0.979132   49  False     47.977481     47.977481  0.979132\n",
       "264  0.998828   48  False     47.943727     47.943727  0.998828\n",
       "393  0.998081   48  False     47.907883     47.907883  0.998081\n",
       "506  0.995841   48  False     47.800382     47.800382  0.995841\n",
       "94   0.984589   48  False     47.260256     47.611342  0.991903\n",
       "459  0.992746   47  False     46.659085     46.659085  0.992746\n",
       "560  0.995103   41  False     40.799224     40.843815  0.996191\n",
       "478  0.984160   37  False     36.413924     36.413924  0.984160\n",
       "566  1.000000   36  False     36.000000     36.000000  1.000000\n",
       "498  0.992941   36  False     35.745877     35.745877  0.992941\n",
       "41   0.919295   36  False     33.094636     33.094636  0.919295\n",
       "112  0.622370   36  False     22.405326     22.391391  0.621983\n",
       "157  0.578800   33  False     19.100412     19.100412  0.578800\n",
       "113  0.724714   32  False     23.190860     23.636549  0.738642\n",
       "164  0.662175   32  False     21.189593     22.663860  0.708246\n",
       "18   0.995405   31  False     30.857551     30.857551  0.995405\n",
       "462  0.990553   31  False     30.707133     30.707133  0.990553\n",
       "269  0.525424   30  False     15.762712     29.491525  0.983051\n",
       "223  0.995539   29  False     28.870617      0.000000  0.000000\n",
       "468  0.992935   29  False     28.795125     28.237887  0.973720\n",
       "171  0.989486   29  False     28.695103     28.695103  0.989486\n",
       "216  0.547765   29  False     15.885184     15.885184  0.547765\n",
       "121  0.970234   28  False     27.166562     27.166562  0.970234\n",
       "95   1.000000   27  False     27.000000     27.000000  1.000000"
      ]
     },
     "execution_count": 173,
     "metadata": {},
     "output_type": "execute_result"
    }
   ],
   "source": [
    "all_scores[~all_scores.preq].sort_values(by=['occ', 'dcg'], ascending=False)[:50]"
   ]
  },
  {
   "cell_type": "code",
   "execution_count": 169,
   "metadata": {},
   "outputs": [
    {
     "data": {
      "text/plain": [
       "6261"
      ]
     },
     "execution_count": 169,
     "metadata": {},
     "output_type": "execute_result"
    }
   ],
   "source": [
    "all_scores[~all_scores.preq]['occ'].sum()"
   ]
  },
  {
   "cell_type": "code",
   "execution_count": 170,
   "metadata": {},
   "outputs": [
    {
     "data": {
      "text/plain": [
       "22224"
      ]
     },
     "execution_count": 170,
     "metadata": {},
     "output_type": "execute_result"
    }
   ],
   "source": [
    "all_scores[all_scores.preq]['occ'].sum()"
   ]
  },
  {
   "cell_type": "code",
   "execution_count": 167,
   "metadata": {},
   "outputs": [
    {
     "data": {
      "text/plain": [
       "{'total': 30,\n",
       " 'queries': ['Rtt'],\n",
       " 'preq': False,\n",
       " 'docs': [{'slug': '/fiche-ministere-travail/risques-chimiques-reach#Pour-en-savoir-plus',\n",
       "   'count': 1,\n",
       "   'preq': 'semantic'},\n",
       "  {'slug': '/fiche-service-public/reduction-du-temps-de-travail-rtt',\n",
       "   'count': 29,\n",
       "   'preq': 'both'},\n",
       "  {'slug': '/fiche-service-public/representant-de-la-section-syndicale-rss',\n",
       "   'count': 0,\n",
       "   'preq': 'semantic'},\n",
       "  {'slug': '/fiche-service-public/absence-dun-salarie-pour-cause-dintemperie-quelles-sont-les-regles',\n",
       "   'count': 0,\n",
       "   'preq': 'fulltext'},\n",
       "  {'slug': '/fiche-service-public/un-salarie-en-formation-en-dehors-du-temps-de-travail-est-il-remunere',\n",
       "   'count': 0,\n",
       "   'preq': 'fulltext'},\n",
       "  {'slug': 'https://www.telerc.travail.gouv.fr/RuptureConventionnellePortailPublic/jsp/site/Portal.jsp?page_id=20',\n",
       "   'count': 0,\n",
       "   'preq': 'semantic'},\n",
       "  {'slug': '/fiche-service-public/greve-des-transports-quels-droits-pour-le-salarie',\n",
       "   'count': 0,\n",
       "   'preq': 'fulltext'}],\n",
       " 'docs_api': ['/fiche-service-public/reduction-du-temps-de-travail-rtt',\n",
       "  '/external/telerc',\n",
       "  '/fiche-service-public/absence-dun-salarie-pour-cause-dintemperie-quelles-sont-les-regles',\n",
       "  '/fiche-ministere-travail/gestion-previsionnelle-de-lemploi-et-des-competences-gpec#GPEC-au-niveau-d-un-territoire-GPEC-T',\n",
       "  '/fiche-service-public/un-salarie-en-formation-en-dehors-du-temps-de-travail-est-il-remunere',\n",
       "  '/fiche-service-public/representant-de-la-section-syndicale-rss',\n",
       "  '/fiche-service-public/greve-des-transports-quels-droits-pour-le-salarie']}"
      ]
     },
     "execution_count": 167,
     "metadata": {},
     "output_type": "execute_result"
    }
   ],
   "source": [
    "id = 269\n",
    "no_issues_ranks[id]"
   ]
  },
  {
   "cell_type": "code",
   "execution_count": 163,
   "metadata": {},
   "outputs": [
    {
     "data": {
      "text/plain": [
       "dcg              0.93679\n",
       "occ                   95\n",
       "preq               False\n",
       "weighted_dcg     88.9951\n",
       "weighted_api      78.547\n",
       "dcg_api         0.826811\n",
       "Name: 78, dtype: object"
      ]
     },
     "execution_count": 163,
     "metadata": {},
     "output_type": "execute_result"
    }
   ],
   "source": [
    "all_scores.loc[id]"
   ]
  },
  {
   "cell_type": "code",
   "execution_count": null,
   "metadata": {},
   "outputs": [],
   "source": []
  },
  {
   "cell_type": "code",
   "execution_count": 165,
   "metadata": {},
   "outputs": [
    {
     "name": "stdout",
     "output_type": "stream",
     "text": [
      "{\n",
      "  \"/fiche-ministere-travail/cse-attributions\": 22,\n",
      "  \"/fiche-ministere-travail/cse-fonctionnement-et-moyens-dactions\": 28,\n",
      "  \"/fiche-ministere-travail/cse-information-et-consultation\": 13,\n",
      "  \"/fiche-ministere-travail/cse-attributions-du-cse-en-matiere-de-sante-de-securite-et-de-conditions-de-travail\": 4,\n",
      "  \"/fiche-ministere-travail/cse-information-et-consultation#Quel-est-le-processus-de-consultation\": 10,\n",
      "  \"/fiche-ministere-travail/cse-definition-cadre-et-calendrier-de-mise-en-place#Le-CSE-obligatoire-dans-quelles-entreprises\": 10,\n",
      "  \"/fiche-ministere-travail/cse-commissions-sante-securite-et-conditions-de-travail-cssct\": 8\n",
      "}\n",
      "[\n",
      "  \"/fiche-ministere-travail/cse-attributions\",\n",
      "  \"/fiche-ministere-travail/cse-fonctionnement-et-moyens-dactions\",\n",
      "  \"/fiche-ministere-travail/cse-information-et-consultation\",\n",
      "  \"/fiche-ministere-travail/cse-information-et-consultation#Quel-est-le-processus-de-consultation\",\n",
      "  \"/fiche-service-public/quels-sont-les-moyens-daction-du-comite-social-et-economique-cse\",\n",
      "  \"/fiche-ministere-travail/cse-information-et-consultation#Dans-quels-cas-le-CSE-doit-il-etre-ponctuellement-informe-et-consulte-nbsp\",\n",
      "  \"/fiche-ministere-travail/cse-election-de-la-delegation-du-personnel\"\n",
      "]\n",
      "[\n",
      "  \"/fiche-ministere-travail/cse-fonctionnement-et-moyens-dactions\",\n",
      "  \"/fiche-ministere-travail/cse-attributions\",\n",
      "  \"/fiche-ministere-travail/cse-information-et-consultation\",\n",
      "  \"/fiche-ministere-travail/cse-information-et-consultation#Quel-est-le-processus-de-consultation\",\n",
      "  \"/fiche-ministere-travail/cse-definition-cadre-et-calendrier-de-mise-en-place#Le-CSE-obligatoire-dans-quelles-entreprises\",\n",
      "  \"/fiche-ministere-travail/cse-commissions-sante-securite-et-conditions-de-travail-cssct\",\n",
      "  \"/fiche-ministere-travail/cse-attributions-du-cse-en-matiere-de-sante-de-securite-et-de-conditions-de-travail\"\n",
      "]\n",
      "0.8268108163164881\n"
     ]
    },
    {
     "data": {
      "text/plain": [
       "{'dcg': 0.8268108163164881, 'occ': 95, 'preq': False}"
      ]
     },
     "execution_count": 165,
     "metadata": {},
     "output_type": "execute_result"
    }
   ],
   "source": [
    "compute_dcg_local(no_issues_ranks, id, verbose=True, api=True)"
   ]
  },
  {
   "cell_type": "code",
   "execution_count": 18,
   "metadata": {},
   "outputs": [],
   "source": [
    "\n",
    "def compute_weighted_dcg(scores):\n",
    "    return round(scores['weighted_dcg'].sum() / scores['occ'].sum(), 2)\n"
   ]
  },
  {
   "cell_type": "code",
   "execution_count": 61,
   "metadata": {},
   "outputs": [
    {
     "name": "stdout",
     "output_type": "stream",
     "text": [
      "nDCG all : 0.9\n",
      "nDCG preq : 0.93\n",
      "nDCG other : 0.79\n"
     ]
    }
   ],
   "source": [
    "preq_scores = all_scores[all_scores.preq]\n",
    "other_scores = all_scores[~all_scores.preq]\n",
    "\n",
    "print(f\"nDCG all : {compute_weighted_dcg(all_scores)}\")\n",
    "print(f\"nDCG preq : {compute_weighted_dcg(preq_scores)}\")\n",
    "print(f\"nDCG other : {compute_weighted_dcg(other_scores)}\")"
   ]
  },
  {
   "cell_type": "code",
   "execution_count": null,
   "metadata": {},
   "outputs": [],
   "source": [
    "preq_scores = all_scores[all_scores.preq]\n",
    "other_scores = all_scores[~all_scores.preq]\n",
    "\n",
    "print(f\"nDCG all : {compute_weighted_dcg(all_scores)}\")\n",
    "print(f\"nDCG preq : {compute_weighted_dcg(preq_scores)}\")\n",
    "print(f\"nDCG other : {compute_weighted_dcg(other_scores)}\")"
   ]
  },
  {
   "cell_type": "code",
   "execution_count": 63,
   "metadata": {},
   "outputs": [],
   "source": [
    "# index of ranks with pre-qualified\n",
    "# index of ranks without\n",
    "\n",
    "preq_indices = [i for i in range(0, len(no_issues_ranks)) if no_issues_ranks[i]['preq']]\n",
    "other_indices = [i for i in range(0, len(no_issues_ranks)) if not no_issues_ranks[i]['preq']]"
   ]
  },
  {
   "cell_type": "code",
   "execution_count": 65,
   "metadata": {},
   "outputs": [
    {
     "name": "stdout",
     "output_type": "stream",
     "text": [
      "265\n",
      "316\n"
     ]
    }
   ],
   "source": [
    "print(len(preq_indices))\n",
    "print(len(other_indices))"
   ]
  },
  {
   "cell_type": "code",
   "execution_count": null,
   "metadata": {},
   "outputs": [],
   "source": []
  },
  {
   "cell_type": "code",
   "execution_count": null,
   "metadata": {},
   "outputs": [],
   "source": [
    "#preq_scores = [compute_dcg_local(no_issues_ranks, i) for i in preq_indices]\n",
    "#other_scores = [compute_dcg_local(no_issues_ranks, i, api=False) for i in other_indices]"
   ]
  },
  {
   "cell_type": "code",
   "execution_count": null,
   "metadata": {},
   "outputs": [],
   "source": [
    "#all_scores = [compute_metrics(no_issues_ranks, i, api=True) for i in range(len(no_issues_ranks))]"
   ]
  },
  {
   "cell_type": "code",
   "execution_count": null,
   "metadata": {},
   "outputs": [],
   "source": [
    "# compute weighted average\n",
    "# show : all / preq only / other / fulltex / sem"
   ]
  },
  {
   "cell_type": "code",
   "execution_count": null,
   "metadata": {},
   "outputs": [],
   "source": [
    "# show : only fulltext / only sem"
   ]
  },
  {
   "cell_type": "code",
   "execution_count": null,
   "metadata": {},
   "outputs": [],
   "source": [
    "#pd.DataFrame(all_scores)['dcg'].describe()"
   ]
  },
  {
   "cell_type": "code",
   "execution_count": null,
   "metadata": {},
   "outputs": [],
   "source": [
    "#pd.DataFrame(all_scores)['dcg'].describe()"
   ]
  },
  {
   "cell_type": "code",
   "execution_count": null,
   "metadata": {},
   "outputs": [],
   "source": []
  },
  {
   "cell_type": "code",
   "execution_count": null,
   "metadata": {},
   "outputs": [],
   "source": []
  },
  {
   "cell_type": "code",
   "execution_count": null,
   "metadata": {},
   "outputs": [],
   "source": []
  },
  {
   "cell_type": "code",
   "execution_count": null,
   "metadata": {},
   "outputs": [],
   "source": [
    "#pd.DataFrame(preq_scores)['dcg'].describe()"
   ]
  },
  {
   "cell_type": "code",
   "execution_count": null,
   "metadata": {},
   "outputs": [],
   "source": [
    "#pd.DataFrame(other_scores)['dcg'].describe()"
   ]
  },
  {
   "cell_type": "code",
   "execution_count": null,
   "metadata": {},
   "outputs": [],
   "source": []
  },
  {
   "cell_type": "code",
   "execution_count": null,
   "metadata": {
    "scrolled": true
   },
   "outputs": [],
   "source": [
    "#pd.DataFrame(preq_scores + other_scores)['dcg'].describe()"
   ]
  },
  {
   "cell_type": "code",
   "execution_count": 28,
   "metadata": {
    "scrolled": false
   },
   "outputs": [],
   "source": [
    "run_preq = False\n",
    "if run_preq:\n",
    "    scores = preq_scores\n",
    "    indices = preq_indices\n",
    "else:\n",
    "    scores = other_scores\n",
    "    indices = other_indices\n",
    "\n",
    "min_score = 0.98\n",
    "min_occ = 5\n",
    "\n",
    "to_check_indices = [(i, round(scores.iloc[i]['dcg'], 2), scores.iloc[i]['occ']) for i in range(0, len(scores)) if scores.iloc[i]['dcg'] < min_score and scores.iloc[i]['occ'] > min_occ]\n"
   ]
  },
  {
   "cell_type": "code",
   "execution_count": 31,
   "metadata": {
    "scrolled": true
   },
   "outputs": [
    {
     "name": "stdout",
     "output_type": "stream",
     "text": [
      "dcg             0.65413\n",
      "occ                 122\n",
      "preq              False\n",
      "weighted_dcg    79.8039\n",
      "Name: 50, dtype: object\n",
      "{\n",
      "  \"total\": 122,\n",
      "  \"queries\": [\n",
      "    \"temps partiel\",\n",
      "    \"TEMPS PARTIEL\"\n",
      "  ],\n",
      "  \"preq\": false,\n",
      "  \"docs\": [\n",
      "    {\n",
      "      \"slug\": \"/fiche-ministere-travail/5-questions-reponses-sur-le-passage-a-temps-partiel#Question-1-Passage-a-temps-partiel-comment-obtenir-un-temps-partiel-nbsp\",\n",
      "      \"count\": 24,\n",
      "      \"preq\": \"both\"\n",
      "    },\n",
      "    {\n",
      "      \"slug\": \"/fiche-service-public/temps-partiel-dans-le-secteur-prive\",\n",
      "      \"count\": 53,\n",
      "      \"preq\": \"fulltext\"\n",
      "    },\n",
      "    {\n",
      "      \"slug\": \"/fiche-ministere-travail/5-questions-reponses-sur-le-passage-a-temps-partiel#Question-5-Passage-a-temps-partiel-quels-droits-pour-les-salaries-a-temps-nbsp\",\n",
      "      \"count\": 11,\n",
      "      \"preq\": \"both\"\n",
      "    },\n",
      "    {\n",
      "      \"slug\": \"/fiche-service-public/temps-partiel-quelle-incidence-sur-les-droits-a-conges-payes-du-salarie\",\n",
      "      \"count\": 11,\n",
      "      \"preq\": \"fulltext\"\n",
      "    },\n",
      "    {\n",
      "      \"slug\": \"/fiche-ministere-travail/5-questions-reponses-sur-le-passage-a-temps-partiel#Question-4-Passage-a-temps-partiel-peut-on-revenir-a-temps-plein-nbsp\",\n",
      "      \"count\": 3,\n",
      "      \"preq\": \"both\"\n",
      "    },\n",
      "    {\n",
      "      \"slug\": \"/fiche-service-public/temps-partiel-quelle-est-la-duree-minimale-de-travail\",\n",
      "      \"count\": 13,\n",
      "      \"preq\": \"fulltext\"\n",
      "    },\n",
      "    {\n",
      "      \"slug\": \"/fiche-ministere-travail/5-questions-reponses-sur-le-passage-a-temps-partiel#Question-3-Passage-a-temps-partiel-peut-on-choisir-ses-horaires-nbsp\",\n",
      "      \"count\": 7,\n",
      "      \"preq\": \"semantic\"\n",
      "    }\n",
      "  ]\n",
      "}\n"
     ]
    }
   ],
   "source": [
    "# sanity check\n",
    "test_i = to_check_indices[10][0]\n",
    "pi = indices[test_i]\n",
    "print(scores.iloc[test_i])\n",
    "print(json.dumps(no_issues_ranks[pi], indent=2))"
   ]
  },
  {
   "cell_type": "code",
   "execution_count": null,
   "metadata": {},
   "outputs": [],
   "source": []
  },
  {
   "cell_type": "code",
   "execution_count": null,
   "metadata": {},
   "outputs": [],
   "source": []
  },
  {
   "cell_type": "code",
   "execution_count": null,
   "metadata": {},
   "outputs": [],
   "source": []
  },
  {
   "cell_type": "code",
   "execution_count": 27,
   "metadata": {},
   "outputs": [],
   "source": [
    "def format_entry(i, queries, candidates_rank, score, count):\n",
    "    lines = []\n",
    "    lines.append(f\"## ({i}) {list(queries)[0]}\")\n",
    "    lines.append(f'Score : `{score}`')\n",
    "    lines.append(f'Count : `{count}`\\n')\n",
    "    lines.append('Variantes :')\n",
    "    lines.extend(['- ' + q for q in queries])\n",
    "    lines.append('')\n",
    "    lines.append('|count|slug|algo|')\n",
    "    lines.append('|--|--|--|')\n",
    "    lines.extend([f\"{ar['count']} | {ar['slug']} | {ar['preq']}\" for ar in candidates_rank['docs']])\n",
    "    lines.append('\\n')\n",
    "    #lines.extend([f\"{ar}\" for ar in candidates_rank['docs_api']])\n",
    "    lines.append('\\n\\n')\n",
    "    return lines\n",
    "\n",
    "\n",
    "\n",
    "all_lines = []\n",
    "\n",
    "# sort by count\n",
    "to_check_indices.sort(key=lambda x: x[2], reverse=True)\n",
    "\n",
    "for j in range(len(to_check_indices)) :\n",
    "    (i, score, count) = to_check_indices[j]\n",
    "    candidates_rank = no_issues_ranks[indices[i]]\n",
    "    queries = candidates_rank['queries']\n",
    "    \n",
    "    all_lines.extend(format_entry(j, queries, candidates_rank, score, count))    \n",
    "\n",
    "#print(\"\\n\".join(all_lines))\n",
    "#print(all_lines)\n",
    "#[print(f\"{ar['count']} => {ar['slug']}\") for ar in candidates_rank]"
   ]
  },
  {
   "cell_type": "code",
   "execution_count": null,
   "metadata": {},
   "outputs": [],
   "source": [
    "with open(\"df-updates2.md\", 'w+') as f :\n",
    "    f.write(\"\\n\".join(all_lines))"
   ]
  },
  {
   "cell_type": "code",
   "execution_count": null,
   "metadata": {},
   "outputs": [],
   "source": [
    "with open(\"search-issues-api2.md\", 'w+') as f :\n",
    "    f.write(\"\\n\".join(all_lines))"
   ]
  },
  {
   "cell_type": "code",
   "execution_count": null,
   "metadata": {},
   "outputs": [],
   "source": [
    "all_ranks[51]"
   ]
  },
  {
   "cell_type": "code",
   "execution_count": null,
   "metadata": {},
   "outputs": [],
   "source": []
  },
  {
   "cell_type": "markdown",
   "metadata": {},
   "source": [
    "# Check best semantic entries"
   ]
  },
  {
   "cell_type": "code",
   "execution_count": 219,
   "metadata": {},
   "outputs": [],
   "source": [
    "def sem_best(i):\n",
    "    docs = no_issues_ranks[i]['docs']\n",
    "    docs.sort(key=lambda x: x['count'], reverse=True)\n",
    "    if (len(docs) > 1):\n",
    "        return (docs[0]['preq'] == 'semantic') # or (docs[1]['preq'] == 'semantic')\n",
    "    else :\n",
    "        return False\n",
    "\n",
    "sem_matches = [i for i in range(0, len(no_issues_ranks)) if sem_best(i)]"
   ]
  },
  {
   "cell_type": "code",
   "execution_count": 220,
   "metadata": {},
   "outputs": [
    {
     "data": {
      "text/plain": [
       "45"
      ]
     },
     "execution_count": 220,
     "metadata": {},
     "output_type": "execute_result"
    }
   ],
   "source": [
    "len(sem_matches)"
   ]
  },
  {
   "cell_type": "code",
   "execution_count": 248,
   "metadata": {
    "scrolled": false
   },
   "outputs": [
    {
     "data": {
      "text/plain": [
       "[('prime macron', 11, 1.1565083),\n",
       " ('visite médicale', 8, 1.188532),\n",
       " ('invalidite', 2, 1.2326245),\n",
       " ('horaire variable', 5, 1.2501824),\n",
       " ('Penibilite', 2, 1.0760893),\n",
       " ('heures de délégation', 16, 1.2248789),\n",
       " ('heures de délégation', 29, 1.2248789),\n",
       " ('apprentissage', 20, 1.1658975),\n",
       " ('temps de repos légal', 3, 1.2196125),\n",
       " ('duree du travail', 21, 1.1322243),\n",
       " ('annualisation', 5, 1.2157235),\n",
       " ('13ème mois', 11, 1.1100206),\n",
       " ('licenciement motif personnel', 3, 1.5411197),\n",
       " ('discriminations', 25, 1.223724),\n",
       " ('grossesse', 5, 1.1548659),\n",
       " ('licenciement salarie protege', 3, 1.599219),\n",
       " ('refus formation', 2, 1.2625246),\n",
       " ('salaire apprenti', 9, 1.4086474),\n",
       " ('arrêt maladie et rupture conventionnelle', 3, 1.5381777),\n",
       " ('rupture conventionnelle et maladie', 8, 1.3388776),\n",
       " ('faute', 5, 1.0646229),\n",
       " ('vae', 3, 0),\n",
       " ('abandon de poste cdi', 18, 1.4859703),\n",
       " ('referent harcelement', 12, 1.183382),\n",
       " ('quels sont les motifs de licenciement', 3, 1.5063623),\n",
       " ('qui doit faire les entretiens individuels ?', 7, 1.3272357),\n",
       " ('Remuneration', 3, 1.3225783),\n",
       " ('absence', 3, 1.133775),\n",
       " ('maladie', 18, 1.174256),\n",
       " ('don de congés payés', 5, 1.2957069),\n",
       " ('la prise les congés payés', 4, 1.3289297),\n",
       " ('cong%C3%A9s%20pay%C3%A9s', 21, 0),\n",
       " ('forfait jours', 7, 1.260212),\n",
       " ('particulier employeur', 7, 1.3828862),\n",
       " (\"accords d'entreprise\", 3, 1.3080449),\n",
       " ('sécurité incendie', 14, 1.237081),\n",
       " (\"accord d'entreprise\", 3, 1.1618209),\n",
       " (\"p%C3%A9riode%20d'essai\", 3, 0),\n",
       " ('amplitude horaire', 3, 1.2891381),\n",
       " ('repas', 3, 1.0925859),\n",
       " (\"période d'essai cdd\", 10, 1.5353444),\n",
       " ('intérim', 4, 1.2504407),\n",
       " ('expert désigné par le comité social et économique', 3, 1.3257947),\n",
       " ('transport', 3, 1.3081023),\n",
       " ('pr%C3%A9avis', 15, 0)]"
      ]
     },
     "execution_count": 248,
     "metadata": {},
     "output_type": "execute_result"
    }
   ],
   "source": [
    "[(no_issues_ranks[i]['queries'][0], no_issues_ranks[i]['docs'][0]['count'], call_api(no_issues_ranks[i]['queries'][0])['documents'][0]['_score']) for i in sem_matches]"
   ]
  },
  {
   "cell_type": "code",
   "execution_count": 231,
   "metadata": {},
   "outputs": [
    {
     "data": {
      "text/plain": [
       "{'total': 8,\n",
       " 'queries': ['absence'],\n",
       " 'preq': False,\n",
       " 'docs': [{'slug': '/outils/preavis-demission',\n",
       "   'count': 3,\n",
       "   'preq': 'semantic'},\n",
       "  {'slug': '/fiche-service-public/absence-dun-salarie-pour-cause-dintemperie-quelles-sont-les-regles',\n",
       "   'count': 2,\n",
       "   'preq': 'fulltext'},\n",
       "  {'slug': '/fiche-service-public/labsence-du-salarie-est-elle-prise-en-compte-pour-le-calcul-de-ses-conges',\n",
       "   'count': 2,\n",
       "   'preq': 'fulltext'},\n",
       "  {'slug': '/fiche-ministere-travail/les-conges-et-absences-pour-enfant-malade',\n",
       "   'count': 1,\n",
       "   'preq': 'semantic'},\n",
       "  {'slug': '/fiche-ministere-travail/les-absences-liees-a-la-maladie-ou-a-laccident-non-professionnel',\n",
       "   'count': 0,\n",
       "   'preq': 'semantic'},\n",
       "  {'slug': '/fiche-service-public/labsence-de-lemployeur-met-elle-fin-au-contrat-de-travail-du-salarie-a-domicile',\n",
       "   'count': 0,\n",
       "   'preq': 'fulltext'},\n",
       "  {'slug': '/fiche-ministere-travail/les-absences-liees-a-la-maladie-ou-a-laccident-non-professionnel#Peut-il-y-avoir-licenciement-pour-maladie',\n",
       "   'count': 0,\n",
       "   'preq': 'both'}],\n",
       " 'docs_api': ['/fiche-ministere-travail/les-conges-et-absences-pour-enfant-malade',\n",
       "  '/fiche-service-public/absence-dun-salarie-pour-cause-dintemperie-quelles-sont-les-regles',\n",
       "  '/fiche-ministere-travail/les-absences-liees-a-la-maladie-ou-a-laccident-non-professionnel',\n",
       "  '/fiche-service-public/labsence-de-lemployeur-met-elle-fin-au-contrat-de-travail-du-salarie-a-domicile',\n",
       "  '/fiche-ministere-travail/les-absences-liees-a-la-maladie-ou-a-laccident-non-professionnel#Peut-il-y-avoir-licenciement-pour-maladie',\n",
       "  '/fiche-service-public/labsence-du-salarie-est-elle-prise-en-compte-pour-le-calcul-de-ses-conges',\n",
       "  '/outils/preavis-demission']}"
      ]
     },
     "execution_count": 231,
     "metadata": {},
     "output_type": "execute_result"
    }
   ],
   "source": [
    "no_issues_ranks[211]"
   ]
  },
  {
   "cell_type": "code",
   "execution_count": null,
   "metadata": {},
   "outputs": [],
   "source": []
  }
 ],
 "metadata": {
  "kernelspec": {
   "display_name": "Python 3",
   "language": "python",
   "name": "python3"
  },
  "language_info": {
   "codemirror_mode": {
    "name": "ipython",
    "version": 3
   },
   "file_extension": ".py",
   "mimetype": "text/x-python",
   "name": "python",
   "nbconvert_exporter": "python",
   "pygments_lexer": "ipython3",
   "version": "3.7.3"
  }
 },
 "nbformat": 4,
 "nbformat_minor": 2
}
