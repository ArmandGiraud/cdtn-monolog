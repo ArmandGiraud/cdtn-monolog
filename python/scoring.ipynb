{
 "cells": [
  {
   "cell_type": "code",
   "execution_count": 47,
   "metadata": {},
   "outputs": [],
   "source": [
    "import pandas as pd\n",
    "import numpy as np\n",
    "import json"
   ]
  },
  {
   "cell_type": "code",
   "execution_count": 58,
   "metadata": {
    "scrolled": true
   },
   "outputs": [],
   "source": [
    "df_searches = pd.read_excel(\"searches_candidates_selection_rank.xlsx\")\n",
    "df_searches = df_searches[df_searches['query'] != 'undefined']"
   ]
  },
  {
   "cell_type": "code",
   "execution_count": 69,
   "metadata": {},
   "outputs": [
    {
     "name": "stdout",
     "output_type": "stream",
     "text": [
      "ERROR:\n",
      "['fiches_ministere_travail/le-registre-unique-du-personnel#Quelle-forme-doit-revetir-le-registre-unique-du-personnel', 'fiches_service_public/registres-du-personnel-obligatoires', 'fiches_ministere_travail/le-registre-unique-du-personnel#Les-stagiaires-sont-ils-concernes', 'fiches_ministere_travail/le-registre-unique-du-personnel#Quelles-sont-les-sanctions-en-cas-d-infraction', 'fiches_ministere_travail/le-registre-unique-du-personnel#Quels-sont-les-employeurs-concernes', 'fiches_service_public/lanceur-dalerte-dans-lentreprise-quelles-sont-les-regles', 'fiches_ministere_travail/le-registre-unique-du-personnel#Pour-quels-salaries']\n"
     ]
    }
   ],
   "source": [
    "def slug_only(dr):\n",
    "    candidates = json.loads(dr.replace(\"'\", '\"'))    \n",
    "    try :\n",
    "        return json.dumps([c['slug'] for c in candidates])\n",
    "    except TypeError:\n",
    "        print('ERROR:\\n' + dr)\n",
    "        return None\n",
    "\n",
    "df_searches['docs_slug'] = df_searches.docs_res.apply(lambda dr : slug_only(dr))"
   ]
  },
  {
   "cell_type": "code",
   "execution_count": null,
   "metadata": {},
   "outputs": [],
   "source": []
  },
  {
   "cell_type": "code",
   "execution_count": null,
   "metadata": {},
   "outputs": [],
   "source": []
  },
  {
   "cell_type": "markdown",
   "metadata": {},
   "source": [
    "# Evaluation : group queries and get rank for each candidates \n",
    "Objective : compute NDCG / MAP / MRR"
   ]
  },
  {
   "cell_type": "code",
   "execution_count": 269,
   "metadata": {},
   "outputs": [
    {
     "name": "stdout",
     "output_type": "stream",
     "text": [
      "{\"je suis à la retraite dpuis le 1er janvier 2020 et je n'est reçu aucune indemnition cela fait 29 ans que je travaille dans la mème entreprise\"} -> 17\n",
      "semantic\n",
      "{'indemnité de départ à la retraite', 'indemnité départ à la retraite', 'PRIME DE DEPART A LA RETRAITE', 'prime de départ à la retraite', 'indemnité de départ en retraite', 'indemnité départ retraite', 'quel est le montant de la prime de départ à la retraite ?', 'comment calculer les indemnités de départ à la retraite ?'} -> 80\n",
      "pre-qualified\n",
      "{'indemnités'} -> 15\n",
      "semantic\n",
      "{\"maladie pendant période d'essai\", \"prolongation période d'essai accident du travail\", \"arrêt maladie pendant période d'essai\"} -> 19\n",
      "pre-qualified\n",
      "{'renouvellement cdd', 'renouveler CDD', 'RENOUVELLEMENT CDD', 'renouveler cdd', 'prolongation cdd'} -> 28\n",
      "pre-qualified\n",
      "{'Ancienneté entreprise', 'ANCIENNETE ET CONGES PARENTAL', 'ancienneté et congé sabbatique', 'calcul ancienneté professionnelle', 'ancienneté et reprise par un nouvel employeur', 'ancienneté calcul', 'calcul ancienneté indemnité de licenciement', 'ancienneté cdd', \"ancienneté et vente de l'entreprise\", \"calcul de l' ancienneté\"} -> 53\n",
      "pre-qualified\n",
      "{'règle du maintien de salaire', 'qui paye le complément de salaire en arrêt maladie ?', 'quelle différence entre maintien de salaire et subrogation ?', 'maintien de salaire et maladie', 'puis je avoir un salaire négatif?'} -> 69\n",
      "pre-qualified\n",
      "{'exemple de calcul indemnité journalière maladie', 'arrêt de travail indemnisation', 'quel perte de salaire en arrêt maladie ?', 'maintien de salaire arrêt maladie', \"comment calculer les indemnités journalières d'arrêt maladie ?\", 'quelles sont les indemnités journalières non imposables ?'} -> 32\n",
      "pre-qualified\n",
      "{'employeur cesu decede'} -> 24\n",
      "semantic\n",
      "{\"je n'ai pas signé de contrat de travail travail illégal\", 'travail dissimulé preuve', \"obligation d'un contrat de travail écrit\"} -> 18\n",
      "pre-qualified\n",
      "{'délai de carence'} -> 31\n",
      "both\n",
      "{'pourquoi un délai de carence ?', 'délai de carence cdd', 'quel est le délai de carence entre deux cdd ?'} -> 50\n",
      "pre-qualified\n",
      "{'quelle sont les jours fériés ?', 'quand un jour férié tombe sur un jour de repos ?', 'jours fériés travaillés récupération', 'travail jour férié apprenti majeur', 'comment calculer un jour férié travaillé ?', 'jours fériés travaillés restauration', 'jours fériés jours chômés', 'quels sont les jours fériés payés double ?', 'jours fériés travaillés majorés', '1er Mai', 'jour férié', 'jour ferie', '15 août', 'jour férié compte 7h', '1er mai', 'jours fériés', 'jours fériés travaillés heures supplémentaire', 'jours feries', 'jours fériés travaillés', 'Jour férié'} -> 106\n",
      "pre-qualified\n",
      "{'ancienneté'} -> 9\n",
      "semantic\n",
      "{\"oubli renouvellement période d'essai\", \"renouvellement période d'essai lettre\", \"renouvellement de période d'esssai\", 'renouvellement période essi', \"renouvellement période d'essai syntec\", \"renouvellement période d'essai cdd\", \"renouvellement période d'essai\"} -> 20\n",
      "pre-qualified\n",
      "{'absences pendant le préavis'} -> 12\n",
      "pre-qualified\n",
      "{'heure recherche emploi', 'rechercher un emploi pendant le préavis', \"heures pour recherche d'emploi\", \"heures de recherche d'mploi\", 'absence pour rechercher un emploi', \"heures de recherche d'emploi\"} -> 14\n",
      "pre-qualified\n",
      "{'cdi de chantier', \"contrat à durée indéterminée de chantier ou d'opération\", 'contrat de chantier'} -> 18\n",
      "pre-qualified\n",
      "{'les congés pour événements familiaux'} -> 23\n",
      "both\n",
      "{'congé décès', 'congé pour décès grand parent', \"combien de jours de congés en cas de décès d'un proche ?\", 'mon salarié est confronté à un décès', 'conges deces', 'Congé décès'} -> 48\n",
      "pre-qualified\n",
      "{'congé pour mariage ou pacs', 'congé mariage', 'congé pacs', 'durée du congé pour mariage', 'congé pour pacs', 'congés mariage', 'congé pour mariage', 'congés pour pacs'} -> 43\n",
      "pre-qualified\n",
      "{'prime ancienneté coiffure'} -> 20\n",
      "both\n",
      "{\"qui a droit à la prime d'ancienneté ?\", \"prime d'anciennete\", \"prime d'ancienneté\", 'prime d anciennete', 'prime anciennete', 'prime ancienneté', 'prime ancienenté', 'Prime d ancienneté', \"taux prime d'ancienneté\", \"Prime d'ancienneté\", \"ai-je droit à une prime d'ancienneté ?\", \"prime d'ancienneté cadre\"} -> 85\n",
      "pre-qualified\n",
      "{'durée de préavis en alsace moselle'} -> 9\n",
      "both\n",
      "{'congés de maternité', 'grossesse et congé maternité', 'congé maternité et congé postnatal', 'conge%20maternite', 'congé maternité et congé pathologique', 'congé de maternité', 'congé maternité protection', 'congés maternité', 'Congé maternité', 'congé maternité', 'retour du congé maternité', 'fin du congé maternité', 'congé ùmaternité'} -> 133\n",
      "pre-qualified\n",
      "{'quelle est la durée du congé maternité ?', 'congé maternité calcul', 'durée congé maternité', 'congé maternité durée'} -> 22\n",
      "pre-qualified\n",
      "{\"quelle est la durée maximale de la période d'essai, sans et avec renouvellement ?\", \"duree periode d'essai\", \"durée période d'essai cdd\", \"durée période d'essia\", \"durée maximale periode d'essai\", \"durée maximale de la période d'essai\", 'durée période essai', \"durée période d'essai\", \"quelle est la durée de la période d'essai pour un cdi ?\", 'durée max periode essai'} -> 23\n",
      "pre-qualified\n",
      "{\"cdd et période d'essai\", \"cdi et période d'essai\", \"calcul période d'essai cdd\", \"période d'essai si cdd 6 mois\"} -> 26\n",
      "pre-qualified\n",
      "{\"cdd d'usage\", 'cdd usage'} -> 54\n",
      "both\n",
      "{'duree CD'} -> 8\n",
      "both\n",
      "{'cdd durée duree maximale'} -> 30\n",
      "both\n",
      "{\"quelle est la durée maximale d'un cdd ?\", \"quelle est la durée maximale d'un contrat de travail intérimaire ?\", \"durée maximale d'un cdd\"} -> 24\n",
      "pre-qualified\n",
      "{'mentions du contrat de travail', 'comment rédiger un contrat de travail à durée déterminée ?', 'mentions obligatoires contrat de travail'} -> 8\n",
      "pre-qualified\n",
      "{\"cumul d' emplois\", 'avoir plusieurs contrats de travail avec des employeurs différents', 'avoir 2 emplois', 'cumul deux emploi', \"cumul emplois et clause d'exclusivité\", 'CUMUL EMPLOI', 'puis-je cumuler une activité salariée et un emploi public ?', '2 cdi temps partiel en même temps', \"cumul emplois obligation d'informer l'employeur\", 'travailler pour plusieurs employeurs', 'cumul emploi', 'cumuler deux emplois salaries et indépendant', 'cumuler plusieurs emplois', 'puis-je cumuler plusieurs emploi ?', 'cumul emploi et durée maximale de travail', 'cumuler deux emplois'} -> 80\n",
      "pre-qualified\n",
      "{'CLAUSE DE NON CONCURRENCE', 'clause de non concurrence zone géographique', 'clause non concurrence', 'clause de non concurrence cdd', 'clause de non concurrence abusive', 'Clause de non concurrence', 'close de non concurence', \"quelles sont les conditions de validité d'une clause de non concurrence ?\", 'levée clause de non concurrente', \"c'est quoi une clause de non concurrence ?\", 'clause de non concurrence', 'clause de non concurrence indemnisation', 'clause de non concurrence non valide'} -> 55\n",
      "pre-qualified\n",
      "{'où déclarer les indemnités journalières maternité ?', 'indemnité congé de maternité', 'maintien de salaire congé maternité', 'Ijss maternité'} -> 8\n",
      "pre-qualified\n",
      "{'je ne veux pas faire mon préavis de licenciement', 'non respect du préavis'} -> 24\n",
      "pre-qualified\n",
      "{\"la prime d'ancienneté dans la convention de la métallurgie de la creuse\"} -> 10\n",
      "both\n",
      "{'prime macron'} -> 10\n",
      "both\n",
      "{'prime', 'prime d'} -> 19\n",
      "both\n",
      "{'maladie et report des congés payés', 'maladie pendant congés', 'maladie pendant les congés', 'report congés payés et maladie', 'arrêt maladie pendant les congés payés', 'malade pendant les congés', 'Arrêt maladie pendant les congés payés'} -> 41\n",
      "pre-qualified\n",
      "{'priorité recrutement interne code du travail', 'obligation de promotion interne', 'le recrutement en interne est-il obligatoire?', 'un poste se libère dans mon entreprise', 'si un poste se libère dans mon entreprise'} -> 12\n",
      "pre-qualified\n",
      "{'repos dominical et travail du dimanche', 'travail dimanche', 'travail dimanche cadre', 'dimanches du maire', 'travail le dimanche', 'comment sont payés les dimanches ?', 'TRAVAIL%20DIMANCHE', 'comment est payé un dimanche travaille ?', 'travail dimanche automobile', 'Travail dimanche', 'travail du dimanche', 'travail dimanche salon foire', 'travailler le dimanche', 'travail di manche', 'dérogations de droit au travail le dimanche?', 'TRAVAIL DU DIMANCHE', 'travail dimanche et jours fériés'} -> 103\n",
      "pre-qualified\n",
      "{'temps partiel'} -> 61\n",
      "both\n",
      "{'horaire', 'horaires'} -> 8\n",
      "semantic\n",
      "{'Chomage', \"aide au retour à l'emploi\", 'chomage', 'Droit au chomage', 'indemnités chômage', 'Chômage', 'indemnisation chômage', 'indemnités pôle emploi', 'quel type de licenciement pour toucher le chômage ?', 'allocation chômage et rupture du contrat de travail cdd', 'droits au chomage', 'allocation chômage et rupture du contrat de travail', 'allocation chômage', 'chômage', 'indemnisation pôle emploi', 'droit au chômage'} -> 78\n",
      "pre-qualified\n",
      "{'temps de travail et temps de soirée', 'calcul temps de travail annuel', 'temps de travail minimum par jour', 'Temps de travail', 'temps de travail et travail à temps plein', 'TEMPS DE TRAVAIL', 'temps de travail et heures supplémentaires', 'durée du travail et temps de travail', 'temps de travail et travail à temps partiel', 'temps de travail et aménagement du temps de travail', 'temps de travail et durée légale', 'temps de travail'} -> 122\n",
      "pre-qualified\n",
      "{\"relevé d'heures de travail\", 'Réclamation Heures supplémentaires', 'décompte heures supplémentaires'} -> 17\n",
      "pre-qualified\n",
      "{'Amiante', 'plan de retrait amiante', 'amiante et lieu de travail', 'repérage amiante', \"retrait d'amiante\", 'amiante'} -> 34\n",
      "pre-qualified\n"
     ]
    },
    {
     "name": "stdout",
     "output_type": "stream",
     "text": [
      "{'bruit'} -> 10\n",
      "both\n",
      "{'droit de retrait chaleur', 'quelle température pour travailler dans un bureau ?', 'températures extrêmes code du travail', 'température légale pour travailler', 'chaleur et canicule au travail'} -> 26\n",
      "pre-qualified\n",
      "{'TRAVAIL EN HAUTEUR', 'comment prévenir les risques de chutes de hauteur ?', 'travaux sur escabeaux', 'coordonnateur en sécurité et protection de la santé et risque de chute de hauteur', 'travail sur corde', 'risque de chute de hauteur', 'Harnais', 'risques liés aux chutes de hauteur', 'protection collective contre les chute de hauteur', 'travail sur échafaudage', 'garde-corps', 'prévention des risques de chute de hauteur', 'garde corps', 'échafaudage', 'travail en hauteur', 'protection individuelle contre les risques de chute de hauteur', 'plan de prévention et risques de chute de hauteur'} -> 44\n",
      "pre-qualified\n",
      "{'pénibilité comment la gerer dans les entreprise'} -> 11\n",
      "semantic\n",
      "{'rupture contrat d apprentissage', \"rupture contrat d'apprentissage\", 'je suis apprenti puis-je démissionner ?', \"démissionner d'un contrat d'apprentissage\", \"arrêter un contrat d'apprentissage avant la fin\", \"rupture unilatérale du contrat d'apprentissage\", \"rupture de contrat d'apprentissage\"} -> 21\n",
      "pre-qualified\n",
      "{'Rupture contrat de professionnalisation', 'rupture anticipée du contrat de professionnalisation', 'rupture contrat professionalisation', 'rupture de contrat de professionnalisation', 'démission et contrat de professionnalisation'} -> 15\n",
      "pre-qualified\n",
      "{'CSE'} -> 44\n",
      "both\n",
      "{'Cse'} -> 32\n",
      "both\n",
      "{'cse'} -> 88\n",
      "both\n",
      "{'chsct'} -> 8\n",
      "both\n",
      "{'cssct'} -> 8\n",
      "both\n",
      "{'csp'} -> 13\n",
      "semantic\n",
      "{'heures de délégation'} -> 59\n",
      "semantic\n",
      "{'consultation cse'} -> 13\n",
      "both\n",
      "{'apprentissage'} -> 9\n",
      "semantic\n",
      "{'apprentissage'} -> 39\n",
      "semantic\n",
      "{'astreinte'} -> 26\n",
      "semantic\n",
      "{'Astreinte'} -> 16\n",
      "semantic\n",
      "{'froid'} -> 8\n",
      "both\n"
     ]
    },
    {
     "ename": "KeyError",
     "evalue": "'algo'",
     "output_type": "error",
     "traceback": [
      "\u001b[0;31m---------------------------------------------------------------------------\u001b[0m",
      "\u001b[0;31mKeyError\u001b[0m                                  Traceback (most recent call last)",
      "\u001b[0;32m<ipython-input-269-7d74e330c6e5>\u001b[0m in \u001b[0;36m<module>\u001b[0;34m\u001b[0m\n\u001b[1;32m      6\u001b[0m     \u001b[0mn\u001b[0m \u001b[0;34m=\u001b[0m \u001b[0mrows\u001b[0m\u001b[0;34m.\u001b[0m\u001b[0mshape\u001b[0m\u001b[0;34m[\u001b[0m\u001b[0;36m0\u001b[0m\u001b[0;34m]\u001b[0m\u001b[0;34m\u001b[0m\u001b[0;34m\u001b[0m\u001b[0m\n\u001b[1;32m      7\u001b[0m     \u001b[0mq\u001b[0m \u001b[0;34m=\u001b[0m \u001b[0mset\u001b[0m\u001b[0;34m(\u001b[0m\u001b[0mrows\u001b[0m\u001b[0;34m[\u001b[0m\u001b[0;34m'query'\u001b[0m\u001b[0;34m]\u001b[0m\u001b[0;34m.\u001b[0m\u001b[0mtolist\u001b[0m\u001b[0;34m(\u001b[0m\u001b[0;34m)\u001b[0m\u001b[0;34m)\u001b[0m\u001b[0;34m\u001b[0m\u001b[0;34m\u001b[0m\u001b[0m\n\u001b[0;32m----> 8\u001b[0;31m     \u001b[0malgo\u001b[0m \u001b[0;34m=\u001b[0m \u001b[0mjson\u001b[0m\u001b[0;34m.\u001b[0m\u001b[0mloads\u001b[0m\u001b[0;34m(\u001b[0m\u001b[0mrows\u001b[0m\u001b[0;34m.\u001b[0m\u001b[0mdocs_res\u001b[0m\u001b[0;34m.\u001b[0m\u001b[0mtolist\u001b[0m\u001b[0;34m(\u001b[0m\u001b[0;34m)\u001b[0m\u001b[0;34m[\u001b[0m\u001b[0;36m0\u001b[0m\u001b[0;34m]\u001b[0m\u001b[0;34m.\u001b[0m\u001b[0mreplace\u001b[0m\u001b[0;34m(\u001b[0m\u001b[0;34m\"'\"\u001b[0m\u001b[0;34m,\u001b[0m\u001b[0;34m'\"'\u001b[0m\u001b[0;34m)\u001b[0m\u001b[0;34m)\u001b[0m\u001b[0;34m[\u001b[0m\u001b[0;36m0\u001b[0m\u001b[0;34m]\u001b[0m\u001b[0;34m[\u001b[0m\u001b[0;34m'algo'\u001b[0m\u001b[0;34m]\u001b[0m\u001b[0;34m\u001b[0m\u001b[0;34m\u001b[0m\u001b[0m\n\u001b[0m\u001b[1;32m      9\u001b[0m     \u001b[0mpreq\u001b[0m \u001b[0;34m=\u001b[0m \u001b[0;34m'pre-qualified'\u001b[0m \u001b[0;32min\u001b[0m \u001b[0malgo\u001b[0m\u001b[0;34m\u001b[0m\u001b[0;34m\u001b[0m\u001b[0m\n\u001b[1;32m     10\u001b[0m     \u001b[0mcandidates\u001b[0m \u001b[0;34m=\u001b[0m \u001b[0mg\u001b[0m\u001b[0;34m\u001b[0m\u001b[0;34m\u001b[0m\u001b[0m\n",
      "\u001b[0;31mKeyError\u001b[0m: 'algo'"
     ]
    }
   ],
   "source": [
    "# most frequent queries with hit\n",
    "all_ranks = []\n",
    "\n",
    "threshold = 7\n",
    "for g, rows in df_searches[df_searches['rank'] >= 0].groupby([\"docs_slug\"]):\n",
    "    n = rows.shape[0]\n",
    "    q = set(rows['query'].tolist())\n",
    "    algo = json.loads(rows.docs_res.tolist()[0].replace(\"'\",'\"'))[0]['algo']\n",
    "    preq = 'pre-qualified' in algo\n",
    "    candidates = g\n",
    "    if (n > threshold):        \n",
    "        print(f'{q} -> {n}')\n",
    "        print(algo)\n",
    "        ranks = rows['rank'].value_counts().sort_index()\n",
    "        candidates_array = json.loads(candidates)\n",
    "        j = len(candidates_array)\n",
    "        complete_ranks = [0] * j\n",
    "        ids = []\n",
    "        for i in range(0, j):\n",
    "            if i in ranks.index:\n",
    "                complete_ranks[i] = ranks[i]             \n",
    "            ids.append({'slug':candidates_array[i], 'count':complete_ranks[i], 'queries':q, 'preq':preq})\n",
    "        all_ranks.append(ids)"
   ]
  },
  {
   "cell_type": "code",
   "execution_count": 270,
   "metadata": {
    "scrolled": false
   },
   "outputs": [
    {
     "name": "stdout",
     "output_type": "stream",
     "text": [
      "68\n"
     ]
    }
   ],
   "source": [
    "print(len(all_ranks))\n",
    "#print()\n",
    "#print(sorted(all_ranks[6], key=lambda x: x['count'], reverse=True))"
   ]
  },
  {
   "cell_type": "code",
   "execution_count": 111,
   "metadata": {},
   "outputs": [
    {
     "data": {
      "text/plain": [
       "{'dcg': 1.0, 'mrr': 1.0, 'precision': 1.0, 'recall': 0.75}"
      ]
     },
     "execution_count": 111,
     "metadata": {},
     "output_type": "execute_result"
    }
   ],
   "source": [
    "import requests\n",
    "\n",
    "params = {\n",
    "    \"y_pred\" : [\"a\", \"b\", \"c\", \"w\", \"k\",\"e\"], # y_pred (array): list of documents id predicted by the system\n",
    "    \"y_true\" : [\"a\", \"b\", \"c\", \"e\"], # y_true (array): documents id scored by humans sorted from most relevant to least relevant\n",
    "    \"y_score\" : {\n",
    "        \"a\":5,\n",
    "        \"b\":3,\n",
    "        \"c\":2,\n",
    "        \"e\":2\n",
    "            }, # y_score is a dict {\"doc_id\":\"score\"} of documents assigned as relevant y humans with the associated scores (ordered internally)\n",
    "    \"method\" : \"all\", # one of [\"precision\", \"recall\", \"dcg\", \"mrr\", \"all\"]\n",
    "    \"k\": 3 # k integer preferaly =< to length(y_pred)\n",
    "}\n",
    "\n"
   ]
  },
  {
   "cell_type": "code",
   "execution_count": 271,
   "metadata": {},
   "outputs": [],
   "source": [
    "def sort_ranks(ranks):\n",
    "    return sorted(ranks, key=lambda x: x['count'], reverse=True)\n",
    "\n",
    "def compute_metrics(i, verbose=False):\n",
    "    scores = dict([(r['slug'], int(r['count'])) for r in all_ranks[i]])\n",
    "    params = {\n",
    "\n",
    "        \"y_pred\": [c['slug'] for c in all_ranks[i]],\n",
    "        #\"y_pred\": [c['slug'] for c in sort_ranks(all_ranks[i]) if c['count'] > 0],\n",
    "        \"y_true\" : [c['slug'] for c in sort_ranks(all_ranks[i]) if c['count'] > 0],\n",
    "        \"y_score\" : scores,\n",
    "        \"method\" : \"all\",\n",
    "        \"k\":5\n",
    "    }\n",
    "    r = requests.post(\"http://localhost:4545/api/score\", json = params)\n",
    "    \n",
    "    if r.status_code != 200:\n",
    "        print(\"Error with at index \" + str(i))\n",
    "        return {'dcg': 1.0, 'mrr': 1.0, 'precision': 1.0, 'recall': 1.0}\n",
    "\n",
    "    \n",
    "    result = r.json()\n",
    "    if verbose:\n",
    "        print(i)\n",
    "        print(all_ranks[i][0]['queries'])\n",
    "        print(json.dumps(scores, indent=2))\n",
    "        print(result)\n",
    "    \n",
    "    return result"
   ]
  },
  {
   "cell_type": "code",
   "execution_count": 272,
   "metadata": {},
   "outputs": [],
   "source": [
    "# index of ranks with pre-qualified\n",
    "# index of ranks without\n",
    "\n",
    "preq_indices = [i for i in range(0, len(all_ranks)) if all_ranks[i][0]['preq']]\n",
    "other_indices = [i for i in range(0, len(all_ranks)) if not all_ranks[i][0]['preq']]"
   ]
  },
  {
   "cell_type": "code",
   "execution_count": 273,
   "metadata": {},
   "outputs": [
    {
     "data": {
      "text/plain": [
       "37"
      ]
     },
     "execution_count": 273,
     "metadata": {},
     "output_type": "execute_result"
    }
   ],
   "source": [
    "len(preq_indices)"
   ]
  },
  {
   "cell_type": "code",
   "execution_count": 274,
   "metadata": {},
   "outputs": [],
   "source": [
    "preq_scores = [compute_metrics(i) for i in preq_indices]\n",
    "other_scores = [compute_metrics(i) for i in other_indices]"
   ]
  },
  {
   "cell_type": "code",
   "execution_count": 275,
   "metadata": {},
   "outputs": [
    {
     "data": {
      "text/plain": [
       "count    37.000000\n",
       "mean      0.969830\n",
       "std       0.067478\n",
       "min       0.682678\n",
       "25%       0.975100\n",
       "50%       0.996734\n",
       "75%       1.000000\n",
       "max       1.000000\n",
       "Name: dcg, dtype: float64"
      ]
     },
     "execution_count": 275,
     "metadata": {},
     "output_type": "execute_result"
    }
   ],
   "source": [
    "pd.DataFrame(preq_scores)['dcg'].describe()"
   ]
  },
  {
   "cell_type": "code",
   "execution_count": 276,
   "metadata": {},
   "outputs": [
    {
     "data": {
      "text/plain": [
       "count    31.000000\n",
       "mean      0.776930\n",
       "std       0.207710\n",
       "min       0.384453\n",
       "25%       0.595286\n",
       "50%       0.810177\n",
       "75%       0.965174\n",
       "max       1.000000\n",
       "Name: dcg, dtype: float64"
      ]
     },
     "execution_count": 276,
     "metadata": {},
     "output_type": "execute_result"
    }
   ],
   "source": [
    "pd.DataFrame(other_scores)['dcg'].describe()"
   ]
  },
  {
   "cell_type": "code",
   "execution_count": 286,
   "metadata": {},
   "outputs": [
    {
     "data": {
      "text/plain": [
       "[{'slug': '/fiche-ministere-travail/amenagement-du-temps-de-travail#Comment-mettre-en-place-un-dispositif-d-amenagement-du-temps-de-travail-nbsp',\n",
       "  'count': 18,\n",
       "  'queries': {'TEMPS DE TRAVAIL',\n",
       "   'Temps de travail',\n",
       "   'calcul temps de travail annuel',\n",
       "   'durée du travail et temps de travail',\n",
       "   'temps de travail',\n",
       "   'temps de travail et aménagement du temps de travail',\n",
       "   'temps de travail et durée légale',\n",
       "   'temps de travail et heures supplémentaires',\n",
       "   'temps de travail et temps de soirée',\n",
       "   'temps de travail et travail à temps partiel',\n",
       "   'temps de travail et travail à temps plein',\n",
       "   'temps de travail minimum par jour'},\n",
       "  'preq': True},\n",
       " {'slug': '/fiche-ministere-travail/la-duree-legale-du-travail#Quels-sont-les-temps-de-travail-comptabilises-dans-la-duree-legale-nbsp',\n",
       "  'count': 71,\n",
       "  'queries': {'TEMPS DE TRAVAIL',\n",
       "   'Temps de travail',\n",
       "   'calcul temps de travail annuel',\n",
       "   'durée du travail et temps de travail',\n",
       "   'temps de travail',\n",
       "   'temps de travail et aménagement du temps de travail',\n",
       "   'temps de travail et durée légale',\n",
       "   'temps de travail et heures supplémentaires',\n",
       "   'temps de travail et temps de soirée',\n",
       "   'temps de travail et travail à temps partiel',\n",
       "   'temps de travail et travail à temps plein',\n",
       "   'temps de travail minimum par jour'},\n",
       "  'preq': True},\n",
       " {'slug': '/fiche-ministere-travail/amenagement-du-temps-de-travail#Quelles-sont-les-obligations-d-information-de-l-employeur',\n",
       "  'count': 8,\n",
       "  'queries': {'TEMPS DE TRAVAIL',\n",
       "   'Temps de travail',\n",
       "   'calcul temps de travail annuel',\n",
       "   'durée du travail et temps de travail',\n",
       "   'temps de travail',\n",
       "   'temps de travail et aménagement du temps de travail',\n",
       "   'temps de travail et durée légale',\n",
       "   'temps de travail et heures supplémentaires',\n",
       "   'temps de travail et temps de soirée',\n",
       "   'temps de travail et travail à temps partiel',\n",
       "   'temps de travail et travail à temps plein',\n",
       "   'temps de travail minimum par jour'},\n",
       "  'preq': True},\n",
       " {'slug': '/fiche-ministere-travail/amenagement-du-temps-de-travail#Que-deviennent-les-accords-conclus-sous-l-emprise-des-legislations-nbsp',\n",
       "  'count': 2,\n",
       "  'queries': {'TEMPS DE TRAVAIL',\n",
       "   'Temps de travail',\n",
       "   'calcul temps de travail annuel',\n",
       "   'durée du travail et temps de travail',\n",
       "   'temps de travail',\n",
       "   'temps de travail et aménagement du temps de travail',\n",
       "   'temps de travail et durée légale',\n",
       "   'temps de travail et heures supplémentaires',\n",
       "   'temps de travail et temps de soirée',\n",
       "   'temps de travail et travail à temps partiel',\n",
       "   'temps de travail et travail à temps plein',\n",
       "   'temps de travail minimum par jour'},\n",
       "  'preq': True},\n",
       " {'slug': '/fiche-service-public/temps-de-travail-du-salarie-amenagement-des-horaires',\n",
       "  'count': 11,\n",
       "  'queries': {'TEMPS DE TRAVAIL',\n",
       "   'Temps de travail',\n",
       "   'calcul temps de travail annuel',\n",
       "   'durée du travail et temps de travail',\n",
       "   'temps de travail',\n",
       "   'temps de travail et aménagement du temps de travail',\n",
       "   'temps de travail et durée légale',\n",
       "   'temps de travail et heures supplémentaires',\n",
       "   'temps de travail et temps de soirée',\n",
       "   'temps de travail et travail à temps partiel',\n",
       "   'temps de travail et travail à temps plein',\n",
       "   'temps de travail minimum par jour'},\n",
       "  'preq': True},\n",
       " {'slug': '/fiche-service-public/un-salarie-en-formation-en-dehors-du-temps-de-travail-est-il-remunere',\n",
       "  'count': 1,\n",
       "  'queries': {'TEMPS DE TRAVAIL',\n",
       "   'Temps de travail',\n",
       "   'calcul temps de travail annuel',\n",
       "   'durée du travail et temps de travail',\n",
       "   'temps de travail',\n",
       "   'temps de travail et aménagement du temps de travail',\n",
       "   'temps de travail et durée légale',\n",
       "   'temps de travail et heures supplémentaires',\n",
       "   'temps de travail et temps de soirée',\n",
       "   'temps de travail et travail à temps partiel',\n",
       "   'temps de travail et travail à temps plein',\n",
       "   'temps de travail minimum par jour'},\n",
       "  'preq': True},\n",
       " {'slug': '/fiche-service-public/reduction-du-temps-de-travail-rtt',\n",
       "  'count': 6,\n",
       "  'queries': {'TEMPS DE TRAVAIL',\n",
       "   'Temps de travail',\n",
       "   'calcul temps de travail annuel',\n",
       "   'durée du travail et temps de travail',\n",
       "   'temps de travail',\n",
       "   'temps de travail et aménagement du temps de travail',\n",
       "   'temps de travail et durée légale',\n",
       "   'temps de travail et heures supplémentaires',\n",
       "   'temps de travail et temps de soirée',\n",
       "   'temps de travail et travail à temps partiel',\n",
       "   'temps de travail et travail à temps plein',\n",
       "   'temps de travail minimum par jour'},\n",
       "  'preq': True},\n",
       " {'slug': '/fiche-ministere-travail/amenagement-du-temps-de-travail#Quel-est-le-contenu-de-l-accord-d-amenagement-du-temps-de-travail-nbsp',\n",
       "  'count': 2,\n",
       "  'queries': {'TEMPS DE TRAVAIL',\n",
       "   'Temps de travail',\n",
       "   'calcul temps de travail annuel',\n",
       "   'durée du travail et temps de travail',\n",
       "   'temps de travail',\n",
       "   'temps de travail et aménagement du temps de travail',\n",
       "   'temps de travail et durée légale',\n",
       "   'temps de travail et heures supplémentaires',\n",
       "   'temps de travail et temps de soirée',\n",
       "   'temps de travail et travail à temps partiel',\n",
       "   'temps de travail et travail à temps plein',\n",
       "   'temps de travail minimum par jour'},\n",
       "  'preq': True},\n",
       " {'slug': '/fiche-ministere-travail/amenagement-du-temps-de-travail#Dans-quel-delai-les-salaries-sont-ils-informes-des-changements-de-duree-ou-nbsp',\n",
       "  'count': 3,\n",
       "  'queries': {'TEMPS DE TRAVAIL',\n",
       "   'Temps de travail',\n",
       "   'calcul temps de travail annuel',\n",
       "   'durée du travail et temps de travail',\n",
       "   'temps de travail',\n",
       "   'temps de travail et aménagement du temps de travail',\n",
       "   'temps de travail et durée légale',\n",
       "   'temps de travail et heures supplémentaires',\n",
       "   'temps de travail et temps de soirée',\n",
       "   'temps de travail et travail à temps partiel',\n",
       "   'temps de travail et travail à temps plein',\n",
       "   'temps de travail minimum par jour'},\n",
       "  'preq': True}]"
      ]
     },
     "execution_count": 286,
     "metadata": {},
     "output_type": "execute_result"
    }
   ],
   "source": [
    "all_ranks[preq_indices[30]]"
   ]
  },
  {
   "cell_type": "code",
   "execution_count": 284,
   "metadata": {},
   "outputs": [
    {
     "data": {
      "text/plain": [
       "[(0, {'dcg': 0.9989298154377032, 'mrr': 1.0, 'precision': 1.0, 'recall': 1.0}),\n",
       " (1, {'dcg': 1.0, 'mrr': 1.0, 'precision': 0.5, 'recall': 1.0}),\n",
       " (2, {'dcg': 0.9659167675637428, 'mrr': 1.0, 'precision': 1.0, 'recall': 1.0}),\n",
       " (3, {'dcg': 0.9505230792535972, 'mrr': 1.0, 'precision': 0.6, 'recall': 0.6}),\n",
       " (4, {'dcg': 0.9965893565378234, 'mrr': 1.0, 'precision': 1.0, 'recall': 1.0}),\n",
       " (5, {'dcg': 0.9978197507915574, 'mrr': 1.0, 'precision': 0.8, 'recall': 1.0}),\n",
       " (6,\n",
       "  {'dcg': 0.9458802237582187,\n",
       "   'mrr': 1.0,\n",
       "   'precision': 0.4,\n",
       "   'recall': 0.6666666666666666}),\n",
       " (7, {'dcg': 1.0, 'mrr': 1.0, 'precision': 1.0, 'recall': 1.0}),\n",
       " (8,\n",
       "  {'dcg': 0.9984087397290985,\n",
       "   'mrr': 1.0,\n",
       "   'precision': 1.0,\n",
       "   'recall': 0.5555555555555556}),\n",
       " (9, {'dcg': 1.0, 'mrr': 1.0, 'precision': 1.0, 'recall': 1.0}),\n",
       " (10,\n",
       "  {'dcg': 0.9853269231034409, 'mrr': 1.0, 'precision': 1.0, 'recall': 1.0}),\n",
       " (11, {'dcg': 1.0, 'mrr': 1.0, 'precision': 0.6, 'recall': 1.0}),\n",
       " (12,\n",
       "  {'dcg': 0.7417634207220976, 'mrr': 1.0, 'precision': 1.0, 'recall': 1.0}),\n",
       " (13, {'dcg': 1.0, 'mrr': 1.0, 'precision': 1.0, 'recall': 1.0}),\n",
       " (14, {'dcg': 0.929140134092958, 'mrr': 1.0, 'precision': 1.0, 'recall': 1.0}),\n",
       " (15, {'dcg': 1.0, 'mrr': 1.0, 'precision': 1.0, 'recall': 1.0}),\n",
       " (16,\n",
       "  {'dcg': 0.9444741418330969,\n",
       "   'mrr': 1.0,\n",
       "   'precision': 0.8,\n",
       "   'recall': 0.4444444444444444}),\n",
       " (17, {'dcg': 1.0, 'mrr': 1.0, 'precision': 1.0, 'recall': 1.0}),\n",
       " (18, {'dcg': 1.0, 'mrr': 1.0, 'precision': 1.0, 'recall': 1.0}),\n",
       " (19, {'dcg': 1.0, 'mrr': 1.0, 'precision': 0.75, 'recall': 1.0}),\n",
       " (20,\n",
       "  {'dcg': 0.9974975526140478, 'mrr': 1.0, 'precision': 0.75, 'recall': 1.0}),\n",
       " (21, {'dcg': 1.0, 'mrr': 1.0, 'precision': 0.4, 'recall': 1.0}),\n",
       " (22, {'dcg': 1.0, 'mrr': 1.0, 'precision': 1.0, 'recall': 1.0}),\n",
       " (23,\n",
       "  {'dcg': 0.9923642759905624, 'mrr': 1.0, 'precision': 0.6, 'recall': 0.75}),\n",
       " (24,\n",
       "  {'dcg': 1.0, 'mrr': 1.0, 'precision': 0.6666666666666666, 'recall': 1.0}),\n",
       " (25,\n",
       "  {'dcg': 0.9961663744203105, 'mrr': 1.0, 'precision': 0.6, 'recall': 1.0}),\n",
       " (26,\n",
       "  {'dcg': 0.9810768989791424, 'mrr': 1.0, 'precision': 0.8, 'recall': 0.8}),\n",
       " (27,\n",
       "  {'dcg': 0.9855072463768116, 'mrr': 1.0, 'precision': 0.5, 'recall': 1.0}),\n",
       " (28, {'dcg': 1.0, 'mrr': 1.0, 'precision': 1.0, 'recall': 1.0}),\n",
       " (29,\n",
       "  {'dcg': 0.9791948496902946,\n",
       "   'mrr': 1.0,\n",
       "   'precision': 1.0,\n",
       "   'recall': 0.7142857142857143}),\n",
       " (30,\n",
       "  {'dcg': 0.6826781146173111,\n",
       "   'mrr': 1.0,\n",
       "   'precision': 1.0,\n",
       "   'recall': 0.5555555555555556}),\n",
       " (31,\n",
       "  {'dcg': 0.9615384615384616, 'mrr': 1.0, 'precision': 1.0, 'recall': 1.0}),\n",
       " (32,\n",
       "  {'dcg': 0.9909437991793195, 'mrr': 1.0, 'precision': 1.0, 'recall': 1.0}),\n",
       " (33,\n",
       "  {'dcg': 0.8901463625259025, 'mrr': 1.0, 'precision': 1.0, 'recall': 1.0}),\n",
       " (34, {'dcg': 1.0, 'mrr': 1.0, 'precision': 1.0, 'recall': 1.0}),\n",
       " (35,\n",
       "  {'dcg': 0.9967339992290906, 'mrr': 1.0, 'precision': 0.75, 'recall': 1.0}),\n",
       " (36,\n",
       "  {'dcg': 0.9750999478269311, 'mrr': 1.0, 'precision': 0.75, 'recall': 1.0})]"
      ]
     },
     "execution_count": 284,
     "metadata": {},
     "output_type": "execute_result"
    }
   ],
   "source": [
    "[(i, preq_scores[i]) for i in range(0, len(preq_scores))]"
   ]
  },
  {
   "cell_type": "code",
   "execution_count": 140,
   "metadata": {},
   "outputs": [
    {
     "data": {
      "text/plain": [
       "int"
      ]
     },
     "execution_count": 140,
     "metadata": {},
     "output_type": "execute_result"
    }
   ],
   "source": []
  },
  {
   "cell_type": "code",
   "execution_count": null,
   "metadata": {},
   "outputs": [],
   "source": []
  }
 ],
 "metadata": {
  "kernelspec": {
   "display_name": "Python 3",
   "language": "python",
   "name": "python3"
  },
  "language_info": {
   "codemirror_mode": {
    "name": "ipython",
    "version": 3
   },
   "file_extension": ".py",
   "mimetype": "text/x-python",
   "name": "python",
   "nbconvert_exporter": "python",
   "pygments_lexer": "ipython3",
   "version": "3.7.3"
  }
 },
 "nbformat": 4,
 "nbformat_minor": 2
}
