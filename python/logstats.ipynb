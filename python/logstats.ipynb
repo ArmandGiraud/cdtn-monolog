{
 "cells": [
  {
   "cell_type": "code",
   "execution_count": null,
   "metadata": {},
   "outputs": [],
   "source": [
    "import pandas as pd\n",
    "import numpy as np\n",
    "import seaborn as sns\n",
    "import matplotlib.pyplot as plt\n",
    "from glob import glob\n",
    "\n",
    "\n",
    "pd.options.display.max_rows = 400\n",
    "pd.options.display.max_colwidth = 4000"
   ]
  },
  {
   "cell_type": "code",
   "execution_count": null,
   "metadata": {},
   "outputs": [],
   "source": [
    "jsons = []\n",
    "\n",
    "for filename in glob('/Users/remim/tmp/cdtn-2020/*.json'):\n",
    "    print(filename)\n",
    "    jsons.append(pd.read_json(filename))\n",
    "\n",
    "#actions = pd.read_json(\"/Users/remim/dev/cdtn/cdtn-monolog/weeks_1-4_2020.json\")\n",
    "#actions = pd.read_json(\"/Users/remim/tmp/catherine-logs.json\")\n",
    "#actions = pd.read_json(\"/Users/remim/tmp/all-2020.json\")\n",
    "\n",
    "actions = pd.concat(jsons, ignore_index=True)\n"
   ]
  },
  {
   "cell_type": "code",
   "execution_count": null,
   "metadata": {},
   "outputs": [],
   "source": [
    "actions = pd.read_json('/Users/remim/tmp/cdtn-2020/2020-01-28.json')"
   ]
  },
  {
   "cell_type": "code",
   "execution_count": null,
   "metadata": {},
   "outputs": [],
   "source": [
    "# reset idVisit in order to ensure unicity\n",
    "actions['idVisit'] = actions['idVisit'].astype(str) + actions[\"lastActionDateTime\"].astype(str)"
   ]
  },
  {
   "cell_type": "code",
   "execution_count": null,
   "metadata": {},
   "outputs": [],
   "source": [
    "#actions = pd.read_json(\"/Users/remim/dev/cdtn/cdtn-monolog/2weeks.json\")\n"
   ]
  },
  {
   "cell_type": "code",
   "execution_count": null,
   "metadata": {},
   "outputs": [],
   "source": [
    "#actions = pd.read_json(\"/Users/remim/tmp/logs-1912.json\")\n",
    "#actions = pd.read_json(\"/Users/remim/data/cdtn-logs/daily/2019-12-19-log.json\")"
   ]
  },
  {
   "cell_type": "markdown",
   "metadata": {},
   "source": [
    "# Check visits and action per date : assert no issues during collection"
   ]
  },
  {
   "cell_type": "code",
   "execution_count": null,
   "metadata": {},
   "outputs": [],
   "source": [
    "actions_dates = actions.drop_duplicates(subset=['idVisit'])['timestamp'].apply(lambda x : x.strftime(\"%d/%m/%y\"))"
   ]
  },
  {
   "cell_type": "code",
   "execution_count": null,
   "metadata": {},
   "outputs": [],
   "source": [
    "# we retrieve the sorted dates\n",
    "import datetime\n",
    "dates = [datetime.datetime.strptime(ts, \"%d/%m/%y\") for ts in actions_dates.unique()]\n",
    "dates.sort()\n",
    "sorteddates = [datetime.datetime.strftime(ts, \"%d/%m/%y\") for ts in dates]"
   ]
  },
  {
   "cell_type": "code",
   "execution_count": null,
   "metadata": {},
   "outputs": [],
   "source": [
    "plot = sns.catplot(x=\"timestamp\", kind=\"count\", palette=\"ch:.25\", aspect=25.7/10.27, data=pd.DataFrame(actions_dates), order=sorteddates);\n",
    "plt.subplots_adjust(top=0.9)\n",
    "plot.fig.suptitle(\"Visites par jour\")\n",
    "#plot.set_xticklabels(plot.get_xticklabels(), rotation=45)\n",
    "#[sns.setp(ax.get_xticklabels(), rotation=45) for ax in plot.axes.flat]\n",
    "for ax in plot.axes.flat:\n",
    "    for label in ax.get_xticklabels():\n",
    "        label.set_rotation(45)"
   ]
  },
  {
   "cell_type": "code",
   "execution_count": null,
   "metadata": {},
   "outputs": [],
   "source": [
    "plot = sns.catplot(x=\"timestamp\", kind=\"count\", palette=\"ch:.25\", aspect=25.7/10.27, data=pd.DataFrame(actions_dates), order=sorteddates);\n",
    "plt.subplots_adjust(top=0.9)\n",
    "plot.fig.suptitle(\"Visites par jour\")\n",
    "#plot.set_xticklabels(plot.get_xticklabels(), rotation=45)\n",
    "#[sns.setp(ax.get_xticklabels(), rotation=45) for ax in plot.axes.flat]\n",
    "for ax in plot.axes.flat:\n",
    "    for label in ax.get_xticklabels():\n",
    "        label.set_rotation(45)"
   ]
  },
  {
   "cell_type": "code",
   "execution_count": null,
   "metadata": {},
   "outputs": [],
   "source": []
  },
  {
   "cell_type": "code",
   "execution_count": null,
   "metadata": {},
   "outputs": [],
   "source": []
  },
  {
   "cell_type": "code",
   "execution_count": null,
   "metadata": {},
   "outputs": [],
   "source": []
  },
  {
   "cell_type": "markdown",
   "metadata": {},
   "source": [
    "# Most popular contents"
   ]
  },
  {
   "cell_type": "code",
   "execution_count": null,
   "metadata": {},
   "outputs": [],
   "source": [
    "actions[actions.type == 'visit_content'][actions.url.apply(lambda x : x.startswith(\"https://code.travail.gouv.fr/\"))][\"url\"]\\\n",
    ".apply(lambda x : x.split(\"gouv.fr/\")[1])\\\n",
    ".value_counts()[:70]\n"
   ]
  },
  {
   "cell_type": "markdown",
   "metadata": {},
   "source": [
    "# Datafiller : generer variantes pour ajout aux suggestions"
   ]
  },
  {
   "cell_type": "code",
   "execution_count": null,
   "metadata": {},
   "outputs": [],
   "source": [
    "# import json\n",
    "# with open('request.datafiller-1712.json') as fd:\n",
    "#      df_reqs_json = json.load(fd)"
   ]
  },
  {
   "cell_type": "code",
   "execution_count": null,
   "metadata": {},
   "outputs": [],
   "source": [
    "# titles_col = []\n",
    "# variant_col = []\n",
    "# is_title = []\n",
    "# to_keep = []\n",
    "\n",
    "# for entry in df_reqs_json['data']:\n",
    "#     title = entry['title']\n",
    "    \n",
    "#     # first we add the title\n",
    "#     titles_col.append(title)\n",
    "#     variant_col.append(title)\n",
    "#     is_title.append(True)\n",
    "\n",
    "#     # then we add the variants\n",
    "#     variants = entry['variants'].split('\\n') if 'variants' in entry else []\n",
    "#     for variant in variants :\n",
    "#         titles_col.append(title)\n",
    "#         variant_col.append(variant)\n",
    "#         is_title.append(False)\n",
    "\n",
    "# to_keep = np.ones([len(titles_col)], dtype=bool)        \n",
    "# weight = [5] * len(titles_col)\n",
    "         \n",
    "# df_reqs_df = pd.DataFrame({'Candidat':variant_col, 'Entrée':titles_col, 'Titre':is_title, 'Conserver':to_keep, 'Poids': weight})"
   ]
  },
  {
   "cell_type": "code",
   "execution_count": null,
   "metadata": {},
   "outputs": [],
   "source": [
    "#df_reqs_df.to_excel(\"df_suggestion_qualification.xlsx\")\n",
    "#df_reqs_df.to_csv(\"df_suggestion_qualification-1712.csv\")"
   ]
  },
  {
   "cell_type": "markdown",
   "metadata": {},
   "source": [
    "# Rank and scoring"
   ]
  },
  {
   "cell_type": "code",
   "execution_count": null,
   "metadata": {
    "scrolled": true
   },
   "outputs": [],
   "source": [
    "result_candidates_actions = actions[actions.type == \"result_candidates\"]\n",
    "result_candidates_actions['documents'] = result_candidates_actions.result_candidates.apply(lambda x : x['documents'])"
   ]
  },
  {
   "cell_type": "code",
   "execution_count": null,
   "metadata": {},
   "outputs": [],
   "source": [
    "unique_search_visit = result_candidates_actions.idVisit.unique()"
   ]
  },
  {
   "cell_type": "code",
   "execution_count": null,
   "metadata": {},
   "outputs": [],
   "source": [
    "unique_search_visit.shape"
   ]
  },
  {
   "cell_type": "code",
   "execution_count": null,
   "metadata": {},
   "outputs": [],
   "source": [
    "#one_visit = unique_search_visit[0]\n",
    "#actions[actions.idVisit == 125978]\n",
    "\n",
    "# here we could compare select_result and visit content in order to \n",
    "# add time spent (and categorize visits : short / medium / long ...)\n",
    "actions[actions.type == \"select_result\"][:10]\n",
    "actions[actions.type == \"visit_content\"][:10]"
   ]
  },
  {
   "cell_type": "code",
   "execution_count": null,
   "metadata": {},
   "outputs": [],
   "source": []
  },
  {
   "cell_type": "code",
   "execution_count": null,
   "metadata": {},
   "outputs": [],
   "source": [
    "# for each visit containing candidates actions\n",
    "# we want to associate candidates and select result\n",
    "\n",
    "# check if selection in previous candidates\n",
    "def in_candidates(select_action, candidates):\n",
    "    selected_url = select_action.res_selection['url']\n",
    "    candidate_urls = [c['slug'] for c in candidates['documents']]\n",
    "    \n",
    "    if selected_url in candidate_urls:\n",
    "        return (True, candidate_urls.index(selected_url))\n",
    "    else :\n",
    "        # elif : here we can be in different cases :\n",
    "        # query undefined : theme results\n",
    "        # selection resultat code du travail ou theme\n",
    "        return (False, -1)\n",
    "\n",
    "def analyze_visit(id_visit) :\n",
    "    visit = actions[actions.idVisit == id_visit]\n",
    "\n",
    "    last_candidates = {}\n",
    "    last_query = ''\n",
    "    consumed = False\n",
    "    \n",
    "    logs = []\n",
    "\n",
    "    for _, action in visit.iterrows():\n",
    "        if action.type == 'result_candidates':\n",
    "            if last_candidates != action.result_candidates and last_query != action.query:\n",
    "                last_candidates = action.result_candidates\n",
    "                last_query = action.query\n",
    "                consumed = False\n",
    "\n",
    "        if (action.type == 'select_result'):\n",
    "            \n",
    "            # case no current candidates and selection\n",
    "            if not(last_candidates):\n",
    "                print('Selection before candidates ' + str(id_visit))\n",
    "                continue;\n",
    "            \n",
    "#             selection = action.res_selection['url']\n",
    "#             split = selection.split(\"/\");\n",
    "#             transformed = split[1].replace('-', \"_\").replace(\"fiche\", \"fiches\") + \"/\" + split[2];                        \n",
    "    \n",
    "            (found, index) = in_candidates(action, last_candidates)\n",
    "    \n",
    "            if not found:\n",
    "                print('Selection not in candidates ' + str(id_visit))\n",
    "                #print(action.res_selection)\n",
    "                #print([c['slug'] for c in last_candidates['documents']])\n",
    "                \n",
    "            # we keep track of the fact that candidates were \"consumed\"\n",
    "            if index >= 0:  \n",
    "                consumed = True\n",
    "                \n",
    "            logs.append({\n",
    "                'docs_res': last_candidates['documents'],\n",
    "                'articles_res': last_candidates['articles'],\n",
    "                'themes_res': last_candidates['themes'],\n",
    "                'idVisit': id_visit,\n",
    "                'rank': index,\n",
    "                'selection': action.res_selection['url'],\n",
    "                'query': last_query\n",
    "            })\n",
    "                                \n",
    "\n",
    "    if not consumed :\n",
    "        print(\"Not consumed \" + str(id_visit))\n",
    "        logs.append({\n",
    "                    'docs_res': last_candidates['documents'],\n",
    "                    'articles_res': last_candidates['articles'],\n",
    "                    'themes_res': last_candidates['themes'],\n",
    "                    'idVisit': id_visit,\n",
    "                    'rank': -2,\n",
    "                    'selection': np.NaN,\n",
    "                    'query': last_query\n",
    "                })\n",
    "        \n",
    "    return logs\n"
   ]
  },
  {
   "cell_type": "code",
   "execution_count": null,
   "metadata": {
    "scrolled": true
   },
   "outputs": [],
   "source": [
    "logs = []\n",
    "for i in unique_search_visit:\n",
    "    print(i)\n",
    "    logs += analyze_visit(i)"
   ]
  },
  {
   "cell_type": "code",
   "execution_count": null,
   "metadata": {},
   "outputs": [],
   "source": [
    "df_searches = pd.DataFrame(logs)"
   ]
  },
  {
   "cell_type": "code",
   "execution_count": null,
   "metadata": {},
   "outputs": [],
   "source": [
    "df_searches.to_excel(\"searches_candidates_selection_rank.xlsx\")"
   ]
  },
  {
   "cell_type": "code",
   "execution_count": null,
   "metadata": {},
   "outputs": [],
   "source": [
    "df_searches[df_searches['rank'] >= 0].shape[0] / df_searches.shape[0]"
   ]
  },
  {
   "cell_type": "code",
   "execution_count": null,
   "metadata": {},
   "outputs": [],
   "source": []
  },
  {
   "cell_type": "code",
   "execution_count": null,
   "metadata": {
    "scrolled": false
   },
   "outputs": [],
   "source": [
    "def print_rangs(query):\n",
    "    dem_queries = df_searches[(df_searches['query']==query) | (df_searches['query']==query)]\n",
    "    only_pos = dem_queries[dem_queries['rank'] >=0]\n",
    "    plot = sns.catplot(x=\"rank\", kind=\"count\", palette=\"ch:.25\", data=pd.DataFrame(only_pos));\n",
    "    plt.subplots_adjust(top=0.9)\n",
    "    plot.fig.suptitle(\"Rangs pour la requête : \" + query)"
   ]
  },
  {
   "cell_type": "code",
   "execution_count": null,
   "metadata": {},
   "outputs": [],
   "source": [
    "print_rangs('congés sans solde')"
   ]
  },
  {
   "cell_type": "code",
   "execution_count": null,
   "metadata": {},
   "outputs": [],
   "source": [
    "pd.Series(list(filter(lambda x : x >=0, pd.DataFrame(logs)['rank'].values.tolist()))).describe()\n",
    "sns.catplot(x=\"rank\", kind=\"count\", palette=\"ch:.25\", data=pd.DataFrame(logs));"
   ]
  },
  {
   "cell_type": "code",
   "execution_count": null,
   "metadata": {},
   "outputs": [],
   "source": [
    "actions[actions.idVisit == 67888]"
   ]
  },
  {
   "cell_type": "code",
   "execution_count": null,
   "metadata": {},
   "outputs": [],
   "source": []
  },
  {
   "cell_type": "code",
   "execution_count": null,
   "metadata": {},
   "outputs": [],
   "source": [
    "counts = df_searches['query'].apply(lambda x : str.lower(x)).value_counts()[1:].rename_axis('unique_values').reset_index(name='counts')\n",
    "counts[counts.counts > 1].to_excel(\"most_popular_queries.xlsx\")"
   ]
  },
  {
   "cell_type": "code",
   "execution_count": null,
   "metadata": {
    "scrolled": true
   },
   "outputs": [],
   "source": [
    "#in_search\n",
    "actions[actions.idVisit == 66730]"
   ]
  },
  {
   "cell_type": "code",
   "execution_count": null,
   "metadata": {},
   "outputs": [],
   "source": []
  },
  {
   "cell_type": "code",
   "execution_count": null,
   "metadata": {},
   "outputs": [],
   "source": [
    "plot = sns.catplot(y=\"referrerTypeName\", kind=\"count\", palette=\"ch:.25\", data=actions)#.set_title('Provenance des visites');\n",
    "plt.subplots_adjust(top=0.9)\n",
    "plot.fig.suptitle('Provenance des visites')\n",
    "\n"
   ]
  },
  {
   "cell_type": "code",
   "execution_count": null,
   "metadata": {},
   "outputs": [],
   "source": [
    "plot = sns.catplot(y=\"type\", kind=\"count\", palette=\"ch:.25\", data=actions, aspect=25.7/10.27, order=['visit', 'home', 'result_candidates', 'search', 'select_result', 'suggestion_candidates', 'select_suggestion', 'outlink', 'download', 'external_search', 'feedback']);\n",
    "plt.subplots_adjust(top=0.9)\n",
    "plot.fig.suptitle(\"Types d'actions\")\n"
   ]
  },
  {
   "cell_type": "code",
   "execution_count": null,
   "metadata": {},
   "outputs": [],
   "source": [
    "\n"
   ]
  },
  {
   "cell_type": "code",
   "execution_count": null,
   "metadata": {
    "scrolled": true
   },
   "outputs": [],
   "source": [
    "actions[actions.type == 'search'].shape[0]"
   ]
  },
  {
   "cell_type": "code",
   "execution_count": null,
   "metadata": {},
   "outputs": [],
   "source": [
    "visitLength = actions.groupby([\"idVisit\", \"referrerTypeName\"]).size().reset_index(name='countActions')"
   ]
  },
  {
   "cell_type": "code",
   "execution_count": null,
   "metadata": {},
   "outputs": [],
   "source": [
    "visitLength[visitLength.countActions > 3]"
   ]
  },
  {
   "cell_type": "code",
   "execution_count": null,
   "metadata": {},
   "outputs": [],
   "source": []
  },
  {
   "cell_type": "code",
   "execution_count": null,
   "metadata": {},
   "outputs": [],
   "source": []
  },
  {
   "cell_type": "code",
   "execution_count": null,
   "metadata": {},
   "outputs": [],
   "source": []
  },
  {
   "cell_type": "code",
   "execution_count": null,
   "metadata": {},
   "outputs": [],
   "source": [
    "actions[actions.type == \"select_suggestion\"].prefix.apply(lambda x: len(x)).describe()\n"
   ]
  },
  {
   "cell_type": "code",
   "execution_count": null,
   "metadata": {},
   "outputs": [],
   "source": [
    "actions.type.value_counts()"
   ]
  },
  {
   "cell_type": "code",
   "execution_count": null,
   "metadata": {
    "scrolled": false
   },
   "outputs": [],
   "source": [
    "result_candidates = actions[actions.type == \"result_candidates\"]\n",
    "result_candidates[result_candidates[\"query\"] != \"undefined\"].shape\n",
    "#result_candidates[\"query\"]"
   ]
  },
  {
   "cell_type": "code",
   "execution_count": null,
   "metadata": {},
   "outputs": [],
   "source": [
    "actions.shape\n"
   ]
  },
  {
   "cell_type": "code",
   "execution_count": null,
   "metadata": {},
   "outputs": [],
   "source": [
    "actions[actions.lastActionTimestamp == actions.lastActionTimestamp.max()]['timestamp']\n"
   ]
  },
  {
   "cell_type": "code",
   "execution_count": null,
   "metadata": {},
   "outputs": [],
   "source": [
    "actions[actions.lastActionTimestamp == actions.lastActionTimestamp.min()]['timestamp']"
   ]
  },
  {
   "cell_type": "code",
   "execution_count": null,
   "metadata": {},
   "outputs": [],
   "source": []
  },
  {
   "cell_type": "code",
   "execution_count": null,
   "metadata": {},
   "outputs": [],
   "source": [
    "vl = visitLength[visitLength.countActions<30]"
   ]
  },
  {
   "cell_type": "code",
   "execution_count": null,
   "metadata": {},
   "outputs": [],
   "source": [
    "#f, ax = plt.subplots(figsize=(20, 3))\n",
    "#sns.set(rc={'figure.figsize':(11.1,80.0)})\n",
    "plot = sns.catplot(x=\"countActions\", kind=\"count\", data=vl, aspect=20.7/8.27);\n",
    "plt.subplots_adjust(top=0.9)\n",
    "plot.fig.suptitle(\"Nombre d'actions\")"
   ]
  },
  {
   "cell_type": "code",
   "execution_count": null,
   "metadata": {},
   "outputs": [],
   "source": [
    "visitLength[visitLength.countActions == 1].referrerTypeName.value_counts()\n"
   ]
  },
  {
   "cell_type": "code",
   "execution_count": null,
   "metadata": {},
   "outputs": [],
   "source": [
    "visitLength[visitLength.countActions == 2].referrerTypeName.value_counts()\n",
    "\n"
   ]
  },
  {
   "cell_type": "code",
   "execution_count": null,
   "metadata": {},
   "outputs": [],
   "source": [
    "cdt = actions[actions.type == \"select_result\"]\n",
    "#cdt[cdt['query'] == \"licenciement\"].idVisit\n",
    "cdt.shape\n"
   ]
  },
  {
   "cell_type": "code",
   "execution_count": null,
   "metadata": {},
   "outputs": [],
   "source": [
    "visitLength[visitLength.countActions == 7]\n",
    "\n"
   ]
  },
  {
   "cell_type": "code",
   "execution_count": null,
   "metadata": {},
   "outputs": [],
   "source": [
    "\n"
   ]
  },
  {
   "cell_type": "code",
   "execution_count": null,
   "metadata": {},
   "outputs": [],
   "source": [
    "set(actions[actions.type=='select_result'][:20].idVisit.tolist())\n"
   ]
  },
  {
   "cell_type": "code",
   "execution_count": null,
   "metadata": {},
   "outputs": [],
   "source": [
    "actions[actions.type=='select_suggestion'].sugg_selection.value_counts()[:20]\n",
    "\n"
   ]
  },
  {
   "cell_type": "code",
   "execution_count": null,
   "metadata": {},
   "outputs": [],
   "source": [
    "\n"
   ]
  },
  {
   "cell_type": "code",
   "execution_count": null,
   "metadata": {},
   "outputs": [],
   "source": [
    "\n"
   ]
  },
  {
   "cell_type": "code",
   "execution_count": null,
   "metadata": {},
   "outputs": [],
   "source": [
    "actions.type.unique()\n"
   ]
  },
  {
   "cell_type": "code",
   "execution_count": null,
   "metadata": {},
   "outputs": [],
   "source": [
    "# get id visits where contains at least a select search result or a select suggestion\n",
    "actions[(actions.type == \"select_result\") | (actions.type == \"select_suggestion\")].idVisit.unique()"
   ]
  },
  {
   "cell_type": "code",
   "execution_count": null,
   "metadata": {},
   "outputs": [],
   "source": [
    "actions.idVisit.unique().shape"
   ]
  },
  {
   "cell_type": "code",
   "execution_count": null,
   "metadata": {},
   "outputs": [],
   "source": [
    "id_results = actions[actions.type == \"result_candidates\"].idVisit.unique()"
   ]
  },
  {
   "cell_type": "code",
   "execution_count": null,
   "metadata": {},
   "outputs": [],
   "source": [
    "id_select = actions[actions.type == \"select_result\"].idVisit.unique()"
   ]
  },
  {
   "cell_type": "code",
   "execution_count": null,
   "metadata": {},
   "outputs": [],
   "source": [
    "id_results[:10]"
   ]
  },
  {
   "cell_type": "code",
   "execution_count": null,
   "metadata": {},
   "outputs": [],
   "source": [
    "id_select[:10]"
   ]
  },
  {
   "cell_type": "code",
   "execution_count": null,
   "metadata": {},
   "outputs": [],
   "source": [
    "actions[actions.type == \"select_result\"].res_selection[:1]"
   ]
  },
  {
   "cell_type": "code",
   "execution_count": null,
   "metadata": {},
   "outputs": [],
   "source": [
    "id_results.shape"
   ]
  },
  {
   "cell_type": "markdown",
   "metadata": {},
   "source": [
    "## Suggestions"
   ]
  },
  {
   "cell_type": "code",
   "execution_count": null,
   "metadata": {},
   "outputs": [],
   "source": [
    "# number of suggestions selection vs number of searches"
   ]
  },
  {
   "cell_type": "code",
   "execution_count": null,
   "metadata": {},
   "outputs": [],
   "source": []
  },
  {
   "cell_type": "code",
   "execution_count": null,
   "metadata": {},
   "outputs": [],
   "source": [
    "n_unique_suggestions = actions[(actions.type == \"select_suggestion\")][[\"sugg_selection\", \"idVisit\", \"type\"]].drop_duplicates()\n"
   ]
  },
  {
   "cell_type": "code",
   "execution_count": null,
   "metadata": {},
   "outputs": [],
   "source": [
    "# isolate unique searches (to avoid 'return to search')\n",
    "n_unique_searches = actions[(actions.type == \"search\")][[\"query\", \"idVisit\", \"type\"]].drop_duplicates()\n",
    "# remove random to mark the positive suggestions and only get right number or non suggested\n",
    "non_suggested = n_unique_searches[n_unique_suggestions.shape[0]:]\n",
    "# TODO isolate actual searches without suggestion (not only the count)"
   ]
  },
  {
   "cell_type": "code",
   "execution_count": null,
   "metadata": {},
   "outputs": [],
   "source": [
    "sugg_data = pd.concat([n_unique_suggestions, non_suggested])\n",
    "sugg_data['Search type'] = sugg_data.type.apply(lambda x : 'Recherche suggérée' if x != 'search' else 'Recherche directe')\n",
    "plot = sns.catplot(y=\"Search type\", kind=\"count\", palette=\"ch:.25\", data=sugg_data);\n",
    "plt.subplots_adjust(top=0.9)\n",
    "plot.fig.suptitle(\"Nombre de recherches directes & recherches suggérées\")"
   ]
  },
  {
   "cell_type": "code",
   "execution_count": null,
   "metadata": {},
   "outputs": [],
   "source": [
    "# prefix size"
   ]
  },
  {
   "cell_type": "code",
   "execution_count": null,
   "metadata": {},
   "outputs": [],
   "source": [
    "prefix_size = pd.DataFrame(actions[actions.type=='select_suggestion'].prefix.apply(lambda x : len(x)))\n",
    "prefix_size = prefix_size[prefix_size<50]\n",
    "sns.catplot(x=\"prefix\", kind=\"violin\", data=prefix_size);\n",
    "plt.subplots_adjust(top=0.8)\n",
    "plot.fig.suptitle(\"Longueur du prefix de suggestion.\")"
   ]
  },
  {
   "cell_type": "code",
   "execution_count": null,
   "metadata": {},
   "outputs": [],
   "source": []
  },
  {
   "cell_type": "markdown",
   "metadata": {},
   "source": [
    "## Results selection : check number of : pre-qualified / semantic / fulltext"
   ]
  },
  {
   "cell_type": "code",
   "execution_count": null,
   "metadata": {},
   "outputs": [],
   "source": [
    "def get_type(element, keyword='url'):\n",
    "    #parsed = json.loads(element)\n",
    "    if 'algo' in element:\n",
    "        return element['algo']\n",
    "    elif element[keyword].startswith('http'):\n",
    "        return 'http'\n",
    "    else:\n",
    "        # special case for theme search\n",
    "        t = element[keyword][1:element[keyword].rfind('/')]\n",
    "        if t == 'fiche-service-public' or t == 'fiche-ministere-travail' :\n",
    "            return 'theme'\n",
    "        else:\n",
    "            return t\n",
    "        \n",
    "select_actions = actions[(actions.type == \"select_result\") & (actions.query != \"undefined\")]\n",
    "selection_types = select_actions.res_selection.apply(lambda e : get_type(e))"
   ]
  },
  {
   "cell_type": "code",
   "execution_count": null,
   "metadata": {},
   "outputs": [],
   "source": [
    "st_df = pd.DataFrame({'selection_type':selection_types})\n",
    "st_df[\"search_engine\"] = st_df['selection_type'].apply(lambda x : 'search engine' if x in ['fulltext', 'both', 'semantic'] else x)\n",
    "\n",
    "plot = sns.catplot(y='selection_type', kind=\"count\", data=st_df, order=['both', 'fulltext', 'semantic']);\n",
    "                    #order=['pre-qualified', 'search engine'])\n",
    "\n",
    "plt.subplots_adjust(top=0.9)\n",
    "#plot.fig.suptitle(\"Répartition des selections pre-qualified / moteur de recherche.\")\n",
    "plot.fig.suptitle(\"Répartition des sélections des résultats du moteur de recherche.\")"
   ]
  },
  {
   "cell_type": "code",
   "execution_count": null,
   "metadata": {
    "scrolled": true
   },
   "outputs": [],
   "source": []
  },
  {
   "cell_type": "markdown",
   "metadata": {},
   "source": [
    "## Number of results in candidates for each type"
   ]
  },
  {
   "cell_type": "code",
   "execution_count": null,
   "metadata": {},
   "outputs": [],
   "source": [
    "def read_candidates(cands):\n",
    "    docs = cands['documents']\n",
    "    themes = cands['themes']\n",
    "    \n",
    "    doc_types = [get_type(d, 'slug') for d in docs]\n",
    "    theme_types = [get_type(t, 'slug') for t in themes]\n",
    "    \n",
    "    preq = 'pre-qualified' in doc_types\n",
    "    n_docs = len(doc_types)\n",
    "    \n",
    "    return [preq, n_docs, doc_types, theme_types]\n",
    "    \n",
    "result_candidates_all = actions[actions.type == \"result_candidates\"]    \n",
    "result_candidates = result_candidates_all[result_candidates_all['query'] != 'undefined']\n",
    "parsed_candidates = result_candidates['result_candidates'].apply(lambda cands : read_candidates(cands))\n"
   ]
  },
  {
   "cell_type": "code",
   "execution_count": null,
   "metadata": {},
   "outputs": [],
   "source": [
    "result_candidates_all.shape\n",
    "result_candidates.shape"
   ]
  },
  {
   "cell_type": "code",
   "execution_count": null,
   "metadata": {},
   "outputs": [],
   "source": [
    "parsed_candidates_df = pd.DataFrame(parsed_candidates.tolist(), columns = ['isPreq', 'nDoc', 'doc_types', 'theme_types'])"
   ]
  },
  {
   "cell_type": "code",
   "execution_count": null,
   "metadata": {},
   "outputs": [],
   "source": [
    "parsed_candidates_df[parsed_candidates_df.theme_types.apply(lambda n : len(n)) == 0].shape"
   ]
  },
  {
   "cell_type": "code",
   "execution_count": null,
   "metadata": {},
   "outputs": [],
   "source": [
    "parsed_candidates_df.isPreq\n",
    "\n",
    "plot = sns.catplot(y=\"isPreq\", kind=\"count\", palette=\"ch:.25\", data=parsed_candidates_df);\n",
    "plt.subplots_adjust(top=0.9)\n",
    "plot.fig.suptitle(\"Proportion de recherches prequalifiées\")"
   ]
  },
  {
   "cell_type": "code",
   "execution_count": null,
   "metadata": {
    "scrolled": false
   },
   "outputs": [],
   "source": [
    "#actions[actions.type == \"result_candidates\"][['type', 'query', 'result_candidates']][:30]"
   ]
  },
  {
   "cell_type": "code",
   "execution_count": null,
   "metadata": {},
   "outputs": [],
   "source": [
    "preq_length = parsed_candidates_df[parsed_candidates_df.isPreq].doc_types.apply(lambda x : len(x))"
   ]
  },
  {
   "cell_type": "code",
   "execution_count": null,
   "metadata": {},
   "outputs": [],
   "source": [
    "preq_length_df = pd.DataFrame({'pre-qualified-n-results':preq_length})"
   ]
  },
  {
   "cell_type": "code",
   "execution_count": null,
   "metadata": {},
   "outputs": [],
   "source": [
    "plot = sns.catplot(x=\"pre-qualified-n-results\", kind=\"violin\", data=preq_length_df, aspect=18.7/8.27);\n",
    "plt.subplots_adjust(top=0.8)\n",
    "plot.fig.suptitle(\"Nombre de résultats pour les recherches préqualifiées.\")"
   ]
  },
  {
   "cell_type": "markdown",
   "metadata": {},
   "source": [
    "## check number of results with less than X results"
   ]
  },
  {
   "cell_type": "code",
   "execution_count": null,
   "metadata": {},
   "outputs": [],
   "source": []
  },
  {
   "cell_type": "code",
   "execution_count": null,
   "metadata": {},
   "outputs": [],
   "source": []
  },
  {
   "cell_type": "markdown",
   "metadata": {},
   "source": [
    "## check feedback"
   ]
  },
  {
   "cell_type": "code",
   "execution_count": null,
   "metadata": {},
   "outputs": [],
   "source": [
    "actions[actions.type == 'feedback']\n",
    "plot = sns.catplot(y=\"feedback_type\", kind=\"count\", palette=\"ch:.25\", data=actions[actions.type == 'feedback'], aspect=5.7/3.27);\n",
    "plt.subplots_adjust(top=0.9)\n",
    "plot.fig.suptitle(\"Retours explicites des utilisateurs.\")"
   ]
  },
  {
   "cell_type": "code",
   "execution_count": null,
   "metadata": {
    "scrolled": true
   },
   "outputs": [],
   "source": [
    "neg_visits = actions[actions.feedback_type == 'negative'].idVisit.unique()\n",
    "actions[actions.idVisit == neg_visits[32]]"
   ]
  },
  {
   "cell_type": "markdown",
   "metadata": {},
   "source": [
    "## get most frequent queries (more than 3) to add to suggestions"
   ]
  },
  {
   "cell_type": "code",
   "execution_count": null,
   "metadata": {},
   "outputs": [],
   "source": [
    "n_unique_searches['query'].apply(lambda x: x.lower()).value_counts()[:30]"
   ]
  },
  {
   "cell_type": "code",
   "execution_count": null,
   "metadata": {},
   "outputs": [],
   "source": []
  },
  {
   "cell_type": "markdown",
   "metadata": {},
   "source": [
    "# Print ranks for most frequent suggestion selected"
   ]
  },
  {
   "cell_type": "code",
   "execution_count": null,
   "metadata": {},
   "outputs": [],
   "source": [
    "for e in actions[actions.type=='select_suggestion'].sugg_selection.value_counts()[:50].index.tolist():\n",
    "    print_rangs(e)"
   ]
  },
  {
   "cell_type": "code",
   "execution_count": null,
   "metadata": {},
   "outputs": [],
   "source": []
  },
  {
   "cell_type": "code",
   "execution_count": null,
   "metadata": {
    "scrolled": false
   },
   "outputs": [],
   "source": [
    "print_rangs(\"rupture à l'amiable\")"
   ]
  },
  {
   "cell_type": "code",
   "execution_count": null,
   "metadata": {},
   "outputs": [],
   "source": [
    "# most frequent queries without hit\n",
    "for g, rows in df_searches[df_searches['rank'] == -1].groupby([\"query\"]):\n",
    "    n = rows.shape[0]\n",
    "    if (n > 10):\n",
    "        print(f'{g} -> {n}')"
   ]
  },
  {
   "cell_type": "code",
   "execution_count": null,
   "metadata": {},
   "outputs": [],
   "source": [
    "df_searches.groupby([\"query\"])"
   ]
  },
  {
   "cell_type": "code",
   "execution_count": null,
   "metadata": {},
   "outputs": [],
   "source": [
    "# test : \n",
    "# reordonner les resultats DF de maniere factice et comparer la difference entre les scores"
   ]
  },
  {
   "cell_type": "code",
   "execution_count": null,
   "metadata": {},
   "outputs": [],
   "source": [
    "import requests\n",
    "\n",
    "params = {\n",
    "    \"y_pred\" : [\"b\", \"a\", \"c\", \"w\", \"k\",\"e\"], # y_pred (array): list of documents id predicted by the system\n",
    "    \"y_true\" : [\"a\", \"b\", \"c\", \"e\"], # y_true (array): documents id scored by humans sorted from most relevant to least relevant\n",
    "    \"y_score\" : {\n",
    "        \"a\":15,\n",
    "        \"b\":3,\n",
    "        \"c\":2,\n",
    "        \"e\":2\n",
    "            }, # y_score is a dict {\"doc_id\":\"score\"} of documents assigned as relevant y humans with the associated scores (ordered internally)\n",
    "    \"method\" : \"all\", # one of [\"precision\", \"recall\", \"dcg\", \"mrr\", \"all\"]\n",
    "    \"k\": 4 # k integer preferaly =< to length(y_pred)\n",
    "}\n",
    "\n",
    "r = requests.post(\"http://localhost:4545/api/score\", json = params)\n",
    "r.json()"
   ]
  },
  {
   "cell_type": "markdown",
   "metadata": {},
   "source": [
    "# Synthèse Catherine"
   ]
  },
  {
   "cell_type": "code",
   "execution_count": null,
   "metadata": {},
   "outputs": [],
   "source": [
    "actions.idVisit.unique().shape"
   ]
  },
  {
   "cell_type": "code",
   "execution_count": null,
   "metadata": {},
   "outputs": [],
   "source": [
    "actions.timestamp[:2]"
   ]
  },
  {
   "cell_type": "code",
   "execution_count": null,
   "metadata": {
    "scrolled": true
   },
   "outputs": [],
   "source": [
    "actions[(actions.timestamp > datetime.datetime(2020, 1, 27)) & (actions.timestamp < datetime.datetime(2020, 2, 1))].idVisit.unique().shape"
   ]
  },
  {
   "cell_type": "code",
   "execution_count": null,
   "metadata": {},
   "outputs": [],
   "source": [
    "import datetime\n",
    "\n",
    "x = datetime.datetime(2020, 1, 27)\n",
    "\n",
    "actions_before = actions[actions.timestamp < x]"
   ]
  },
  {
   "cell_type": "code",
   "execution_count": null,
   "metadata": {},
   "outputs": [],
   "source": [
    "actions_before.timeSpent"
   ]
  },
  {
   "cell_type": "code",
   "execution_count": null,
   "metadata": {},
   "outputs": [],
   "source": [
    "def run_stats(data):\n",
    "    visitesUniques = data.idVisit.unique()\n",
    "    print(f\"Visites uniques : {visitesUniques.shape[0]}\")\n",
    "    visitLength = data.groupby([\"idVisit\", \"referrerTypeName\"]).size().reset_index(name='countActions')\n",
    "    survol = visitLength[visitLength.countActions == 1].shape[0] / visitLength.shape[0]\n",
    "    print(f\"Visites survolées : {survol}\")\n",
    "    print(f\"Actions par visite : {visitLength.countActions.mean()}\")\n",
    "    print(f\"Téléchargements : {data[data.type == 'download'].shape[0]}\")\n",
    "    unique_queries = []\n",
    "    for (g,r) in data[data.type == 'search'].groupby([\"idVisit\", \"query\"]):\n",
    "        unique_queries.append(g[1].lower())\n",
    "    print(pd.Series(unique_queries).value_counts()[0:30])"
   ]
  },
  {
   "cell_type": "code",
   "execution_count": null,
   "metadata": {},
   "outputs": [],
   "source": [
    "run_stats(actions)"
   ]
  },
  {
   "cell_type": "code",
   "execution_count": null,
   "metadata": {},
   "outputs": [],
   "source": [
    "actions.type.unique()"
   ]
  },
  {
   "cell_type": "code",
   "execution_count": null,
   "metadata": {},
   "outputs": [],
   "source": [
    "visitLength = actions_before.groupby([\"idVisit\", \"referrerTypeName\"]).size().reset_index(name='countActions')\n",
    "\n",
    "visitLength[visitLength.countActions > 1].countActions.mean()"
   ]
  },
  {
   "cell_type": "code",
   "execution_count": null,
   "metadata": {},
   "outputs": [],
   "source": [
    "#actions_before['query'].apply(lambda x : str(x).lower()).value_counts()[:32]\n"
   ]
  },
  {
   "cell_type": "code",
   "execution_count": null,
   "metadata": {},
   "outputs": [],
   "source": [
    "actions[actions.type == 'visit_content'].shape"
   ]
  },
  {
   "cell_type": "code",
   "execution_count": null,
   "metadata": {},
   "outputs": [],
   "source": []
  }
 ],
 "metadata": {
  "kernelspec": {
   "display_name": "Python 3",
   "language": "python",
   "name": "python3"
  },
  "language_info": {
   "codemirror_mode": {
    "name": "ipython",
    "version": 3
   },
   "file_extension": ".py",
   "mimetype": "text/x-python",
   "name": "python",
   "nbconvert_exporter": "python",
   "pygments_lexer": "ipython3",
   "version": "3.7.3"
  }
 },
 "nbformat": 4,
 "nbformat_minor": 2
}
